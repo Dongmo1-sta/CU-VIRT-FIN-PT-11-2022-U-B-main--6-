{
 "cells": [
  {
   "cell_type": "markdown",
   "metadata": {},
   "source": [
    "# Picture Perfect\n",
    "\n",
    "Still in your role as a data analyst for a video streaming service, you have now been asked by your manager to compare and contrast the revenue numbers by quarter for the various international regions.\n",
    "\n",
    "Be sure to consult the [HvPlot Customization](https://hvplot.holoviz.org/user_guide/Customization.html) page for additional opportunities of aesthetic improvement."
   ]
  },
  {
   "cell_type": "code",
   "execution_count": 18,
   "metadata": {},
   "outputs": [],
   "source": [
    "# Import the required libraries and dependencies\n",
    "import pandas as pd\n",
    "import hvplot.pandas\n",
    "from pathlib import Path"
   ]
  },
  {
   "cell_type": "markdown",
   "metadata": {},
   "source": [
    "## Step 1: Prepare the Regional Revenue DataFrame"
   ]
  },
  {
   "cell_type": "code",
   "execution_count": 19,
   "metadata": {},
   "outputs": [
    {
     "data": {
      "text/html": [
       "<div>\n",
       "<style scoped>\n",
       "    .dataframe tbody tr th:only-of-type {\n",
       "        vertical-align: middle;\n",
       "    }\n",
       "\n",
       "    .dataframe tbody tr th {\n",
       "        vertical-align: top;\n",
       "    }\n",
       "\n",
       "    .dataframe thead th {\n",
       "        text-align: right;\n",
       "    }\n",
       "</style>\n",
       "<table border=\"1\" class=\"dataframe\">\n",
       "  <thead>\n",
       "    <tr style=\"text-align: right;\">\n",
       "      <th></th>\n",
       "      <th>Area</th>\n",
       "      <th>Years</th>\n",
       "      <th>Revenue</th>\n",
       "    </tr>\n",
       "  </thead>\n",
       "  <tbody>\n",
       "    <tr>\n",
       "      <th>0</th>\n",
       "      <td>United States and Canada</td>\n",
       "      <td>Q1 - 2018</td>\n",
       "      <td>1976157000</td>\n",
       "    </tr>\n",
       "    <tr>\n",
       "      <th>1</th>\n",
       "      <td>Europe, Middle East and Africa</td>\n",
       "      <td>Q1 - 2018</td>\n",
       "      <td>886649000</td>\n",
       "    </tr>\n",
       "    <tr>\n",
       "      <th>2</th>\n",
       "      <td>Latin America</td>\n",
       "      <td>Q1 - 2018</td>\n",
       "      <td>540182000</td>\n",
       "    </tr>\n",
       "    <tr>\n",
       "      <th>3</th>\n",
       "      <td>Asia-Pacific</td>\n",
       "      <td>Q1 - 2018</td>\n",
       "      <td>199117000</td>\n",
       "    </tr>\n",
       "    <tr>\n",
       "      <th>4</th>\n",
       "      <td>United States and Canada</td>\n",
       "      <td>Q2 - 2018</td>\n",
       "      <td>2049546000</td>\n",
       "    </tr>\n",
       "  </tbody>\n",
       "</table>\n",
       "</div>"
      ],
      "text/plain": [
       "                             Area      Years     Revenue\n",
       "0        United States and Canada  Q1 - 2018  1976157000\n",
       "1  Europe, Middle East and Africa  Q1 - 2018   886649000\n",
       "2                   Latin America  Q1 - 2018   540182000\n",
       "3                    Asia-Pacific  Q1 - 2018   199117000\n",
       "4        United States and Canada  Q2 - 2018  2049546000"
      ]
     },
     "execution_count": 19,
     "metadata": {},
     "output_type": "execute_result"
    }
   ],
   "source": [
    "# Read in regional_revenue.csv file into a Pandas DataFrame\n",
    "regional_revenue_df = pd.read_csv(Path(\"../Resources/regional_revenue.csv\"))\n",
    "\n",
    "# Review the DataFrame\n",
    "regional_revenue_df.head()"
   ]
  },
  {
   "cell_type": "markdown",
   "metadata": {},
   "source": [
    "## Step 2: Create a plot that visualizes the growth in revenue for the United States and Canada"
   ]
  },
  {
   "cell_type": "code",
   "execution_count": 20,
   "metadata": {},
   "outputs": [
    {
     "data": {},
     "metadata": {},
     "output_type": "display_data"
    },
    {
     "data": {
      "application/vnd.holoviews_exec.v0+json": "",
      "text/html": [
       "<div id='2909'>\n",
       "\n",
       "\n",
       "\n",
       "\n",
       "\n",
       "  <div class=\"bk-root\" id=\"10eefc4d-bb32-4da8-b8aa-54188b66508c\" data-root-id=\"2909\"></div>\n",
       "</div>\n",
       "<script type=\"application/javascript\">(function(root) {\n",
       "  function embed_document(root) {\n",
       "    var docs_json = {\"ffec4670-64bf-4198-aad1-c9d5ed0cd301\":{\"defs\":[{\"extends\":null,\"module\":null,\"name\":\"ReactiveHTML1\",\"overrides\":[],\"properties\":[]},{\"extends\":null,\"module\":null,\"name\":\"FlexBox1\",\"overrides\":[],\"properties\":[{\"default\":\"flex-start\",\"kind\":null,\"name\":\"align_content\"},{\"default\":\"flex-start\",\"kind\":null,\"name\":\"align_items\"},{\"default\":\"row\",\"kind\":null,\"name\":\"flex_direction\"},{\"default\":\"wrap\",\"kind\":null,\"name\":\"flex_wrap\"},{\"default\":\"flex-start\",\"kind\":null,\"name\":\"justify_content\"}]},{\"extends\":null,\"module\":null,\"name\":\"GridStack1\",\"overrides\":[],\"properties\":[{\"default\":\"warn\",\"kind\":null,\"name\":\"mode\"},{\"default\":null,\"kind\":null,\"name\":\"ncols\"},{\"default\":null,\"kind\":null,\"name\":\"nrows\"},{\"default\":true,\"kind\":null,\"name\":\"allow_resize\"},{\"default\":true,\"kind\":null,\"name\":\"allow_drag\"},{\"default\":[],\"kind\":null,\"name\":\"state\"}]},{\"extends\":null,\"module\":null,\"name\":\"click1\",\"overrides\":[],\"properties\":[{\"default\":\"\",\"kind\":null,\"name\":\"terminal_output\"},{\"default\":\"\",\"kind\":null,\"name\":\"debug_name\"},{\"default\":0,\"kind\":null,\"name\":\"clears\"}]},{\"extends\":null,\"module\":null,\"name\":\"TemplateActions1\",\"overrides\":[],\"properties\":[{\"default\":0,\"kind\":null,\"name\":\"open_modal\"},{\"default\":0,\"kind\":null,\"name\":\"close_modal\"}]},{\"extends\":null,\"module\":null,\"name\":\"MaterialTemplateActions1\",\"overrides\":[],\"properties\":[{\"default\":0,\"kind\":null,\"name\":\"open_modal\"},{\"default\":0,\"kind\":null,\"name\":\"close_modal\"}]}],\"roots\":{\"references\":[{\"attributes\":{\"line_alpha\":0.2,\"line_color\":\"#30a2da\",\"line_width\":2,\"x\":{\"field\":\"Years\"},\"y\":{\"field\":\"Revenue\"}},\"id\":\"2948\",\"type\":\"Line\"},{\"attributes\":{},\"id\":\"2932\",\"type\":\"WheelZoomTool\"},{\"attributes\":{\"coordinates\":null,\"group\":null,\"text\":\"Revenue\",\"text_color\":\"black\",\"text_font_size\":\"12pt\"},\"id\":\"2915\",\"type\":\"Title\"},{\"attributes\":{},\"id\":\"2957\",\"type\":\"AllLabels\"},{\"attributes\":{\"margin\":[5,5,5,5],\"name\":\"HSpacer05170\",\"sizing_mode\":\"stretch_width\"},\"id\":\"2978\",\"type\":\"Spacer\"},{\"attributes\":{\"overlay\":{\"id\":\"2935\"}},\"id\":\"2933\",\"type\":\"BoxZoomTool\"},{\"attributes\":{\"axis\":{\"id\":\"2926\"},\"coordinates\":null,\"dimension\":1,\"grid_line_color\":null,\"group\":null,\"ticker\":null},\"id\":\"2929\",\"type\":\"Grid\"},{\"attributes\":{},\"id\":\"2953\",\"type\":\"CategoricalTickFormatter\"},{\"attributes\":{\"end\":2926021300.0,\"reset_end\":2926021300.0,\"reset_start\":1889805700.0,\"start\":1889805700.0,\"tags\":[[[\"Revenue\",\"Revenue\",null]]]},\"id\":\"2912\",\"type\":\"Range1d\"},{\"attributes\":{\"children\":[{\"id\":\"2910\"},{\"id\":\"2914\"},{\"id\":\"2978\"}],\"margin\":[0,0,0,0],\"name\":\"Row05165\",\"tags\":[\"embedded\"]},\"id\":\"2909\",\"type\":\"Row\"},{\"attributes\":{},\"id\":\"2919\",\"type\":\"CategoricalScale\"},{\"attributes\":{},\"id\":\"2944\",\"type\":\"Selection\"},{\"attributes\":{\"axis\":{\"id\":\"2923\"},\"coordinates\":null,\"grid_line_color\":null,\"group\":null,\"ticker\":null},\"id\":\"2925\",\"type\":\"Grid\"},{\"attributes\":{},\"id\":\"2934\",\"type\":\"ResetTool\"},{\"attributes\":{\"coordinates\":null,\"data_source\":{\"id\":\"2943\"},\"glyph\":{\"id\":\"2946\"},\"group\":null,\"hover_glyph\":null,\"muted_glyph\":{\"id\":\"2948\"},\"nonselection_glyph\":{\"id\":\"2947\"},\"selection_glyph\":{\"id\":\"2951\"},\"view\":{\"id\":\"2950\"}},\"id\":\"2949\",\"type\":\"GlyphRenderer\"},{\"attributes\":{\"data\":{\"Revenue\":[1976157000,2049546000,2094850000,2160979000,2256851000,2501199000,2621250000,2671908000,2702776000,2839670000],\"Years\":[\"Q1 - 2018\",\"Q2 - 2018\",\"Q3 - 2018\",\"Q4 - 2018\",\"Q1 - 2019\",\"Q2 - 2019\",\"Q3 - 2019\",\"Q4 - 2019\",\"Q1 - 2020\",\"Q2 - 2020\"]},\"selected\":{\"id\":\"2944\"},\"selection_policy\":{\"id\":\"2965\"}},\"id\":\"2943\",\"type\":\"ColumnDataSource\"},{\"attributes\":{\"line_color\":\"#30a2da\",\"line_width\":2,\"x\":{\"field\":\"Years\"},\"y\":{\"field\":\"Revenue\"}},\"id\":\"2951\",\"type\":\"Line\"},{\"attributes\":{\"below\":[{\"id\":\"2923\"}],\"center\":[{\"id\":\"2925\"},{\"id\":\"2929\"}],\"height\":300,\"left\":[{\"id\":\"2926\"}],\"margin\":[5,5,5,5],\"min_border_bottom\":10,\"min_border_left\":10,\"min_border_right\":10,\"min_border_top\":10,\"renderers\":[{\"id\":\"2949\"}],\"sizing_mode\":\"fixed\",\"title\":{\"id\":\"2915\"},\"toolbar\":{\"id\":\"2936\"},\"width\":700,\"x_range\":{\"id\":\"2911\"},\"x_scale\":{\"id\":\"2919\"},\"y_range\":{\"id\":\"2912\"},\"y_scale\":{\"id\":\"2921\"}},\"id\":\"2914\",\"subtype\":\"Figure\",\"type\":\"Plot\"},{\"attributes\":{\"line_color\":\"#30a2da\",\"line_width\":2,\"x\":{\"field\":\"Years\"},\"y\":{\"field\":\"Revenue\"}},\"id\":\"2946\",\"type\":\"Line\"},{\"attributes\":{\"bottom_units\":\"screen\",\"coordinates\":null,\"fill_alpha\":0.5,\"fill_color\":\"lightgrey\",\"group\":null,\"left_units\":\"screen\",\"level\":\"overlay\",\"line_alpha\":1.0,\"line_color\":\"black\",\"line_dash\":[4,4],\"line_width\":2,\"right_units\":\"screen\",\"syncable\":false,\"top_units\":\"screen\"},\"id\":\"2935\",\"type\":\"BoxAnnotation\"},{\"attributes\":{},\"id\":\"2954\",\"type\":\"AllLabels\"},{\"attributes\":{},\"id\":\"2921\",\"type\":\"LinearScale\"},{\"attributes\":{\"axis_label\":\"Years\",\"coordinates\":null,\"formatter\":{\"id\":\"2953\"},\"group\":null,\"major_label_policy\":{\"id\":\"2954\"},\"ticker\":{\"id\":\"2924\"}},\"id\":\"2923\",\"type\":\"CategoricalAxis\"},{\"attributes\":{\"callback\":null,\"renderers\":[{\"id\":\"2949\"}],\"tags\":[\"hv_created\"],\"tooltips\":[[\"Years\",\"@{Years}\"],[\"Revenue\",\"@{Revenue}\"]]},\"id\":\"2913\",\"type\":\"HoverTool\"},{\"attributes\":{},\"id\":\"2927\",\"type\":\"BasicTicker\"},{\"attributes\":{\"axis_label\":\"\",\"coordinates\":null,\"formatter\":{\"id\":\"2956\"},\"group\":null,\"major_label_policy\":{\"id\":\"2957\"},\"ticker\":{\"id\":\"2927\"}},\"id\":\"2926\",\"type\":\"LinearAxis\"},{\"attributes\":{\"margin\":[5,5,5,5],\"name\":\"HSpacer05169\",\"sizing_mode\":\"stretch_width\"},\"id\":\"2910\",\"type\":\"Spacer\"},{\"attributes\":{\"source\":{\"id\":\"2943\"}},\"id\":\"2950\",\"type\":\"CDSView\"},{\"attributes\":{},\"id\":\"2956\",\"type\":\"BasicTickFormatter\"},{\"attributes\":{\"line_alpha\":0.1,\"line_color\":\"#30a2da\",\"line_width\":2,\"x\":{\"field\":\"Years\"},\"y\":{\"field\":\"Revenue\"}},\"id\":\"2947\",\"type\":\"Line\"},{\"attributes\":{\"factors\":[\"Q1 - 2018\",\"Q2 - 2018\",\"Q3 - 2018\",\"Q4 - 2018\",\"Q1 - 2019\",\"Q2 - 2019\",\"Q3 - 2019\",\"Q4 - 2019\",\"Q1 - 2020\",\"Q2 - 2020\"],\"tags\":[[[\"Years\",\"Years\",null]]]},\"id\":\"2911\",\"type\":\"FactorRange\"},{\"attributes\":{\"tools\":[{\"id\":\"2913\"},{\"id\":\"2930\"},{\"id\":\"2931\"},{\"id\":\"2932\"},{\"id\":\"2933\"},{\"id\":\"2934\"}]},\"id\":\"2936\",\"type\":\"Toolbar\"},{\"attributes\":{},\"id\":\"2930\",\"type\":\"SaveTool\"},{\"attributes\":{},\"id\":\"2965\",\"type\":\"UnionRenderers\"},{\"attributes\":{},\"id\":\"2924\",\"type\":\"CategoricalTicker\"},{\"attributes\":{},\"id\":\"2931\",\"type\":\"PanTool\"}],\"root_ids\":[\"2909\"]},\"title\":\"Bokeh Application\",\"version\":\"2.4.2\"}};\n",
       "    var render_items = [{\"docid\":\"ffec4670-64bf-4198-aad1-c9d5ed0cd301\",\"root_ids\":[\"2909\"],\"roots\":{\"2909\":\"10eefc4d-bb32-4da8-b8aa-54188b66508c\"}}];\n",
       "    root.Bokeh.embed.embed_items_notebook(docs_json, render_items);\n",
       "  }\n",
       "  if (root.Bokeh !== undefined && root.Bokeh.Panel !== undefined) {\n",
       "    embed_document(root);\n",
       "  } else {\n",
       "    var attempts = 0;\n",
       "    var timer = setInterval(function(root) {\n",
       "      if (root.Bokeh !== undefined && root.Bokeh.Panel !== undefined) {\n",
       "        clearInterval(timer);\n",
       "        embed_document(root);\n",
       "      } else if (document.readyState == \"complete\") {\n",
       "        attempts++;\n",
       "        if (attempts > 200) {\n",
       "          clearInterval(timer);\n",
       "          console.log(\"Bokeh: ERROR: Unable to run BokehJS code because BokehJS library is missing\");\n",
       "        }\n",
       "      }\n",
       "    }, 25, root)\n",
       "  }\n",
       "})(window);</script>"
      ],
      "text/plain": [
       ":Curve   [Years]   (Revenue)"
      ]
     },
     "execution_count": 20,
     "metadata": {
      "application/vnd.holoviews_exec.v0+json": {
       "id": "2909"
      }
     },
     "output_type": "execute_result"
    }
   ],
   "source": [
    "# Create a DataFrame that slices the subscriber data for the United States and Canada\n",
    "us_canada_revenue = regional_revenue_df.loc[regional_revenue_df['Area'] == 'United States and Canada']\n",
    "\n",
    "# Set the index of the DataFrame to Years\n",
    "us_canada_revenue = us_canada_revenue.set_index('Years')\n",
    "\n",
    "# Create a line plot of the US and Canada Revenue data\n",
    "us_canada_revenue['Revenue'].hvplot()\n"
   ]
  },
  {
   "cell_type": "markdown",
   "metadata": {},
   "source": [
    "## Step 3: Add x- and y-axis labels to your plot. Rotate the x-axis plot ticks 45 degrees."
   ]
  },
  {
   "cell_type": "code",
   "execution_count": 21,
   "metadata": {},
   "outputs": [
    {
     "data": {},
     "metadata": {},
     "output_type": "display_data"
    },
    {
     "data": {
      "application/vnd.holoviews_exec.v0+json": "",
      "text/html": [
       "<div id='3030'>\n",
       "\n",
       "\n",
       "\n",
       "\n",
       "\n",
       "  <div class=\"bk-root\" id=\"96adc18e-f81a-4b5a-b0ea-11f415e561ff\" data-root-id=\"3030\"></div>\n",
       "</div>\n",
       "<script type=\"application/javascript\">(function(root) {\n",
       "  function embed_document(root) {\n",
       "    var docs_json = {\"133e7c65-4e46-42f8-9412-342b2d39afae\":{\"defs\":[{\"extends\":null,\"module\":null,\"name\":\"ReactiveHTML1\",\"overrides\":[],\"properties\":[]},{\"extends\":null,\"module\":null,\"name\":\"FlexBox1\",\"overrides\":[],\"properties\":[{\"default\":\"flex-start\",\"kind\":null,\"name\":\"align_content\"},{\"default\":\"flex-start\",\"kind\":null,\"name\":\"align_items\"},{\"default\":\"row\",\"kind\":null,\"name\":\"flex_direction\"},{\"default\":\"wrap\",\"kind\":null,\"name\":\"flex_wrap\"},{\"default\":\"flex-start\",\"kind\":null,\"name\":\"justify_content\"}]},{\"extends\":null,\"module\":null,\"name\":\"GridStack1\",\"overrides\":[],\"properties\":[{\"default\":\"warn\",\"kind\":null,\"name\":\"mode\"},{\"default\":null,\"kind\":null,\"name\":\"ncols\"},{\"default\":null,\"kind\":null,\"name\":\"nrows\"},{\"default\":true,\"kind\":null,\"name\":\"allow_resize\"},{\"default\":true,\"kind\":null,\"name\":\"allow_drag\"},{\"default\":[],\"kind\":null,\"name\":\"state\"}]},{\"extends\":null,\"module\":null,\"name\":\"click1\",\"overrides\":[],\"properties\":[{\"default\":\"\",\"kind\":null,\"name\":\"terminal_output\"},{\"default\":\"\",\"kind\":null,\"name\":\"debug_name\"},{\"default\":0,\"kind\":null,\"name\":\"clears\"}]},{\"extends\":null,\"module\":null,\"name\":\"TemplateActions1\",\"overrides\":[],\"properties\":[{\"default\":0,\"kind\":null,\"name\":\"open_modal\"},{\"default\":0,\"kind\":null,\"name\":\"close_modal\"}]},{\"extends\":null,\"module\":null,\"name\":\"MaterialTemplateActions1\",\"overrides\":[],\"properties\":[{\"default\":0,\"kind\":null,\"name\":\"open_modal\"},{\"default\":0,\"kind\":null,\"name\":\"close_modal\"}]}],\"roots\":{\"references\":[{\"attributes\":{},\"id\":\"3051\",\"type\":\"SaveTool\"},{\"attributes\":{\"coordinates\":null,\"group\":null,\"text\":\"Revenue\",\"text_color\":\"black\",\"text_font_size\":\"12pt\"},\"id\":\"3036\",\"type\":\"Title\"},{\"attributes\":{},\"id\":\"3055\",\"type\":\"ResetTool\"},{\"attributes\":{\"line_alpha\":0.2,\"line_color\":\"#30a2da\",\"line_width\":2,\"x\":{\"field\":\"Years\"},\"y\":{\"field\":\"Revenue\"}},\"id\":\"3069\",\"type\":\"Line\"},{\"attributes\":{},\"id\":\"3040\",\"type\":\"CategoricalScale\"},{\"attributes\":{\"line_alpha\":0.1,\"line_color\":\"#30a2da\",\"line_width\":2,\"x\":{\"field\":\"Years\"},\"y\":{\"field\":\"Revenue\"}},\"id\":\"3068\",\"type\":\"Line\"},{\"attributes\":{},\"id\":\"3078\",\"type\":\"AllLabels\"},{\"attributes\":{},\"id\":\"3074\",\"type\":\"CategoricalTickFormatter\"},{\"attributes\":{\"coordinates\":null,\"data_source\":{\"id\":\"3064\"},\"glyph\":{\"id\":\"3067\"},\"group\":null,\"hover_glyph\":null,\"muted_glyph\":{\"id\":\"3069\"},\"nonselection_glyph\":{\"id\":\"3068\"},\"selection_glyph\":{\"id\":\"3072\"},\"view\":{\"id\":\"3071\"}},\"id\":\"3070\",\"type\":\"GlyphRenderer\"},{\"attributes\":{\"tools\":[{\"id\":\"3034\"},{\"id\":\"3051\"},{\"id\":\"3052\"},{\"id\":\"3053\"},{\"id\":\"3054\"},{\"id\":\"3055\"}]},\"id\":\"3057\",\"type\":\"Toolbar\"},{\"attributes\":{\"factors\":[\"Q1 - 2018\",\"Q2 - 2018\",\"Q3 - 2018\",\"Q4 - 2018\",\"Q1 - 2019\",\"Q2 - 2019\",\"Q3 - 2019\",\"Q4 - 2019\",\"Q1 - 2020\",\"Q2 - 2020\"],\"tags\":[[[\"Years\",\"Years\",null]]]},\"id\":\"3032\",\"type\":\"FactorRange\"},{\"attributes\":{\"end\":2926021300.0,\"reset_end\":2926021300.0,\"reset_start\":1889805700.0,\"start\":1889805700.0,\"tags\":[[[\"Revenue\",\"Revenue\",null]]]},\"id\":\"3033\",\"type\":\"Range1d\"},{\"attributes\":{\"axis_label\":\"Revenue\",\"coordinates\":null,\"formatter\":{\"id\":\"3077\"},\"group\":null,\"major_label_policy\":{\"id\":\"3078\"},\"ticker\":{\"id\":\"3048\"}},\"id\":\"3047\",\"type\":\"LinearAxis\"},{\"attributes\":{\"line_color\":\"#30a2da\",\"line_width\":2,\"x\":{\"field\":\"Years\"},\"y\":{\"field\":\"Revenue\"}},\"id\":\"3067\",\"type\":\"Line\"},{\"attributes\":{\"margin\":[5,5,5,5],\"name\":\"HSpacer05349\",\"sizing_mode\":\"stretch_width\"},\"id\":\"3099\",\"type\":\"Spacer\"},{\"attributes\":{},\"id\":\"3042\",\"type\":\"LinearScale\"},{\"attributes\":{\"source\":{\"id\":\"3064\"}},\"id\":\"3071\",\"type\":\"CDSView\"},{\"attributes\":{\"data\":{\"Revenue\":[1976157000,2049546000,2094850000,2160979000,2256851000,2501199000,2621250000,2671908000,2702776000,2839670000],\"Years\":[\"Q1 - 2018\",\"Q2 - 2018\",\"Q3 - 2018\",\"Q4 - 2018\",\"Q1 - 2019\",\"Q2 - 2019\",\"Q3 - 2019\",\"Q4 - 2019\",\"Q1 - 2020\",\"Q2 - 2020\"]},\"selected\":{\"id\":\"3065\"},\"selection_policy\":{\"id\":\"3086\"}},\"id\":\"3064\",\"type\":\"ColumnDataSource\"},{\"attributes\":{},\"id\":\"3075\",\"type\":\"AllLabels\"},{\"attributes\":{\"axis\":{\"id\":\"3044\"},\"coordinates\":null,\"grid_line_color\":null,\"group\":null,\"ticker\":null},\"id\":\"3046\",\"type\":\"Grid\"},{\"attributes\":{\"axis\":{\"id\":\"3047\"},\"coordinates\":null,\"dimension\":1,\"grid_line_color\":null,\"group\":null,\"ticker\":null},\"id\":\"3050\",\"type\":\"Grid\"},{\"attributes\":{},\"id\":\"3077\",\"type\":\"BasicTickFormatter\"},{\"attributes\":{\"overlay\":{\"id\":\"3056\"}},\"id\":\"3054\",\"type\":\"BoxZoomTool\"},{\"attributes\":{\"callback\":null,\"renderers\":[{\"id\":\"3070\"}],\"tags\":[\"hv_created\"],\"tooltips\":[[\"Years\",\"@{Years}\"],[\"Revenue\",\"@{Revenue}\"]]},\"id\":\"3034\",\"type\":\"HoverTool\"},{\"attributes\":{},\"id\":\"3045\",\"type\":\"CategoricalTicker\"},{\"attributes\":{},\"id\":\"3086\",\"type\":\"UnionRenderers\"},{\"attributes\":{\"below\":[{\"id\":\"3044\"}],\"center\":[{\"id\":\"3046\"},{\"id\":\"3050\"}],\"height\":300,\"left\":[{\"id\":\"3047\"}],\"margin\":[5,5,5,5],\"min_border_bottom\":10,\"min_border_left\":10,\"min_border_right\":10,\"min_border_top\":10,\"renderers\":[{\"id\":\"3070\"}],\"sizing_mode\":\"fixed\",\"title\":{\"id\":\"3036\"},\"toolbar\":{\"id\":\"3057\"},\"width\":700,\"x_range\":{\"id\":\"3032\"},\"x_scale\":{\"id\":\"3040\"},\"y_range\":{\"id\":\"3033\"},\"y_scale\":{\"id\":\"3042\"}},\"id\":\"3035\",\"subtype\":\"Figure\",\"type\":\"Plot\"},{\"attributes\":{\"bottom_units\":\"screen\",\"coordinates\":null,\"fill_alpha\":0.5,\"fill_color\":\"lightgrey\",\"group\":null,\"left_units\":\"screen\",\"level\":\"overlay\",\"line_alpha\":1.0,\"line_color\":\"black\",\"line_dash\":[4,4],\"line_width\":2,\"right_units\":\"screen\",\"syncable\":false,\"top_units\":\"screen\"},\"id\":\"3056\",\"type\":\"BoxAnnotation\"},{\"attributes\":{},\"id\":\"3052\",\"type\":\"PanTool\"},{\"attributes\":{\"axis_label\":\"Revenue Periods\",\"coordinates\":null,\"formatter\":{\"id\":\"3074\"},\"group\":null,\"major_label_orientation\":0.7853981633974483,\"major_label_policy\":{\"id\":\"3075\"},\"ticker\":{\"id\":\"3045\"}},\"id\":\"3044\",\"type\":\"CategoricalAxis\"},{\"attributes\":{\"line_color\":\"#30a2da\",\"line_width\":2,\"x\":{\"field\":\"Years\"},\"y\":{\"field\":\"Revenue\"}},\"id\":\"3072\",\"type\":\"Line\"},{\"attributes\":{},\"id\":\"3048\",\"type\":\"BasicTicker\"},{\"attributes\":{\"margin\":[5,5,5,5],\"name\":\"HSpacer05348\",\"sizing_mode\":\"stretch_width\"},\"id\":\"3031\",\"type\":\"Spacer\"},{\"attributes\":{},\"id\":\"3065\",\"type\":\"Selection\"},{\"attributes\":{},\"id\":\"3053\",\"type\":\"WheelZoomTool\"},{\"attributes\":{\"children\":[{\"id\":\"3031\"},{\"id\":\"3035\"},{\"id\":\"3099\"}],\"margin\":[0,0,0,0],\"name\":\"Row05344\",\"tags\":[\"embedded\"]},\"id\":\"3030\",\"type\":\"Row\"}],\"root_ids\":[\"3030\"]},\"title\":\"Bokeh Application\",\"version\":\"2.4.2\"}};\n",
       "    var render_items = [{\"docid\":\"133e7c65-4e46-42f8-9412-342b2d39afae\",\"root_ids\":[\"3030\"],\"roots\":{\"3030\":\"96adc18e-f81a-4b5a-b0ea-11f415e561ff\"}}];\n",
       "    root.Bokeh.embed.embed_items_notebook(docs_json, render_items);\n",
       "  }\n",
       "  if (root.Bokeh !== undefined && root.Bokeh.Panel !== undefined) {\n",
       "    embed_document(root);\n",
       "  } else {\n",
       "    var attempts = 0;\n",
       "    var timer = setInterval(function(root) {\n",
       "      if (root.Bokeh !== undefined && root.Bokeh.Panel !== undefined) {\n",
       "        clearInterval(timer);\n",
       "        embed_document(root);\n",
       "      } else if (document.readyState == \"complete\") {\n",
       "        attempts++;\n",
       "        if (attempts > 200) {\n",
       "          clearInterval(timer);\n",
       "          console.log(\"Bokeh: ERROR: Unable to run BokehJS code because BokehJS library is missing\");\n",
       "        }\n",
       "      }\n",
       "    }, 25, root)\n",
       "  }\n",
       "})(window);</script>"
      ],
      "text/plain": [
       ":Curve   [Years]   (Revenue)"
      ]
     },
     "execution_count": 21,
     "metadata": {
      "application/vnd.holoviews_exec.v0+json": {
       "id": "3030"
      }
     },
     "output_type": "execute_result"
    }
   ],
   "source": [
    "# Rotate the x-axis ticks by 45 degrees and add x- and y-axis labels to the plot\n",
    "us_canada_revenue['Revenue'].hvplot(\n",
    "    xlabel=\"Revenue Periods\",\n",
    "    ylabel=\"Revenue\", \n",
    "    rot=45\n",
    ")"
   ]
  },
  {
   "cell_type": "markdown",
   "metadata": {},
   "source": [
    "## Step 4:  Add a title to the US and Canada revenue plot\n"
   ]
  },
  {
   "cell_type": "code",
   "execution_count": 22,
   "metadata": {},
   "outputs": [
    {
     "data": {},
     "metadata": {},
     "output_type": "display_data"
    },
    {
     "data": {
      "application/vnd.holoviews_exec.v0+json": "",
      "text/html": [
       "<div id='3151'>\n",
       "\n",
       "\n",
       "\n",
       "\n",
       "\n",
       "  <div class=\"bk-root\" id=\"d439f414-d276-42b6-9e41-0c65d34a37ff\" data-root-id=\"3151\"></div>\n",
       "</div>\n",
       "<script type=\"application/javascript\">(function(root) {\n",
       "  function embed_document(root) {\n",
       "    var docs_json = {\"4329ad54-dccf-4b0d-a068-fb2b1b121801\":{\"defs\":[{\"extends\":null,\"module\":null,\"name\":\"ReactiveHTML1\",\"overrides\":[],\"properties\":[]},{\"extends\":null,\"module\":null,\"name\":\"FlexBox1\",\"overrides\":[],\"properties\":[{\"default\":\"flex-start\",\"kind\":null,\"name\":\"align_content\"},{\"default\":\"flex-start\",\"kind\":null,\"name\":\"align_items\"},{\"default\":\"row\",\"kind\":null,\"name\":\"flex_direction\"},{\"default\":\"wrap\",\"kind\":null,\"name\":\"flex_wrap\"},{\"default\":\"flex-start\",\"kind\":null,\"name\":\"justify_content\"}]},{\"extends\":null,\"module\":null,\"name\":\"GridStack1\",\"overrides\":[],\"properties\":[{\"default\":\"warn\",\"kind\":null,\"name\":\"mode\"},{\"default\":null,\"kind\":null,\"name\":\"ncols\"},{\"default\":null,\"kind\":null,\"name\":\"nrows\"},{\"default\":true,\"kind\":null,\"name\":\"allow_resize\"},{\"default\":true,\"kind\":null,\"name\":\"allow_drag\"},{\"default\":[],\"kind\":null,\"name\":\"state\"}]},{\"extends\":null,\"module\":null,\"name\":\"click1\",\"overrides\":[],\"properties\":[{\"default\":\"\",\"kind\":null,\"name\":\"terminal_output\"},{\"default\":\"\",\"kind\":null,\"name\":\"debug_name\"},{\"default\":0,\"kind\":null,\"name\":\"clears\"}]},{\"extends\":null,\"module\":null,\"name\":\"TemplateActions1\",\"overrides\":[],\"properties\":[{\"default\":0,\"kind\":null,\"name\":\"open_modal\"},{\"default\":0,\"kind\":null,\"name\":\"close_modal\"}]},{\"extends\":null,\"module\":null,\"name\":\"MaterialTemplateActions1\",\"overrides\":[],\"properties\":[{\"default\":0,\"kind\":null,\"name\":\"open_modal\"},{\"default\":0,\"kind\":null,\"name\":\"close_modal\"}]}],\"roots\":{\"references\":[{\"attributes\":{},\"id\":\"3195\",\"type\":\"CategoricalTickFormatter\"},{\"attributes\":{\"source\":{\"id\":\"3185\"}},\"id\":\"3192\",\"type\":\"CDSView\"},{\"attributes\":{\"bottom_units\":\"screen\",\"coordinates\":null,\"fill_alpha\":0.5,\"fill_color\":\"lightgrey\",\"group\":null,\"left_units\":\"screen\",\"level\":\"overlay\",\"line_alpha\":1.0,\"line_color\":\"black\",\"line_dash\":[4,4],\"line_width\":2,\"right_units\":\"screen\",\"syncable\":false,\"top_units\":\"screen\"},\"id\":\"3177\",\"type\":\"BoxAnnotation\"},{\"attributes\":{\"line_alpha\":0.2,\"line_color\":\"#30a2da\",\"line_width\":2,\"x\":{\"field\":\"Years\"},\"y\":{\"field\":\"Revenue\"}},\"id\":\"3190\",\"type\":\"Line\"},{\"attributes\":{\"coordinates\":null,\"group\":null,\"text\":\"United States and Canada Revenue - Q1 2018 through Q2 2020\",\"text_color\":\"black\",\"text_font_size\":\"12pt\"},\"id\":\"3157\",\"type\":\"Title\"},{\"attributes\":{},\"id\":\"3174\",\"type\":\"WheelZoomTool\"},{\"attributes\":{\"line_color\":\"#30a2da\",\"line_width\":2,\"x\":{\"field\":\"Years\"},\"y\":{\"field\":\"Revenue\"}},\"id\":\"3188\",\"type\":\"Line\"},{\"attributes\":{\"overlay\":{\"id\":\"3177\"}},\"id\":\"3175\",\"type\":\"BoxZoomTool\"},{\"attributes\":{},\"id\":\"3169\",\"type\":\"BasicTicker\"},{\"attributes\":{},\"id\":\"3161\",\"type\":\"CategoricalScale\"},{\"attributes\":{\"line_alpha\":0.1,\"line_color\":\"#30a2da\",\"line_width\":2,\"x\":{\"field\":\"Years\"},\"y\":{\"field\":\"Revenue\"}},\"id\":\"3189\",\"type\":\"Line\"},{\"attributes\":{\"tools\":[{\"id\":\"3155\"},{\"id\":\"3172\"},{\"id\":\"3173\"},{\"id\":\"3174\"},{\"id\":\"3175\"},{\"id\":\"3176\"}]},\"id\":\"3178\",\"type\":\"Toolbar\"},{\"attributes\":{\"callback\":null,\"renderers\":[{\"id\":\"3191\"}],\"tags\":[\"hv_created\"],\"tooltips\":[[\"Years\",\"@{Years}\"],[\"Revenue\",\"@{Revenue}\"]]},\"id\":\"3155\",\"type\":\"HoverTool\"},{\"attributes\":{\"below\":[{\"id\":\"3165\"}],\"center\":[{\"id\":\"3167\"},{\"id\":\"3171\"}],\"height\":300,\"left\":[{\"id\":\"3168\"}],\"margin\":[5,5,5,5],\"min_border_bottom\":10,\"min_border_left\":10,\"min_border_right\":10,\"min_border_top\":10,\"renderers\":[{\"id\":\"3191\"}],\"sizing_mode\":\"fixed\",\"title\":{\"id\":\"3157\"},\"toolbar\":{\"id\":\"3178\"},\"width\":700,\"x_range\":{\"id\":\"3153\"},\"x_scale\":{\"id\":\"3161\"},\"y_range\":{\"id\":\"3154\"},\"y_scale\":{\"id\":\"3163\"}},\"id\":\"3156\",\"subtype\":\"Figure\",\"type\":\"Plot\"},{\"attributes\":{\"axis_label\":\"Revenue Periods\",\"coordinates\":null,\"formatter\":{\"id\":\"3195\"},\"group\":null,\"major_label_orientation\":0.7853981633974483,\"major_label_policy\":{\"id\":\"3196\"},\"ticker\":{\"id\":\"3166\"}},\"id\":\"3165\",\"type\":\"CategoricalAxis\"},{\"attributes\":{\"axis\":{\"id\":\"3168\"},\"coordinates\":null,\"dimension\":1,\"grid_line_color\":null,\"group\":null,\"ticker\":null},\"id\":\"3171\",\"type\":\"Grid\"},{\"attributes\":{},\"id\":\"3186\",\"type\":\"Selection\"},{\"attributes\":{},\"id\":\"3207\",\"type\":\"UnionRenderers\"},{\"attributes\":{},\"id\":\"3176\",\"type\":\"ResetTool\"},{\"attributes\":{},\"id\":\"3199\",\"type\":\"AllLabels\"},{\"attributes\":{\"coordinates\":null,\"data_source\":{\"id\":\"3185\"},\"glyph\":{\"id\":\"3188\"},\"group\":null,\"hover_glyph\":null,\"muted_glyph\":{\"id\":\"3190\"},\"nonselection_glyph\":{\"id\":\"3189\"},\"selection_glyph\":{\"id\":\"3193\"},\"view\":{\"id\":\"3192\"}},\"id\":\"3191\",\"type\":\"GlyphRenderer\"},{\"attributes\":{\"axis\":{\"id\":\"3165\"},\"coordinates\":null,\"grid_line_color\":null,\"group\":null,\"ticker\":null},\"id\":\"3167\",\"type\":\"Grid\"},{\"attributes\":{},\"id\":\"3163\",\"type\":\"LinearScale\"},{\"attributes\":{\"axis_label\":\"Revenue\",\"coordinates\":null,\"formatter\":{\"id\":\"3198\"},\"group\":null,\"major_label_policy\":{\"id\":\"3199\"},\"ticker\":{\"id\":\"3169\"}},\"id\":\"3168\",\"type\":\"LinearAxis\"},{\"attributes\":{\"data\":{\"Revenue\":[1976157000,2049546000,2094850000,2160979000,2256851000,2501199000,2621250000,2671908000,2702776000,2839670000],\"Years\":[\"Q1 - 2018\",\"Q2 - 2018\",\"Q3 - 2018\",\"Q4 - 2018\",\"Q1 - 2019\",\"Q2 - 2019\",\"Q3 - 2019\",\"Q4 - 2019\",\"Q1 - 2020\",\"Q2 - 2020\"]},\"selected\":{\"id\":\"3186\"},\"selection_policy\":{\"id\":\"3207\"}},\"id\":\"3185\",\"type\":\"ColumnDataSource\"},{\"attributes\":{},\"id\":\"3172\",\"type\":\"SaveTool\"},{\"attributes\":{\"margin\":[5,5,5,5],\"name\":\"HSpacer05527\",\"sizing_mode\":\"stretch_width\"},\"id\":\"3152\",\"type\":\"Spacer\"},{\"attributes\":{\"line_color\":\"#30a2da\",\"line_width\":2,\"x\":{\"field\":\"Years\"},\"y\":{\"field\":\"Revenue\"}},\"id\":\"3193\",\"type\":\"Line\"},{\"attributes\":{},\"id\":\"3173\",\"type\":\"PanTool\"},{\"attributes\":{},\"id\":\"3166\",\"type\":\"CategoricalTicker\"},{\"attributes\":{\"factors\":[\"Q1 - 2018\",\"Q2 - 2018\",\"Q3 - 2018\",\"Q4 - 2018\",\"Q1 - 2019\",\"Q2 - 2019\",\"Q3 - 2019\",\"Q4 - 2019\",\"Q1 - 2020\",\"Q2 - 2020\"],\"tags\":[[[\"Years\",\"Years\",null]]]},\"id\":\"3153\",\"type\":\"FactorRange\"},{\"attributes\":{\"end\":2926021300.0,\"reset_end\":2926021300.0,\"reset_start\":1889805700.0,\"start\":1889805700.0,\"tags\":[[[\"Revenue\",\"Revenue\",null]]]},\"id\":\"3154\",\"type\":\"Range1d\"},{\"attributes\":{},\"id\":\"3198\",\"type\":\"BasicTickFormatter\"},{\"attributes\":{},\"id\":\"3196\",\"type\":\"AllLabels\"},{\"attributes\":{\"children\":[{\"id\":\"3152\"},{\"id\":\"3156\"},{\"id\":\"3220\"}],\"margin\":[0,0,0,0],\"name\":\"Row05523\",\"tags\":[\"embedded\"]},\"id\":\"3151\",\"type\":\"Row\"},{\"attributes\":{\"margin\":[5,5,5,5],\"name\":\"HSpacer05528\",\"sizing_mode\":\"stretch_width\"},\"id\":\"3220\",\"type\":\"Spacer\"}],\"root_ids\":[\"3151\"]},\"title\":\"Bokeh Application\",\"version\":\"2.4.2\"}};\n",
       "    var render_items = [{\"docid\":\"4329ad54-dccf-4b0d-a068-fb2b1b121801\",\"root_ids\":[\"3151\"],\"roots\":{\"3151\":\"d439f414-d276-42b6-9e41-0c65d34a37ff\"}}];\n",
       "    root.Bokeh.embed.embed_items_notebook(docs_json, render_items);\n",
       "  }\n",
       "  if (root.Bokeh !== undefined && root.Bokeh.Panel !== undefined) {\n",
       "    embed_document(root);\n",
       "  } else {\n",
       "    var attempts = 0;\n",
       "    var timer = setInterval(function(root) {\n",
       "      if (root.Bokeh !== undefined && root.Bokeh.Panel !== undefined) {\n",
       "        clearInterval(timer);\n",
       "        embed_document(root);\n",
       "      } else if (document.readyState == \"complete\") {\n",
       "        attempts++;\n",
       "        if (attempts > 200) {\n",
       "          clearInterval(timer);\n",
       "          console.log(\"Bokeh: ERROR: Unable to run BokehJS code because BokehJS library is missing\");\n",
       "        }\n",
       "      }\n",
       "    }, 25, root)\n",
       "  }\n",
       "})(window);</script>"
      ],
      "text/plain": [
       ":Curve   [Years]   (Revenue)"
      ]
     },
     "execution_count": 22,
     "metadata": {
      "application/vnd.holoviews_exec.v0+json": {
       "id": "3151"
      }
     },
     "output_type": "execute_result"
    }
   ],
   "source": [
    "# Add a title to your US and Canada revenue plot using the label parameter\n",
    "us_canada_revenue['Revenue'].hvplot(\n",
    "    xlabel=\"Revenue Periods\",\n",
    "    ylabel=\"Revenue\", \n",
    "    rot=45,\n",
    "    label=\"United States and Canada Revenue - Q1 2018 through Q2 2020\"\n",
    ")\n"
   ]
  },
  {
   "cell_type": "markdown",
   "metadata": {},
   "source": [
    "## Step 5: Use the yformatter option to format the y-axis values."
   ]
  },
  {
   "cell_type": "code",
   "execution_count": 23,
   "metadata": {},
   "outputs": [
    {
     "data": {},
     "metadata": {},
     "output_type": "display_data"
    },
    {
     "data": {
      "application/vnd.holoviews_exec.v0+json": "",
      "text/html": [
       "<div id='3272'>\n",
       "\n",
       "\n",
       "\n",
       "\n",
       "\n",
       "  <div class=\"bk-root\" id=\"9f62401e-ca73-4a86-a564-599e8c6748f0\" data-root-id=\"3272\"></div>\n",
       "</div>\n",
       "<script type=\"application/javascript\">(function(root) {\n",
       "  function embed_document(root) {\n",
       "    var docs_json = {\"f87eef48-8baa-45e0-b646-ad7557bc273a\":{\"defs\":[{\"extends\":null,\"module\":null,\"name\":\"ReactiveHTML1\",\"overrides\":[],\"properties\":[]},{\"extends\":null,\"module\":null,\"name\":\"FlexBox1\",\"overrides\":[],\"properties\":[{\"default\":\"flex-start\",\"kind\":null,\"name\":\"align_content\"},{\"default\":\"flex-start\",\"kind\":null,\"name\":\"align_items\"},{\"default\":\"row\",\"kind\":null,\"name\":\"flex_direction\"},{\"default\":\"wrap\",\"kind\":null,\"name\":\"flex_wrap\"},{\"default\":\"flex-start\",\"kind\":null,\"name\":\"justify_content\"}]},{\"extends\":null,\"module\":null,\"name\":\"GridStack1\",\"overrides\":[],\"properties\":[{\"default\":\"warn\",\"kind\":null,\"name\":\"mode\"},{\"default\":null,\"kind\":null,\"name\":\"ncols\"},{\"default\":null,\"kind\":null,\"name\":\"nrows\"},{\"default\":true,\"kind\":null,\"name\":\"allow_resize\"},{\"default\":true,\"kind\":null,\"name\":\"allow_drag\"},{\"default\":[],\"kind\":null,\"name\":\"state\"}]},{\"extends\":null,\"module\":null,\"name\":\"click1\",\"overrides\":[],\"properties\":[{\"default\":\"\",\"kind\":null,\"name\":\"terminal_output\"},{\"default\":\"\",\"kind\":null,\"name\":\"debug_name\"},{\"default\":0,\"kind\":null,\"name\":\"clears\"}]},{\"extends\":null,\"module\":null,\"name\":\"TemplateActions1\",\"overrides\":[],\"properties\":[{\"default\":0,\"kind\":null,\"name\":\"open_modal\"},{\"default\":0,\"kind\":null,\"name\":\"close_modal\"}]},{\"extends\":null,\"module\":null,\"name\":\"MaterialTemplateActions1\",\"overrides\":[],\"properties\":[{\"default\":0,\"kind\":null,\"name\":\"open_modal\"},{\"default\":0,\"kind\":null,\"name\":\"close_modal\"}]}],\"roots\":{\"references\":[{\"attributes\":{\"axis_label\":\"Revenue Periods\",\"coordinates\":null,\"formatter\":{\"id\":\"3317\"},\"group\":null,\"major_label_orientation\":0.7853981633974483,\"major_label_policy\":{\"id\":\"3318\"},\"ticker\":{\"id\":\"3287\"}},\"id\":\"3286\",\"type\":\"CategoricalAxis\"},{\"attributes\":{\"line_alpha\":0.2,\"line_color\":\"#30a2da\",\"line_width\":2,\"x\":{\"field\":\"Years\"},\"y\":{\"field\":\"Revenue\"}},\"id\":\"3311\",\"type\":\"Line\"},{\"attributes\":{},\"id\":\"3282\",\"type\":\"CategoricalScale\"},{\"attributes\":{\"line_alpha\":0.1,\"line_color\":\"#30a2da\",\"line_width\":2,\"x\":{\"field\":\"Years\"},\"y\":{\"field\":\"Revenue\"}},\"id\":\"3310\",\"type\":\"Line\"},{\"attributes\":{},\"id\":\"3294\",\"type\":\"PanTool\"},{\"attributes\":{},\"id\":\"3290\",\"type\":\"BasicTicker\"},{\"attributes\":{},\"id\":\"3284\",\"type\":\"LinearScale\"},{\"attributes\":{\"below\":[{\"id\":\"3286\"}],\"center\":[{\"id\":\"3288\"},{\"id\":\"3292\"}],\"height\":300,\"left\":[{\"id\":\"3289\"}],\"margin\":[5,5,5,5],\"min_border_bottom\":10,\"min_border_left\":10,\"min_border_right\":10,\"min_border_top\":10,\"renderers\":[{\"id\":\"3312\"}],\"sizing_mode\":\"fixed\",\"title\":{\"id\":\"3278\"},\"toolbar\":{\"id\":\"3299\"},\"width\":700,\"x_range\":{\"id\":\"3274\"},\"x_scale\":{\"id\":\"3282\"},\"y_range\":{\"id\":\"3275\"},\"y_scale\":{\"id\":\"3284\"}},\"id\":\"3277\",\"subtype\":\"Figure\",\"type\":\"Plot\"},{\"attributes\":{\"line_color\":\"#30a2da\",\"line_width\":2,\"x\":{\"field\":\"Years\"},\"y\":{\"field\":\"Revenue\"}},\"id\":\"3309\",\"type\":\"Line\"},{\"attributes\":{},\"id\":\"3297\",\"type\":\"ResetTool\"},{\"attributes\":{},\"id\":\"3330\",\"type\":\"UnionRenderers\"},{\"attributes\":{\"margin\":[5,5,5,5],\"name\":\"HSpacer05751\",\"sizing_mode\":\"stretch_width\"},\"id\":\"3342\",\"type\":\"Spacer\"},{\"attributes\":{\"bottom_units\":\"screen\",\"coordinates\":null,\"fill_alpha\":0.5,\"fill_color\":\"lightgrey\",\"group\":null,\"left_units\":\"screen\",\"level\":\"overlay\",\"line_alpha\":1.0,\"line_color\":\"black\",\"line_dash\":[4,4],\"line_width\":2,\"right_units\":\"screen\",\"syncable\":false,\"top_units\":\"screen\"},\"id\":\"3298\",\"type\":\"BoxAnnotation\"},{\"attributes\":{\"overlay\":{\"id\":\"3298\"}},\"id\":\"3296\",\"type\":\"BoxZoomTool\"},{\"attributes\":{\"format\":\"%.0f\"},\"id\":\"3315\",\"type\":\"PrintfTickFormatter\"},{\"attributes\":{},\"id\":\"3287\",\"type\":\"CategoricalTicker\"},{\"attributes\":{\"axis\":{\"id\":\"3289\"},\"coordinates\":null,\"dimension\":1,\"grid_line_color\":null,\"group\":null,\"ticker\":null},\"id\":\"3292\",\"type\":\"Grid\"},{\"attributes\":{\"coordinates\":null,\"data_source\":{\"id\":\"3306\"},\"glyph\":{\"id\":\"3309\"},\"group\":null,\"hover_glyph\":null,\"muted_glyph\":{\"id\":\"3311\"},\"nonselection_glyph\":{\"id\":\"3310\"},\"selection_glyph\":{\"id\":\"3314\"},\"view\":{\"id\":\"3313\"}},\"id\":\"3312\",\"type\":\"GlyphRenderer\"},{\"attributes\":{\"axis\":{\"id\":\"3286\"},\"coordinates\":null,\"grid_line_color\":null,\"group\":null,\"ticker\":null},\"id\":\"3288\",\"type\":\"Grid\"},{\"attributes\":{\"margin\":[5,5,5,5],\"name\":\"HSpacer05750\",\"sizing_mode\":\"stretch_width\"},\"id\":\"3273\",\"type\":\"Spacer\"},{\"attributes\":{},\"id\":\"3307\",\"type\":\"Selection\"},{\"attributes\":{\"factors\":[\"Q1 - 2018\",\"Q2 - 2018\",\"Q3 - 2018\",\"Q4 - 2018\",\"Q1 - 2019\",\"Q2 - 2019\",\"Q3 - 2019\",\"Q4 - 2019\",\"Q1 - 2020\",\"Q2 - 2020\"],\"tags\":[[[\"Years\",\"Years\",null]]]},\"id\":\"3274\",\"type\":\"FactorRange\"},{\"attributes\":{\"axis_label\":\"Revenue\",\"coordinates\":null,\"formatter\":{\"id\":\"3315\"},\"group\":null,\"major_label_policy\":{\"id\":\"3321\"},\"ticker\":{\"id\":\"3290\"}},\"id\":\"3289\",\"type\":\"LinearAxis\"},{\"attributes\":{\"line_color\":\"#30a2da\",\"line_width\":2,\"x\":{\"field\":\"Years\"},\"y\":{\"field\":\"Revenue\"}},\"id\":\"3314\",\"type\":\"Line\"},{\"attributes\":{},\"id\":\"3317\",\"type\":\"CategoricalTickFormatter\"},{\"attributes\":{\"data\":{\"Revenue\":[1976157000,2049546000,2094850000,2160979000,2256851000,2501199000,2621250000,2671908000,2702776000,2839670000],\"Years\":[\"Q1 - 2018\",\"Q2 - 2018\",\"Q3 - 2018\",\"Q4 - 2018\",\"Q1 - 2019\",\"Q2 - 2019\",\"Q3 - 2019\",\"Q4 - 2019\",\"Q1 - 2020\",\"Q2 - 2020\"]},\"selected\":{\"id\":\"3307\"},\"selection_policy\":{\"id\":\"3330\"}},\"id\":\"3306\",\"type\":\"ColumnDataSource\"},{\"attributes\":{},\"id\":\"3293\",\"type\":\"SaveTool\"},{\"attributes\":{},\"id\":\"3318\",\"type\":\"AllLabels\"},{\"attributes\":{},\"id\":\"3295\",\"type\":\"WheelZoomTool\"},{\"attributes\":{\"callback\":null,\"renderers\":[{\"id\":\"3312\"}],\"tags\":[\"hv_created\"],\"tooltips\":[[\"Years\",\"@{Years}\"],[\"Revenue\",\"@{Revenue}\"]]},\"id\":\"3276\",\"type\":\"HoverTool\"},{\"attributes\":{\"end\":2926021300.0,\"reset_end\":2926021300.0,\"reset_start\":1889805700.0,\"start\":1889805700.0,\"tags\":[[[\"Revenue\",\"Revenue\",null]]]},\"id\":\"3275\",\"type\":\"Range1d\"},{\"attributes\":{\"tools\":[{\"id\":\"3276\"},{\"id\":\"3293\"},{\"id\":\"3294\"},{\"id\":\"3295\"},{\"id\":\"3296\"},{\"id\":\"3297\"}]},\"id\":\"3299\",\"type\":\"Toolbar\"},{\"attributes\":{},\"id\":\"3321\",\"type\":\"AllLabels\"},{\"attributes\":{\"coordinates\":null,\"group\":null,\"text\":\"United States and Canada Revenue - Q1 2018 through Q2 2020\",\"text_color\":\"black\",\"text_font_size\":\"12pt\"},\"id\":\"3278\",\"type\":\"Title\"},{\"attributes\":{\"children\":[{\"id\":\"3273\"},{\"id\":\"3277\"},{\"id\":\"3342\"}],\"margin\":[0,0,0,0],\"name\":\"Row05746\",\"tags\":[\"embedded\"]},\"id\":\"3272\",\"type\":\"Row\"},{\"attributes\":{\"source\":{\"id\":\"3306\"}},\"id\":\"3313\",\"type\":\"CDSView\"}],\"root_ids\":[\"3272\"]},\"title\":\"Bokeh Application\",\"version\":\"2.4.2\"}};\n",
       "    var render_items = [{\"docid\":\"f87eef48-8baa-45e0-b646-ad7557bc273a\",\"root_ids\":[\"3272\"],\"roots\":{\"3272\":\"9f62401e-ca73-4a86-a564-599e8c6748f0\"}}];\n",
       "    root.Bokeh.embed.embed_items_notebook(docs_json, render_items);\n",
       "  }\n",
       "  if (root.Bokeh !== undefined && root.Bokeh.Panel !== undefined) {\n",
       "    embed_document(root);\n",
       "  } else {\n",
       "    var attempts = 0;\n",
       "    var timer = setInterval(function(root) {\n",
       "      if (root.Bokeh !== undefined && root.Bokeh.Panel !== undefined) {\n",
       "        clearInterval(timer);\n",
       "        embed_document(root);\n",
       "      } else if (document.readyState == \"complete\") {\n",
       "        attempts++;\n",
       "        if (attempts > 200) {\n",
       "          clearInterval(timer);\n",
       "          console.log(\"Bokeh: ERROR: Unable to run BokehJS code because BokehJS library is missing\");\n",
       "        }\n",
       "      }\n",
       "    }, 25, root)\n",
       "  }\n",
       "})(window);</script>"
      ],
      "text/plain": [
       ":Curve   [Years]   (Revenue)"
      ]
     },
     "execution_count": 23,
     "metadata": {
      "application/vnd.holoviews_exec.v0+json": {
       "id": "3272"
      }
     },
     "output_type": "execute_result"
    }
   ],
   "source": [
    "# Use the yformatter to adjust the y-axis values\n",
    "us_canada_revenue['Revenue'].hvplot(\n",
    "    xlabel='Revenue Periods',\n",
    "    ylabel='Revenue', \n",
    "    rot=45,\n",
    "    label='United States and Canada Revenue - Q1 2018 through Q2 2020'\n",
    ").opts(\n",
    "    yformatter='%.0f'\n",
    ")"
   ]
  },
  {
   "cell_type": "markdown",
   "metadata": {},
   "source": [
    "## Step 6: Add a line_color of blue and hover_line_color of yellow to the plot."
   ]
  },
  {
   "cell_type": "code",
   "execution_count": 24,
   "metadata": {},
   "outputs": [
    {
     "data": {},
     "metadata": {},
     "output_type": "display_data"
    },
    {
     "data": {
      "application/vnd.holoviews_exec.v0+json": "",
      "text/html": [
       "<div id='3389'>\n",
       "\n",
       "\n",
       "\n",
       "\n",
       "\n",
       "  <div class=\"bk-root\" id=\"b06bbfe5-b676-498c-b576-5ad9d11dacfb\" data-root-id=\"3389\"></div>\n",
       "</div>\n",
       "<script type=\"application/javascript\">(function(root) {\n",
       "  function embed_document(root) {\n",
       "    var docs_json = {\"77633c1f-3f10-4272-bc22-9905350641e2\":{\"defs\":[{\"extends\":null,\"module\":null,\"name\":\"ReactiveHTML1\",\"overrides\":[],\"properties\":[]},{\"extends\":null,\"module\":null,\"name\":\"FlexBox1\",\"overrides\":[],\"properties\":[{\"default\":\"flex-start\",\"kind\":null,\"name\":\"align_content\"},{\"default\":\"flex-start\",\"kind\":null,\"name\":\"align_items\"},{\"default\":\"row\",\"kind\":null,\"name\":\"flex_direction\"},{\"default\":\"wrap\",\"kind\":null,\"name\":\"flex_wrap\"},{\"default\":\"flex-start\",\"kind\":null,\"name\":\"justify_content\"}]},{\"extends\":null,\"module\":null,\"name\":\"GridStack1\",\"overrides\":[],\"properties\":[{\"default\":\"warn\",\"kind\":null,\"name\":\"mode\"},{\"default\":null,\"kind\":null,\"name\":\"ncols\"},{\"default\":null,\"kind\":null,\"name\":\"nrows\"},{\"default\":true,\"kind\":null,\"name\":\"allow_resize\"},{\"default\":true,\"kind\":null,\"name\":\"allow_drag\"},{\"default\":[],\"kind\":null,\"name\":\"state\"}]},{\"extends\":null,\"module\":null,\"name\":\"click1\",\"overrides\":[],\"properties\":[{\"default\":\"\",\"kind\":null,\"name\":\"terminal_output\"},{\"default\":\"\",\"kind\":null,\"name\":\"debug_name\"},{\"default\":0,\"kind\":null,\"name\":\"clears\"}]},{\"extends\":null,\"module\":null,\"name\":\"TemplateActions1\",\"overrides\":[],\"properties\":[{\"default\":0,\"kind\":null,\"name\":\"open_modal\"},{\"default\":0,\"kind\":null,\"name\":\"close_modal\"}]},{\"extends\":null,\"module\":null,\"name\":\"MaterialTemplateActions1\",\"overrides\":[],\"properties\":[{\"default\":0,\"kind\":null,\"name\":\"open_modal\"},{\"default\":0,\"kind\":null,\"name\":\"close_modal\"}]}],\"roots\":{\"references\":[{\"attributes\":{\"factors\":[\"Q1 - 2018\",\"Q2 - 2018\",\"Q3 - 2018\",\"Q4 - 2018\",\"Q1 - 2019\",\"Q2 - 2019\",\"Q3 - 2019\",\"Q4 - 2019\",\"Q1 - 2020\",\"Q2 - 2020\"],\"tags\":[[[\"Years\",\"Years\",null]]]},\"id\":\"3391\",\"type\":\"FactorRange\"},{\"attributes\":{\"format\":\"%.0f\"},\"id\":\"3433\",\"type\":\"PrintfTickFormatter\"},{\"attributes\":{},\"id\":\"3411\",\"type\":\"PanTool\"},{\"attributes\":{},\"id\":\"3435\",\"type\":\"CategoricalTickFormatter\"},{\"attributes\":{},\"id\":\"3412\",\"type\":\"WheelZoomTool\"},{\"attributes\":{},\"id\":\"3436\",\"type\":\"AllLabels\"},{\"attributes\":{\"axis\":{\"id\":\"3403\"},\"coordinates\":null,\"grid_line_color\":null,\"group\":null,\"ticker\":null},\"id\":\"3405\",\"type\":\"Grid\"},{\"attributes\":{\"overlay\":{\"id\":\"3415\"}},\"id\":\"3413\",\"type\":\"BoxZoomTool\"},{\"attributes\":{\"line_alpha\":0.2,\"line_color\":\"blue\",\"line_width\":2,\"x\":{\"field\":\"Years\"},\"y\":{\"field\":\"Revenue\"}},\"id\":\"3429\",\"type\":\"Line\"},{\"attributes\":{\"margin\":[5,5,5,5],\"name\":\"HSpacer05973\",\"sizing_mode\":\"stretch_width\"},\"id\":\"3390\",\"type\":\"Spacer\"},{\"attributes\":{\"end\":2926021300.0,\"reset_end\":2926021300.0,\"reset_start\":1889805700.0,\"start\":1889805700.0,\"tags\":[[[\"Revenue\",\"Revenue\",null]]]},\"id\":\"3392\",\"type\":\"Range1d\"},{\"attributes\":{},\"id\":\"3424\",\"type\":\"Selection\"},{\"attributes\":{\"margin\":[5,5,5,5],\"name\":\"HSpacer05974\",\"sizing_mode\":\"stretch_width\"},\"id\":\"3460\",\"type\":\"Spacer\"},{\"attributes\":{},\"id\":\"3414\",\"type\":\"ResetTool\"},{\"attributes\":{\"below\":[{\"id\":\"3403\"}],\"center\":[{\"id\":\"3405\"},{\"id\":\"3409\"}],\"height\":300,\"left\":[{\"id\":\"3406\"}],\"margin\":[5,5,5,5],\"min_border_bottom\":10,\"min_border_left\":10,\"min_border_right\":10,\"min_border_top\":10,\"renderers\":[{\"id\":\"3430\"}],\"sizing_mode\":\"fixed\",\"title\":{\"id\":\"3395\"},\"toolbar\":{\"id\":\"3416\"},\"width\":700,\"x_range\":{\"id\":\"3391\"},\"x_scale\":{\"id\":\"3399\"},\"y_range\":{\"id\":\"3392\"},\"y_scale\":{\"id\":\"3401\"}},\"id\":\"3394\",\"subtype\":\"Figure\",\"type\":\"Plot\"},{\"attributes\":{\"tools\":[{\"id\":\"3393\"},{\"id\":\"3410\"},{\"id\":\"3411\"},{\"id\":\"3412\"},{\"id\":\"3413\"},{\"id\":\"3414\"}]},\"id\":\"3416\",\"type\":\"Toolbar\"},{\"attributes\":{\"line_alpha\":0.1,\"line_color\":\"blue\",\"line_width\":2,\"x\":{\"field\":\"Years\"},\"y\":{\"field\":\"Revenue\"}},\"id\":\"3427\",\"type\":\"Line\"},{\"attributes\":{\"bottom_units\":\"screen\",\"coordinates\":null,\"fill_alpha\":0.5,\"fill_color\":\"lightgrey\",\"group\":null,\"left_units\":\"screen\",\"level\":\"overlay\",\"line_alpha\":1.0,\"line_color\":\"black\",\"line_dash\":[4,4],\"line_width\":2,\"right_units\":\"screen\",\"syncable\":false,\"top_units\":\"screen\"},\"id\":\"3415\",\"type\":\"BoxAnnotation\"},{\"attributes\":{},\"id\":\"3401\",\"type\":\"LinearScale\"},{\"attributes\":{},\"id\":\"3404\",\"type\":\"CategoricalTicker\"},{\"attributes\":{\"axis_label\":\"Revenue Periods\",\"coordinates\":null,\"formatter\":{\"id\":\"3435\"},\"group\":null,\"major_label_orientation\":0.7853981633974483,\"major_label_policy\":{\"id\":\"3436\"},\"ticker\":{\"id\":\"3404\"}},\"id\":\"3403\",\"type\":\"CategoricalAxis\"},{\"attributes\":{\"axis\":{\"id\":\"3406\"},\"coordinates\":null,\"dimension\":1,\"grid_line_color\":null,\"group\":null,\"ticker\":null},\"id\":\"3409\",\"type\":\"Grid\"},{\"attributes\":{},\"id\":\"3448\",\"type\":\"UnionRenderers\"},{\"attributes\":{\"children\":[{\"id\":\"3390\"},{\"id\":\"3394\"},{\"id\":\"3460\"}],\"margin\":[0,0,0,0],\"name\":\"Row05969\",\"tags\":[\"embedded\"]},\"id\":\"3389\",\"type\":\"Row\"},{\"attributes\":{},\"id\":\"3407\",\"type\":\"BasicTicker\"},{\"attributes\":{\"axis_label\":\"Revenue\",\"coordinates\":null,\"formatter\":{\"id\":\"3433\"},\"group\":null,\"major_label_policy\":{\"id\":\"3439\"},\"ticker\":{\"id\":\"3407\"}},\"id\":\"3406\",\"type\":\"LinearAxis\"},{\"attributes\":{},\"id\":\"3439\",\"type\":\"AllLabels\"},{\"attributes\":{\"callback\":null,\"renderers\":[{\"id\":\"3430\"}],\"tags\":[\"hv_created\"],\"tooltips\":[[\"Years\",\"@{Years}\"],[\"Revenue\",\"@{Revenue}\"]]},\"id\":\"3393\",\"type\":\"HoverTool\"},{\"attributes\":{\"coordinates\":null,\"data_source\":{\"id\":\"3423\"},\"glyph\":{\"id\":\"3426\"},\"group\":null,\"hover_glyph\":{\"id\":\"3428\"},\"muted_glyph\":{\"id\":\"3429\"},\"nonselection_glyph\":{\"id\":\"3427\"},\"selection_glyph\":{\"id\":\"3432\"},\"view\":{\"id\":\"3431\"}},\"id\":\"3430\",\"type\":\"GlyphRenderer\"},{\"attributes\":{\"line_color\":\"blue\",\"line_width\":2,\"x\":{\"field\":\"Years\"},\"y\":{\"field\":\"Revenue\"}},\"id\":\"3432\",\"type\":\"Line\"},{\"attributes\":{},\"id\":\"3399\",\"type\":\"CategoricalScale\"},{\"attributes\":{\"source\":{\"id\":\"3423\"}},\"id\":\"3431\",\"type\":\"CDSView\"},{\"attributes\":{\"line_color\":\"blue\",\"line_width\":2,\"x\":{\"field\":\"Years\"},\"y\":{\"field\":\"Revenue\"}},\"id\":\"3426\",\"type\":\"Line\"},{\"attributes\":{\"line_color\":\"yellow\",\"line_width\":2,\"x\":{\"field\":\"Years\"},\"y\":{\"field\":\"Revenue\"}},\"id\":\"3428\",\"type\":\"Line\"},{\"attributes\":{\"coordinates\":null,\"group\":null,\"text\":\"United States and Canada Revenue - Q1 2018 through Q2 2020\",\"text_color\":\"black\",\"text_font_size\":\"12pt\"},\"id\":\"3395\",\"type\":\"Title\"},{\"attributes\":{\"data\":{\"Revenue\":[1976157000,2049546000,2094850000,2160979000,2256851000,2501199000,2621250000,2671908000,2702776000,2839670000],\"Years\":[\"Q1 - 2018\",\"Q2 - 2018\",\"Q3 - 2018\",\"Q4 - 2018\",\"Q1 - 2019\",\"Q2 - 2019\",\"Q3 - 2019\",\"Q4 - 2019\",\"Q1 - 2020\",\"Q2 - 2020\"]},\"selected\":{\"id\":\"3424\"},\"selection_policy\":{\"id\":\"3448\"}},\"id\":\"3423\",\"type\":\"ColumnDataSource\"},{\"attributes\":{},\"id\":\"3410\",\"type\":\"SaveTool\"}],\"root_ids\":[\"3389\"]},\"title\":\"Bokeh Application\",\"version\":\"2.4.2\"}};\n",
       "    var render_items = [{\"docid\":\"77633c1f-3f10-4272-bc22-9905350641e2\",\"root_ids\":[\"3389\"],\"roots\":{\"3389\":\"b06bbfe5-b676-498c-b576-5ad9d11dacfb\"}}];\n",
       "    root.Bokeh.embed.embed_items_notebook(docs_json, render_items);\n",
       "  }\n",
       "  if (root.Bokeh !== undefined && root.Bokeh.Panel !== undefined) {\n",
       "    embed_document(root);\n",
       "  } else {\n",
       "    var attempts = 0;\n",
       "    var timer = setInterval(function(root) {\n",
       "      if (root.Bokeh !== undefined && root.Bokeh.Panel !== undefined) {\n",
       "        clearInterval(timer);\n",
       "        embed_document(root);\n",
       "      } else if (document.readyState == \"complete\") {\n",
       "        attempts++;\n",
       "        if (attempts > 200) {\n",
       "          clearInterval(timer);\n",
       "          console.log(\"Bokeh: ERROR: Unable to run BokehJS code because BokehJS library is missing\");\n",
       "        }\n",
       "      }\n",
       "    }, 25, root)\n",
       "  }\n",
       "})(window);</script>"
      ],
      "text/plain": [
       ":Curve   [Years]   (Revenue)"
      ]
     },
     "execution_count": 24,
     "metadata": {
      "application/vnd.holoviews_exec.v0+json": {
       "id": "3389"
      }
     },
     "output_type": "execute_result"
    }
   ],
   "source": [
    "# Add a line_color of blue and a hover_line_color of yellow\n",
    "us_canada_revenue['Revenue'].hvplot(\n",
    "    xlabel='Revenue Periods',\n",
    "    ylabel='Revenue', \n",
    "    rot=45,\n",
    "    label='United States and Canada Revenue - Q1 2018 through Q2 2020'\n",
    ").opts(\n",
    "    yformatter='%.0f', \n",
    "    line_color=\"blue\", \n",
    "    hover_line_color=\"yellow\"\n",
    ")"
   ]
  },
  {
   "cell_type": "markdown",
   "metadata": {},
   "source": [
    "## Step 7. Save the plot you just created to a variable so that it can eventually be utilized in an overlay plot."
   ]
  },
  {
   "cell_type": "code",
   "execution_count": 25,
   "metadata": {},
   "outputs": [
    {
     "data": {},
     "metadata": {},
     "output_type": "display_data"
    },
    {
     "data": {
      "application/vnd.holoviews_exec.v0+json": "",
      "text/html": [
       "<div id='3507'>\n",
       "\n",
       "\n",
       "\n",
       "\n",
       "\n",
       "  <div class=\"bk-root\" id=\"3031e9af-389b-472a-9eb9-eb0aa9d47531\" data-root-id=\"3507\"></div>\n",
       "</div>\n",
       "<script type=\"application/javascript\">(function(root) {\n",
       "  function embed_document(root) {\n",
       "    var docs_json = {\"71144149-611b-4638-bff0-014431c01484\":{\"defs\":[{\"extends\":null,\"module\":null,\"name\":\"ReactiveHTML1\",\"overrides\":[],\"properties\":[]},{\"extends\":null,\"module\":null,\"name\":\"FlexBox1\",\"overrides\":[],\"properties\":[{\"default\":\"flex-start\",\"kind\":null,\"name\":\"align_content\"},{\"default\":\"flex-start\",\"kind\":null,\"name\":\"align_items\"},{\"default\":\"row\",\"kind\":null,\"name\":\"flex_direction\"},{\"default\":\"wrap\",\"kind\":null,\"name\":\"flex_wrap\"},{\"default\":\"flex-start\",\"kind\":null,\"name\":\"justify_content\"}]},{\"extends\":null,\"module\":null,\"name\":\"GridStack1\",\"overrides\":[],\"properties\":[{\"default\":\"warn\",\"kind\":null,\"name\":\"mode\"},{\"default\":null,\"kind\":null,\"name\":\"ncols\"},{\"default\":null,\"kind\":null,\"name\":\"nrows\"},{\"default\":true,\"kind\":null,\"name\":\"allow_resize\"},{\"default\":true,\"kind\":null,\"name\":\"allow_drag\"},{\"default\":[],\"kind\":null,\"name\":\"state\"}]},{\"extends\":null,\"module\":null,\"name\":\"click1\",\"overrides\":[],\"properties\":[{\"default\":\"\",\"kind\":null,\"name\":\"terminal_output\"},{\"default\":\"\",\"kind\":null,\"name\":\"debug_name\"},{\"default\":0,\"kind\":null,\"name\":\"clears\"}]},{\"extends\":null,\"module\":null,\"name\":\"TemplateActions1\",\"overrides\":[],\"properties\":[{\"default\":0,\"kind\":null,\"name\":\"open_modal\"},{\"default\":0,\"kind\":null,\"name\":\"close_modal\"}]},{\"extends\":null,\"module\":null,\"name\":\"MaterialTemplateActions1\",\"overrides\":[],\"properties\":[{\"default\":0,\"kind\":null,\"name\":\"open_modal\"},{\"default\":0,\"kind\":null,\"name\":\"close_modal\"}]}],\"roots\":{\"references\":[{\"attributes\":{},\"id\":\"3530\",\"type\":\"WheelZoomTool\"},{\"attributes\":{\"coordinates\":null,\"group\":null,\"text\":\"United States and Canada Revenue - Q1 2018 through Q2 2020\",\"text_color\":\"black\",\"text_font_size\":\"12pt\"},\"id\":\"3513\",\"type\":\"Title\"},{\"attributes\":{\"data\":{\"Revenue\":[1976157000,2049546000,2094850000,2160979000,2256851000,2501199000,2621250000,2671908000,2702776000,2839670000],\"Years\":[\"Q1 - 2018\",\"Q2 - 2018\",\"Q3 - 2018\",\"Q4 - 2018\",\"Q1 - 2019\",\"Q2 - 2019\",\"Q3 - 2019\",\"Q4 - 2019\",\"Q1 - 2020\",\"Q2 - 2020\"]},\"selected\":{\"id\":\"3542\"},\"selection_policy\":{\"id\":\"3566\"}},\"id\":\"3541\",\"type\":\"ColumnDataSource\"},{\"attributes\":{},\"id\":\"3532\",\"type\":\"ResetTool\"},{\"attributes\":{\"axis_label\":\"Revenue Periods\",\"coordinates\":null,\"formatter\":{\"id\":\"3553\"},\"group\":null,\"major_label_orientation\":0.7853981633974483,\"major_label_policy\":{\"id\":\"3554\"},\"ticker\":{\"id\":\"3522\"}},\"id\":\"3521\",\"type\":\"CategoricalAxis\"},{\"attributes\":{\"bottom_units\":\"screen\",\"coordinates\":null,\"fill_alpha\":0.5,\"fill_color\":\"lightgrey\",\"group\":null,\"left_units\":\"screen\",\"level\":\"overlay\",\"line_alpha\":1.0,\"line_color\":\"black\",\"line_dash\":[4,4],\"line_width\":2,\"right_units\":\"screen\",\"syncable\":false,\"top_units\":\"screen\"},\"id\":\"3533\",\"type\":\"BoxAnnotation\"},{\"attributes\":{\"line_color\":\"blue\",\"line_width\":2,\"x\":{\"field\":\"Years\"},\"y\":{\"field\":\"Revenue\"}},\"id\":\"3550\",\"type\":\"Line\"},{\"attributes\":{},\"id\":\"3517\",\"type\":\"CategoricalScale\"},{\"attributes\":{},\"id\":\"3522\",\"type\":\"CategoricalTicker\"},{\"attributes\":{\"children\":[{\"id\":\"3508\"},{\"id\":\"3512\"},{\"id\":\"3578\"}],\"margin\":[0,0,0,0],\"name\":\"Row06192\",\"tags\":[\"embedded\"]},\"id\":\"3507\",\"type\":\"Row\"},{\"attributes\":{\"margin\":[5,5,5,5],\"name\":\"HSpacer06197\",\"sizing_mode\":\"stretch_width\"},\"id\":\"3578\",\"type\":\"Spacer\"},{\"attributes\":{\"axis\":{\"id\":\"3524\"},\"coordinates\":null,\"dimension\":1,\"grid_line_color\":null,\"group\":null,\"ticker\":null},\"id\":\"3527\",\"type\":\"Grid\"},{\"attributes\":{\"line_alpha\":0.1,\"line_color\":\"blue\",\"line_width\":2,\"x\":{\"field\":\"Years\"},\"y\":{\"field\":\"Revenue\"}},\"id\":\"3545\",\"type\":\"Line\"},{\"attributes\":{\"callback\":null,\"renderers\":[{\"id\":\"3548\"}],\"tags\":[\"hv_created\"],\"tooltips\":[[\"Years\",\"@{Years}\"],[\"Revenue\",\"@{Revenue}\"]]},\"id\":\"3511\",\"type\":\"HoverTool\"},{\"attributes\":{\"axis\":{\"id\":\"3521\"},\"coordinates\":null,\"grid_line_color\":null,\"group\":null,\"ticker\":null},\"id\":\"3523\",\"type\":\"Grid\"},{\"attributes\":{},\"id\":\"3554\",\"type\":\"AllLabels\"},{\"attributes\":{\"line_alpha\":0.2,\"line_color\":\"blue\",\"line_width\":2,\"x\":{\"field\":\"Years\"},\"y\":{\"field\":\"Revenue\"}},\"id\":\"3547\",\"type\":\"Line\"},{\"attributes\":{},\"id\":\"3525\",\"type\":\"BasicTicker\"},{\"attributes\":{},\"id\":\"3557\",\"type\":\"AllLabels\"},{\"attributes\":{\"axis_label\":\"Revenue\",\"coordinates\":null,\"formatter\":{\"id\":\"3551\"},\"group\":null,\"major_label_policy\":{\"id\":\"3557\"},\"ticker\":{\"id\":\"3525\"}},\"id\":\"3524\",\"type\":\"LinearAxis\"},{\"attributes\":{\"line_color\":\"blue\",\"line_width\":2,\"x\":{\"field\":\"Years\"},\"y\":{\"field\":\"Revenue\"}},\"id\":\"3544\",\"type\":\"Line\"},{\"attributes\":{\"coordinates\":null,\"data_source\":{\"id\":\"3541\"},\"glyph\":{\"id\":\"3544\"},\"group\":null,\"hover_glyph\":{\"id\":\"3546\"},\"muted_glyph\":{\"id\":\"3547\"},\"nonselection_glyph\":{\"id\":\"3545\"},\"selection_glyph\":{\"id\":\"3550\"},\"view\":{\"id\":\"3549\"}},\"id\":\"3548\",\"type\":\"GlyphRenderer\"},{\"attributes\":{\"source\":{\"id\":\"3541\"}},\"id\":\"3549\",\"type\":\"CDSView\"},{\"attributes\":{\"factors\":[\"Q1 - 2018\",\"Q2 - 2018\",\"Q3 - 2018\",\"Q4 - 2018\",\"Q1 - 2019\",\"Q2 - 2019\",\"Q3 - 2019\",\"Q4 - 2019\",\"Q1 - 2020\",\"Q2 - 2020\"],\"tags\":[[[\"Years\",\"Years\",null]]]},\"id\":\"3509\",\"type\":\"FactorRange\"},{\"attributes\":{\"line_color\":\"yellow\",\"line_width\":2,\"x\":{\"field\":\"Years\"},\"y\":{\"field\":\"Revenue\"}},\"id\":\"3546\",\"type\":\"Line\"},{\"attributes\":{\"format\":\"%.0f\"},\"id\":\"3551\",\"type\":\"PrintfTickFormatter\"},{\"attributes\":{\"margin\":[5,5,5,5],\"name\":\"HSpacer06196\",\"sizing_mode\":\"stretch_width\"},\"id\":\"3508\",\"type\":\"Spacer\"},{\"attributes\":{},\"id\":\"3528\",\"type\":\"SaveTool\"},{\"attributes\":{},\"id\":\"3553\",\"type\":\"CategoricalTickFormatter\"},{\"attributes\":{},\"id\":\"3529\",\"type\":\"PanTool\"},{\"attributes\":{\"end\":2926021300.0,\"reset_end\":2926021300.0,\"reset_start\":1889805700.0,\"start\":1889805700.0,\"tags\":[[[\"Revenue\",\"Revenue\",null]]]},\"id\":\"3510\",\"type\":\"Range1d\"},{\"attributes\":{\"tools\":[{\"id\":\"3511\"},{\"id\":\"3528\"},{\"id\":\"3529\"},{\"id\":\"3530\"},{\"id\":\"3531\"},{\"id\":\"3532\"}]},\"id\":\"3534\",\"type\":\"Toolbar\"},{\"attributes\":{},\"id\":\"3542\",\"type\":\"Selection\"},{\"attributes\":{\"overlay\":{\"id\":\"3533\"}},\"id\":\"3531\",\"type\":\"BoxZoomTool\"},{\"attributes\":{},\"id\":\"3566\",\"type\":\"UnionRenderers\"},{\"attributes\":{},\"id\":\"3519\",\"type\":\"LinearScale\"},{\"attributes\":{\"below\":[{\"id\":\"3521\"}],\"center\":[{\"id\":\"3523\"},{\"id\":\"3527\"}],\"height\":300,\"left\":[{\"id\":\"3524\"}],\"margin\":[5,5,5,5],\"min_border_bottom\":10,\"min_border_left\":10,\"min_border_right\":10,\"min_border_top\":10,\"renderers\":[{\"id\":\"3548\"}],\"sizing_mode\":\"fixed\",\"title\":{\"id\":\"3513\"},\"toolbar\":{\"id\":\"3534\"},\"width\":700,\"x_range\":{\"id\":\"3509\"},\"x_scale\":{\"id\":\"3517\"},\"y_range\":{\"id\":\"3510\"},\"y_scale\":{\"id\":\"3519\"}},\"id\":\"3512\",\"subtype\":\"Figure\",\"type\":\"Plot\"}],\"root_ids\":[\"3507\"]},\"title\":\"Bokeh Application\",\"version\":\"2.4.2\"}};\n",
       "    var render_items = [{\"docid\":\"71144149-611b-4638-bff0-014431c01484\",\"root_ids\":[\"3507\"],\"roots\":{\"3507\":\"3031e9af-389b-472a-9eb9-eb0aa9d47531\"}}];\n",
       "    root.Bokeh.embed.embed_items_notebook(docs_json, render_items);\n",
       "  }\n",
       "  if (root.Bokeh !== undefined && root.Bokeh.Panel !== undefined) {\n",
       "    embed_document(root);\n",
       "  } else {\n",
       "    var attempts = 0;\n",
       "    var timer = setInterval(function(root) {\n",
       "      if (root.Bokeh !== undefined && root.Bokeh.Panel !== undefined) {\n",
       "        clearInterval(timer);\n",
       "        embed_document(root);\n",
       "      } else if (document.readyState == \"complete\") {\n",
       "        attempts++;\n",
       "        if (attempts > 200) {\n",
       "          clearInterval(timer);\n",
       "          console.log(\"Bokeh: ERROR: Unable to run BokehJS code because BokehJS library is missing\");\n",
       "        }\n",
       "      }\n",
       "    }, 25, root)\n",
       "  }\n",
       "})(window);</script>"
      ],
      "text/plain": [
       ":Curve   [Years]   (Revenue)"
      ]
     },
     "execution_count": 25,
     "metadata": {
      "application/vnd.holoviews_exec.v0+json": {
       "id": "3507"
      }
     },
     "output_type": "execute_result"
    }
   ],
   "source": [
    "# Save the US and Canada revenue plot to a variable\n",
    "us_canada_plot = us_canada_revenue['Revenue'].hvplot(\n",
    "    xlabel='Revenue Periods',\n",
    "    ylabel='Revenue', \n",
    "    rot=45,\n",
    "    label='United States and Canada Revenue - Q1 2018 through Q2 2020',\n",
    ").opts(\n",
    "    yformatter='%.0f', \n",
    "    line_color=\"blue\", \n",
    "    hover_line_color=\"yellow\"\n",
    ")  \n",
    "\n",
    "# Show the plot\n",
    "us_canada_plot"
   ]
  },
  {
   "cell_type": "markdown",
   "metadata": {},
   "source": [
    "## Step 8: Create a line plot that visualizes the growth in revenue for the Europe, Middle East and Africa region. Style it with the same options utilized in the first plot. However, make the line_color equal to orange. Be sure to save this plot to a variable as well."
   ]
  },
  {
   "cell_type": "code",
   "execution_count": 26,
   "metadata": {},
   "outputs": [],
   "source": [
    "# Create a DataFrame that slices the subscriber data for the Europe, Middle East and Africa\n",
    "emea_revenue = regional_revenue_df.loc[regional_revenue_df['Area'] == 'Europe, Middle East and Africa']\n",
    "\n",
    "# Set the index of the DataFrame to Years\n",
    "emea_revenue = emea_revenue.set_index('Years')\n"
   ]
  },
  {
   "cell_type": "code",
   "execution_count": 27,
   "metadata": {},
   "outputs": [
    {
     "data": {},
     "metadata": {},
     "output_type": "display_data"
    },
    {
     "data": {
      "application/vnd.holoviews_exec.v0+json": "",
      "text/html": [
       "<div id='3625'>\n",
       "\n",
       "\n",
       "\n",
       "\n",
       "\n",
       "  <div class=\"bk-root\" id=\"bb7ee2cf-c9ee-4cd4-a98f-22d89c4dc530\" data-root-id=\"3625\"></div>\n",
       "</div>\n",
       "<script type=\"application/javascript\">(function(root) {\n",
       "  function embed_document(root) {\n",
       "    var docs_json = {\"0825b244-b416-4da6-a013-e19849833a69\":{\"defs\":[{\"extends\":null,\"module\":null,\"name\":\"ReactiveHTML1\",\"overrides\":[],\"properties\":[]},{\"extends\":null,\"module\":null,\"name\":\"FlexBox1\",\"overrides\":[],\"properties\":[{\"default\":\"flex-start\",\"kind\":null,\"name\":\"align_content\"},{\"default\":\"flex-start\",\"kind\":null,\"name\":\"align_items\"},{\"default\":\"row\",\"kind\":null,\"name\":\"flex_direction\"},{\"default\":\"wrap\",\"kind\":null,\"name\":\"flex_wrap\"},{\"default\":\"flex-start\",\"kind\":null,\"name\":\"justify_content\"}]},{\"extends\":null,\"module\":null,\"name\":\"GridStack1\",\"overrides\":[],\"properties\":[{\"default\":\"warn\",\"kind\":null,\"name\":\"mode\"},{\"default\":null,\"kind\":null,\"name\":\"ncols\"},{\"default\":null,\"kind\":null,\"name\":\"nrows\"},{\"default\":true,\"kind\":null,\"name\":\"allow_resize\"},{\"default\":true,\"kind\":null,\"name\":\"allow_drag\"},{\"default\":[],\"kind\":null,\"name\":\"state\"}]},{\"extends\":null,\"module\":null,\"name\":\"click1\",\"overrides\":[],\"properties\":[{\"default\":\"\",\"kind\":null,\"name\":\"terminal_output\"},{\"default\":\"\",\"kind\":null,\"name\":\"debug_name\"},{\"default\":0,\"kind\":null,\"name\":\"clears\"}]},{\"extends\":null,\"module\":null,\"name\":\"TemplateActions1\",\"overrides\":[],\"properties\":[{\"default\":0,\"kind\":null,\"name\":\"open_modal\"},{\"default\":0,\"kind\":null,\"name\":\"close_modal\"}]},{\"extends\":null,\"module\":null,\"name\":\"MaterialTemplateActions1\",\"overrides\":[],\"properties\":[{\"default\":0,\"kind\":null,\"name\":\"open_modal\"},{\"default\":0,\"kind\":null,\"name\":\"close_modal\"}]}],\"roots\":{\"references\":[{\"attributes\":{\"coordinates\":null,\"data_source\":{\"id\":\"3659\"},\"glyph\":{\"id\":\"3662\"},\"group\":null,\"hover_glyph\":{\"id\":\"3664\"},\"muted_glyph\":{\"id\":\"3665\"},\"nonselection_glyph\":{\"id\":\"3663\"},\"selection_glyph\":{\"id\":\"3668\"},\"view\":{\"id\":\"3667\"}},\"id\":\"3666\",\"type\":\"GlyphRenderer\"},{\"attributes\":{\"children\":[{\"id\":\"3626\"},{\"id\":\"3630\"},{\"id\":\"3696\"}],\"margin\":[0,0,0,0],\"name\":\"Row06415\",\"tags\":[\"embedded\"]},\"id\":\"3625\",\"type\":\"Row\"},{\"attributes\":{\"format\":\"%.0f\"},\"id\":\"3669\",\"type\":\"PrintfTickFormatter\"},{\"attributes\":{\"callback\":null,\"renderers\":[{\"id\":\"3666\"}],\"tags\":[\"hv_created\"],\"tooltips\":[[\"Years\",\"@{Years}\"],[\"Revenue\",\"@{Revenue}\"]]},\"id\":\"3629\",\"type\":\"HoverTool\"},{\"attributes\":{\"line_alpha\":0.1,\"line_color\":\"orange\",\"line_width\":2,\"x\":{\"field\":\"Years\"},\"y\":{\"field\":\"Revenue\"}},\"id\":\"3663\",\"type\":\"Line\"},{\"attributes\":{},\"id\":\"3675\",\"type\":\"AllLabels\"},{\"attributes\":{},\"id\":\"3646\",\"type\":\"SaveTool\"},{\"attributes\":{\"below\":[{\"id\":\"3639\"}],\"center\":[{\"id\":\"3641\"},{\"id\":\"3645\"}],\"height\":300,\"left\":[{\"id\":\"3642\"}],\"margin\":[5,5,5,5],\"min_border_bottom\":10,\"min_border_left\":10,\"min_border_right\":10,\"min_border_top\":10,\"renderers\":[{\"id\":\"3666\"}],\"sizing_mode\":\"fixed\",\"title\":{\"id\":\"3631\"},\"toolbar\":{\"id\":\"3652\"},\"width\":700,\"x_range\":{\"id\":\"3627\"},\"x_scale\":{\"id\":\"3635\"},\"y_range\":{\"id\":\"3628\"},\"y_scale\":{\"id\":\"3637\"}},\"id\":\"3630\",\"subtype\":\"Figure\",\"type\":\"Plot\"},{\"attributes\":{},\"id\":\"3647\",\"type\":\"PanTool\"},{\"attributes\":{},\"id\":\"3671\",\"type\":\"CategoricalTickFormatter\"},{\"attributes\":{\"end\":1993125800.0,\"reset_end\":1993125800.0,\"reset_start\":786060200.0,\"start\":786060200.0,\"tags\":[[[\"Revenue\",\"Revenue\",null]]]},\"id\":\"3628\",\"type\":\"Range1d\"},{\"attributes\":{},\"id\":\"3635\",\"type\":\"CategoricalScale\"},{\"attributes\":{},\"id\":\"3648\",\"type\":\"WheelZoomTool\"},{\"attributes\":{},\"id\":\"3672\",\"type\":\"AllLabels\"},{\"attributes\":{\"tools\":[{\"id\":\"3629\"},{\"id\":\"3646\"},{\"id\":\"3647\"},{\"id\":\"3648\"},{\"id\":\"3649\"},{\"id\":\"3650\"}]},\"id\":\"3652\",\"type\":\"Toolbar\"},{\"attributes\":{},\"id\":\"3640\",\"type\":\"CategoricalTicker\"},{\"attributes\":{\"margin\":[5,5,5,5],\"name\":\"HSpacer06419\",\"sizing_mode\":\"stretch_width\"},\"id\":\"3626\",\"type\":\"Spacer\"},{\"attributes\":{\"overlay\":{\"id\":\"3651\"}},\"id\":\"3649\",\"type\":\"BoxZoomTool\"},{\"attributes\":{},\"id\":\"3660\",\"type\":\"Selection\"},{\"attributes\":{\"coordinates\":null,\"group\":null,\"text\":\"Europe, Middle East and Africa - Q1 2018 through Q2 2020\",\"text_color\":\"black\",\"text_font_size\":\"12pt\"},\"id\":\"3631\",\"type\":\"Title\"},{\"attributes\":{\"line_alpha\":0.2,\"line_color\":\"orange\",\"line_width\":2,\"x\":{\"field\":\"Years\"},\"y\":{\"field\":\"Revenue\"}},\"id\":\"3665\",\"type\":\"Line\"},{\"attributes\":{},\"id\":\"3637\",\"type\":\"LinearScale\"},{\"attributes\":{},\"id\":\"3650\",\"type\":\"ResetTool\"},{\"attributes\":{\"margin\":[5,5,5,5],\"name\":\"HSpacer06420\",\"sizing_mode\":\"stretch_width\"},\"id\":\"3696\",\"type\":\"Spacer\"},{\"attributes\":{\"axis_label\":\"Revenue Periods\",\"coordinates\":null,\"formatter\":{\"id\":\"3671\"},\"group\":null,\"major_label_orientation\":0.7853981633974483,\"major_label_policy\":{\"id\":\"3672\"},\"ticker\":{\"id\":\"3640\"}},\"id\":\"3639\",\"type\":\"CategoricalAxis\"},{\"attributes\":{\"bottom_units\":\"screen\",\"coordinates\":null,\"fill_alpha\":0.5,\"fill_color\":\"lightgrey\",\"group\":null,\"left_units\":\"screen\",\"level\":\"overlay\",\"line_alpha\":1.0,\"line_color\":\"black\",\"line_dash\":[4,4],\"line_width\":2,\"right_units\":\"screen\",\"syncable\":false,\"top_units\":\"screen\"},\"id\":\"3651\",\"type\":\"BoxAnnotation\"},{\"attributes\":{\"line_color\":\"orange\",\"line_width\":2,\"x\":{\"field\":\"Years\"},\"y\":{\"field\":\"Revenue\"}},\"id\":\"3668\",\"type\":\"Line\"},{\"attributes\":{\"axis\":{\"id\":\"3642\"},\"coordinates\":null,\"dimension\":1,\"grid_line_color\":null,\"group\":null,\"ticker\":null},\"id\":\"3645\",\"type\":\"Grid\"},{\"attributes\":{\"data\":{\"Revenue\":[886649000,975497000,1004749000,1096812000,1233379000,1319087000,1428040000,1562561000,1723474000,1892537000],\"Years\":[\"Q1 - 2018\",\"Q2 - 2018\",\"Q3 - 2018\",\"Q4 - 2018\",\"Q1 - 2019\",\"Q2 - 2019\",\"Q3 - 2019\",\"Q4 - 2019\",\"Q1 - 2020\",\"Q2 - 2020\"]},\"selected\":{\"id\":\"3660\"},\"selection_policy\":{\"id\":\"3684\"}},\"id\":\"3659\",\"type\":\"ColumnDataSource\"},{\"attributes\":{\"line_color\":\"yellow\",\"line_width\":2,\"x\":{\"field\":\"Years\"},\"y\":{\"field\":\"Revenue\"}},\"id\":\"3664\",\"type\":\"Line\"},{\"attributes\":{\"source\":{\"id\":\"3659\"}},\"id\":\"3667\",\"type\":\"CDSView\"},{\"attributes\":{\"factors\":[\"Q1 - 2018\",\"Q2 - 2018\",\"Q3 - 2018\",\"Q4 - 2018\",\"Q1 - 2019\",\"Q2 - 2019\",\"Q3 - 2019\",\"Q4 - 2019\",\"Q1 - 2020\",\"Q2 - 2020\"],\"tags\":[[[\"Years\",\"Years\",null]]]},\"id\":\"3627\",\"type\":\"FactorRange\"},{\"attributes\":{\"axis\":{\"id\":\"3639\"},\"coordinates\":null,\"grid_line_color\":null,\"group\":null,\"ticker\":null},\"id\":\"3641\",\"type\":\"Grid\"},{\"attributes\":{},\"id\":\"3643\",\"type\":\"BasicTicker\"},{\"attributes\":{\"axis_label\":\"Revenue\",\"coordinates\":null,\"formatter\":{\"id\":\"3669\"},\"group\":null,\"major_label_policy\":{\"id\":\"3675\"},\"ticker\":{\"id\":\"3643\"}},\"id\":\"3642\",\"type\":\"LinearAxis\"},{\"attributes\":{},\"id\":\"3684\",\"type\":\"UnionRenderers\"},{\"attributes\":{\"line_color\":\"orange\",\"line_width\":2,\"x\":{\"field\":\"Years\"},\"y\":{\"field\":\"Revenue\"}},\"id\":\"3662\",\"type\":\"Line\"}],\"root_ids\":[\"3625\"]},\"title\":\"Bokeh Application\",\"version\":\"2.4.2\"}};\n",
       "    var render_items = [{\"docid\":\"0825b244-b416-4da6-a013-e19849833a69\",\"root_ids\":[\"3625\"],\"roots\":{\"3625\":\"bb7ee2cf-c9ee-4cd4-a98f-22d89c4dc530\"}}];\n",
       "    root.Bokeh.embed.embed_items_notebook(docs_json, render_items);\n",
       "  }\n",
       "  if (root.Bokeh !== undefined && root.Bokeh.Panel !== undefined) {\n",
       "    embed_document(root);\n",
       "  } else {\n",
       "    var attempts = 0;\n",
       "    var timer = setInterval(function(root) {\n",
       "      if (root.Bokeh !== undefined && root.Bokeh.Panel !== undefined) {\n",
       "        clearInterval(timer);\n",
       "        embed_document(root);\n",
       "      } else if (document.readyState == \"complete\") {\n",
       "        attempts++;\n",
       "        if (attempts > 200) {\n",
       "          clearInterval(timer);\n",
       "          console.log(\"Bokeh: ERROR: Unable to run BokehJS code because BokehJS library is missing\");\n",
       "        }\n",
       "      }\n",
       "    }, 25, root)\n",
       "  }\n",
       "})(window);</script>"
      ],
      "text/plain": [
       ":Curve   [Years]   (Revenue)"
      ]
     },
     "execution_count": 27,
     "metadata": {
      "application/vnd.holoviews_exec.v0+json": {
       "id": "3625"
      }
     },
     "output_type": "execute_result"
    }
   ],
   "source": [
    "# Create a styled line plot for the Europe, Middle East Africa region. \n",
    "# Make the line_color orange and be sure to set the plot equal to a variable. \n",
    "emea_plot = emea_revenue['Revenue'].hvplot(\n",
    "    xlabel='Revenue Periods',\n",
    "    ylabel='Revenue', \n",
    "    rot=45,\n",
    "    label='Europe, Middle East and Africa - Q1 2018 through Q2 2020'\n",
    ").opts(\n",
    "    yformatter='%.0f', \n",
    "    line_color=\"orange\", \n",
    "    hover_line_color=\"yellow\"\n",
    ")  \n",
    "\n",
    "# Show the plot\n",
    "emea_plot"
   ]
  },
  {
   "cell_type": "markdown",
   "metadata": {},
   "source": [
    "## Step 9: Create an overlay plot for the \"United States and Canada\" and the \"Europe, Middle East and Africa\" regions."
   ]
  },
  {
   "cell_type": "code",
   "execution_count": 28,
   "metadata": {},
   "outputs": [
    {
     "data": {},
     "metadata": {},
     "output_type": "display_data"
    },
    {
     "data": {
      "application/vnd.holoviews_exec.v0+json": "",
      "text/html": [
       "<div id='3743'>\n",
       "\n",
       "\n",
       "\n",
       "\n",
       "\n",
       "  <div class=\"bk-root\" id=\"32293928-5e4c-4954-991e-c0c3a577c6dc\" data-root-id=\"3743\"></div>\n",
       "</div>\n",
       "<script type=\"application/javascript\">(function(root) {\n",
       "  function embed_document(root) {\n",
       "    var docs_json = {\"268748dd-761b-460b-b587-adcdff1fa980\":{\"defs\":[{\"extends\":null,\"module\":null,\"name\":\"ReactiveHTML1\",\"overrides\":[],\"properties\":[]},{\"extends\":null,\"module\":null,\"name\":\"FlexBox1\",\"overrides\":[],\"properties\":[{\"default\":\"flex-start\",\"kind\":null,\"name\":\"align_content\"},{\"default\":\"flex-start\",\"kind\":null,\"name\":\"align_items\"},{\"default\":\"row\",\"kind\":null,\"name\":\"flex_direction\"},{\"default\":\"wrap\",\"kind\":null,\"name\":\"flex_wrap\"},{\"default\":\"flex-start\",\"kind\":null,\"name\":\"justify_content\"}]},{\"extends\":null,\"module\":null,\"name\":\"GridStack1\",\"overrides\":[],\"properties\":[{\"default\":\"warn\",\"kind\":null,\"name\":\"mode\"},{\"default\":null,\"kind\":null,\"name\":\"ncols\"},{\"default\":null,\"kind\":null,\"name\":\"nrows\"},{\"default\":true,\"kind\":null,\"name\":\"allow_resize\"},{\"default\":true,\"kind\":null,\"name\":\"allow_drag\"},{\"default\":[],\"kind\":null,\"name\":\"state\"}]},{\"extends\":null,\"module\":null,\"name\":\"click1\",\"overrides\":[],\"properties\":[{\"default\":\"\",\"kind\":null,\"name\":\"terminal_output\"},{\"default\":\"\",\"kind\":null,\"name\":\"debug_name\"},{\"default\":0,\"kind\":null,\"name\":\"clears\"}]},{\"extends\":null,\"module\":null,\"name\":\"TemplateActions1\",\"overrides\":[],\"properties\":[{\"default\":0,\"kind\":null,\"name\":\"open_modal\"},{\"default\":0,\"kind\":null,\"name\":\"close_modal\"}]},{\"extends\":null,\"module\":null,\"name\":\"MaterialTemplateActions1\",\"overrides\":[],\"properties\":[{\"default\":0,\"kind\":null,\"name\":\"open_modal\"},{\"default\":0,\"kind\":null,\"name\":\"close_modal\"}]}],\"roots\":{\"references\":[{\"attributes\":{\"label\":{\"value\":\"Europe, Middle East and Africa - Q1 2018 through Q2 2020\"},\"renderers\":[{\"id\":\"3815\"}]},\"id\":\"3828\",\"type\":\"LegendItem\"},{\"attributes\":{\"margin\":[5,5,5,5],\"name\":\"HSpacer06527\",\"sizing_mode\":\"stretch_width\"},\"id\":\"3744\",\"type\":\"Spacer\"},{\"attributes\":{\"coordinates\":null,\"data_source\":{\"id\":\"3787\"},\"glyph\":{\"id\":\"3790\"},\"group\":null,\"hover_glyph\":{\"id\":\"3792\"},\"muted_glyph\":{\"id\":\"3793\"},\"nonselection_glyph\":{\"id\":\"3791\"},\"selection_glyph\":{\"id\":\"3807\"},\"view\":{\"id\":\"3795\"}},\"id\":\"3794\",\"type\":\"GlyphRenderer\"},{\"attributes\":{\"axis\":{\"id\":\"3761\"},\"coordinates\":null,\"dimension\":1,\"grid_line_color\":null,\"group\":null,\"ticker\":null},\"id\":\"3764\",\"type\":\"Grid\"},{\"attributes\":{},\"id\":\"3762\",\"type\":\"BasicTicker\"},{\"attributes\":{\"axis_label\":\"Revenue\",\"coordinates\":null,\"formatter\":{\"id\":\"3778\"},\"group\":null,\"major_label_policy\":{\"id\":\"3784\"},\"ticker\":{\"id\":\"3762\"}},\"id\":\"3761\",\"type\":\"LinearAxis\"},{\"attributes\":{},\"id\":\"3825\",\"type\":\"UnionRenderers\"},{\"attributes\":{},\"id\":\"3788\",\"type\":\"Selection\"},{\"attributes\":{\"below\":[{\"id\":\"3758\"}],\"center\":[{\"id\":\"3760\"},{\"id\":\"3764\"},{\"id\":\"3805\"}],\"height\":300,\"left\":[{\"id\":\"3761\"}],\"margin\":[5,5,5,5],\"min_border_bottom\":10,\"min_border_left\":10,\"min_border_right\":10,\"min_border_top\":10,\"renderers\":[{\"id\":\"3794\"},{\"id\":\"3815\"}],\"sizing_mode\":\"fixed\",\"title\":{\"id\":\"3750\"},\"toolbar\":{\"id\":\"3771\"},\"width\":700,\"x_range\":{\"id\":\"3745\"},\"x_scale\":{\"id\":\"3754\"},\"y_range\":{\"id\":\"3746\"},\"y_scale\":{\"id\":\"3756\"}},\"id\":\"3749\",\"subtype\":\"Figure\",\"type\":\"Plot\"},{\"attributes\":{\"line_alpha\":0.2,\"line_color\":\"blue\",\"line_width\":2,\"x\":{\"field\":\"Years\"},\"y\":{\"field\":\"Revenue\"}},\"id\":\"3793\",\"type\":\"Line\"},{\"attributes\":{\"line_alpha\":0.1,\"line_color\":\"blue\",\"line_width\":2,\"x\":{\"field\":\"Years\"},\"y\":{\"field\":\"Revenue\"}},\"id\":\"3791\",\"type\":\"Line\"},{\"attributes\":{\"line_color\":\"yellow\",\"line_width\":2,\"x\":{\"field\":\"Years\"},\"y\":{\"field\":\"Revenue\"}},\"id\":\"3813\",\"type\":\"Line\"},{\"attributes\":{\"format\":\"%.0f\"},\"id\":\"3778\",\"type\":\"PrintfTickFormatter\"},{\"attributes\":{\"line_color\":\"blue\",\"line_width\":2,\"x\":{\"field\":\"Years\"},\"y\":{\"field\":\"Revenue\"}},\"id\":\"3790\",\"type\":\"Line\"},{\"attributes\":{},\"id\":\"3802\",\"type\":\"UnionRenderers\"},{\"attributes\":{},\"id\":\"3781\",\"type\":\"AllLabels\"},{\"attributes\":{\"line_alpha\":0.2,\"line_color\":\"orange\",\"line_width\":2,\"x\":{\"field\":\"Years\"},\"y\":{\"field\":\"Revenue\"}},\"id\":\"3814\",\"type\":\"Line\"},{\"attributes\":{\"callback\":null,\"renderers\":[{\"id\":\"3794\"},{\"id\":\"3815\"}],\"tags\":[\"hv_created\"],\"tooltips\":[[\"Years\",\"@{Years}\"],[\"Revenue\",\"@{Revenue}\"]]},\"id\":\"3747\",\"type\":\"HoverTool\"},{\"attributes\":{},\"id\":\"3784\",\"type\":\"AllLabels\"},{\"attributes\":{\"click_policy\":\"mute\",\"coordinates\":null,\"group\":null,\"items\":[{\"id\":\"3806\"},{\"id\":\"3828\"}]},\"id\":\"3805\",\"type\":\"Legend\"},{\"attributes\":{\"children\":[{\"id\":\"3744\"},{\"id\":\"3749\"},{\"id\":\"3929\"}],\"margin\":[0,0,0,0],\"name\":\"Row06523\",\"tags\":[\"embedded\"]},\"id\":\"3743\",\"type\":\"Row\"},{\"attributes\":{\"source\":{\"id\":\"3808\"}},\"id\":\"3816\",\"type\":\"CDSView\"},{\"attributes\":{},\"id\":\"3765\",\"type\":\"SaveTool\"},{\"attributes\":{},\"id\":\"3780\",\"type\":\"CategoricalTickFormatter\"},{\"attributes\":{\"source\":{\"id\":\"3787\"}},\"id\":\"3795\",\"type\":\"CDSView\"},{\"attributes\":{},\"id\":\"3756\",\"type\":\"LinearScale\"},{\"attributes\":{\"line_color\":\"yellow\",\"line_width\":2,\"x\":{\"field\":\"Years\"},\"y\":{\"field\":\"Revenue\"}},\"id\":\"3792\",\"type\":\"Line\"},{\"attributes\":{},\"id\":\"3766\",\"type\":\"PanTool\"},{\"attributes\":{},\"id\":\"3767\",\"type\":\"WheelZoomTool\"},{\"attributes\":{\"tools\":[{\"id\":\"3747\"},{\"id\":\"3765\"},{\"id\":\"3766\"},{\"id\":\"3767\"},{\"id\":\"3768\"},{\"id\":\"3769\"}]},\"id\":\"3771\",\"type\":\"Toolbar\"},{\"attributes\":{\"data\":{\"Revenue\":[1976157000,2049546000,2094850000,2160979000,2256851000,2501199000,2621250000,2671908000,2702776000,2839670000],\"Years\":[\"Q1 - 2018\",\"Q2 - 2018\",\"Q3 - 2018\",\"Q4 - 2018\",\"Q1 - 2019\",\"Q2 - 2019\",\"Q3 - 2019\",\"Q4 - 2019\",\"Q1 - 2020\",\"Q2 - 2020\"]},\"selected\":{\"id\":\"3788\"},\"selection_policy\":{\"id\":\"3802\"}},\"id\":\"3787\",\"type\":\"ColumnDataSource\"},{\"attributes\":{\"line_color\":\"orange\",\"line_width\":2,\"x\":{\"field\":\"Years\"},\"y\":{\"field\":\"Revenue\"}},\"id\":\"3829\",\"type\":\"Line\"},{\"attributes\":{\"data\":{\"Revenue\":[886649000,975497000,1004749000,1096812000,1233379000,1319087000,1428040000,1562561000,1723474000,1892537000],\"Years\":[\"Q1 - 2018\",\"Q2 - 2018\",\"Q3 - 2018\",\"Q4 - 2018\",\"Q1 - 2019\",\"Q2 - 2019\",\"Q3 - 2019\",\"Q4 - 2019\",\"Q1 - 2020\",\"Q2 - 2020\"]},\"selected\":{\"id\":\"3809\"},\"selection_policy\":{\"id\":\"3825\"}},\"id\":\"3808\",\"type\":\"ColumnDataSource\"},{\"attributes\":{\"overlay\":{\"id\":\"3770\"}},\"id\":\"3768\",\"type\":\"BoxZoomTool\"},{\"attributes\":{\"coordinates\":null,\"data_source\":{\"id\":\"3808\"},\"glyph\":{\"id\":\"3811\"},\"group\":null,\"hover_glyph\":{\"id\":\"3813\"},\"muted_glyph\":{\"id\":\"3814\"},\"nonselection_glyph\":{\"id\":\"3812\"},\"selection_glyph\":{\"id\":\"3829\"},\"view\":{\"id\":\"3816\"}},\"id\":\"3815\",\"type\":\"GlyphRenderer\"},{\"attributes\":{},\"id\":\"3769\",\"type\":\"ResetTool\"},{\"attributes\":{\"label\":{\"value\":\"United States and Canada Revenue - Q1 2018 through Q2 2020\"},\"renderers\":[{\"id\":\"3794\"}]},\"id\":\"3806\",\"type\":\"LegendItem\"},{\"attributes\":{},\"id\":\"3809\",\"type\":\"Selection\"},{\"attributes\":{\"axis_label\":\"Revenue Periods\",\"coordinates\":null,\"formatter\":{\"id\":\"3780\"},\"group\":null,\"major_label_orientation\":0.7853981633974483,\"major_label_policy\":{\"id\":\"3781\"},\"ticker\":{\"id\":\"3759\"}},\"id\":\"3758\",\"type\":\"CategoricalAxis\"},{\"attributes\":{\"bottom_units\":\"screen\",\"coordinates\":null,\"fill_alpha\":0.5,\"fill_color\":\"lightgrey\",\"group\":null,\"left_units\":\"screen\",\"level\":\"overlay\",\"line_alpha\":1.0,\"line_color\":\"black\",\"line_dash\":[4,4],\"line_width\":2,\"right_units\":\"screen\",\"syncable\":false,\"top_units\":\"screen\"},\"id\":\"3770\",\"type\":\"BoxAnnotation\"},{\"attributes\":{\"end\":3034972100.0,\"reset_end\":3034972100.0,\"reset_start\":691346900.0,\"start\":691346900.0,\"tags\":[[[\"Revenue\",\"Revenue\",null]]]},\"id\":\"3746\",\"type\":\"Range1d\"},{\"attributes\":{\"coordinates\":null,\"group\":null,\"text_color\":\"black\",\"text_font_size\":\"12pt\"},\"id\":\"3750\",\"type\":\"Title\"},{\"attributes\":{\"line_color\":\"orange\",\"line_width\":2,\"x\":{\"field\":\"Years\"},\"y\":{\"field\":\"Revenue\"}},\"id\":\"3811\",\"type\":\"Line\"},{\"attributes\":{},\"id\":\"3754\",\"type\":\"CategoricalScale\"},{\"attributes\":{\"factors\":[\"Q1 - 2018\",\"Q2 - 2018\",\"Q3 - 2018\",\"Q4 - 2018\",\"Q1 - 2019\",\"Q2 - 2019\",\"Q3 - 2019\",\"Q4 - 2019\",\"Q1 - 2020\",\"Q2 - 2020\"],\"tags\":[[[\"Years\",\"Years\",null]]]},\"id\":\"3745\",\"type\":\"FactorRange\"},{\"attributes\":{\"line_color\":\"blue\",\"line_width\":2,\"x\":{\"field\":\"Years\"},\"y\":{\"field\":\"Revenue\"}},\"id\":\"3807\",\"type\":\"Line\"},{\"attributes\":{\"line_alpha\":0.1,\"line_color\":\"orange\",\"line_width\":2,\"x\":{\"field\":\"Years\"},\"y\":{\"field\":\"Revenue\"}},\"id\":\"3812\",\"type\":\"Line\"},{\"attributes\":{},\"id\":\"3759\",\"type\":\"CategoricalTicker\"},{\"attributes\":{\"margin\":[5,5,5,5],\"name\":\"HSpacer06528\",\"sizing_mode\":\"stretch_width\"},\"id\":\"3929\",\"type\":\"Spacer\"},{\"attributes\":{\"axis\":{\"id\":\"3758\"},\"coordinates\":null,\"grid_line_color\":null,\"group\":null,\"ticker\":null},\"id\":\"3760\",\"type\":\"Grid\"}],\"root_ids\":[\"3743\"]},\"title\":\"Bokeh Application\",\"version\":\"2.4.2\"}};\n",
       "    var render_items = [{\"docid\":\"268748dd-761b-460b-b587-adcdff1fa980\",\"root_ids\":[\"3743\"],\"roots\":{\"3743\":\"32293928-5e4c-4954-991e-c0c3a577c6dc\"}}];\n",
       "    root.Bokeh.embed.embed_items_notebook(docs_json, render_items);\n",
       "  }\n",
       "  if (root.Bokeh !== undefined && root.Bokeh.Panel !== undefined) {\n",
       "    embed_document(root);\n",
       "  } else {\n",
       "    var attempts = 0;\n",
       "    var timer = setInterval(function(root) {\n",
       "      if (root.Bokeh !== undefined && root.Bokeh.Panel !== undefined) {\n",
       "        clearInterval(timer);\n",
       "        embed_document(root);\n",
       "      } else if (document.readyState == \"complete\") {\n",
       "        attempts++;\n",
       "        if (attempts > 200) {\n",
       "          clearInterval(timer);\n",
       "          console.log(\"Bokeh: ERROR: Unable to run BokehJS code because BokehJS library is missing\");\n",
       "        }\n",
       "      }\n",
       "    }, 25, root)\n",
       "  }\n",
       "})(window);</script>"
      ],
      "text/plain": [
       ":Overlay\n",
       "   .Curve.United_States_and_Canada_Revenue_hyphen_minus_Q1_2018_through_Q2_2020    :Curve   [Years]   (Revenue)\n",
       "   .Curve.Europe_comma_Middle_East_and_Africa_hyphen_minus_Q1_2018_through_Q2_2020 :Curve   [Years]   (Revenue)"
      ]
     },
     "execution_count": 28,
     "metadata": {
      "application/vnd.holoviews_exec.v0+json": {
       "id": "3743"
      }
     },
     "output_type": "execute_result"
    }
   ],
   "source": [
    "# Create an overlay plot for the two visualizations\n",
    "us_canada_plot * emea_plot"
   ]
  },
  {
   "cell_type": "markdown",
   "metadata": {},
   "source": [
    "## Step 10: Add a title to the overlay plot. Additionally, adjust height, width and background color."
   ]
  },
  {
   "cell_type": "code",
   "execution_count": 29,
   "metadata": {},
   "outputs": [
    {
     "data": {},
     "metadata": {},
     "output_type": "display_data"
    },
    {
     "data": {
      "application/vnd.holoviews_exec.v0+json": "",
      "text/html": [
       "<div id='3986'>\n",
       "\n",
       "\n",
       "\n",
       "\n",
       "\n",
       "  <div class=\"bk-root\" id=\"3689f6f5-71c3-4c28-890d-3c74c0643125\" data-root-id=\"3986\"></div>\n",
       "</div>\n",
       "<script type=\"application/javascript\">(function(root) {\n",
       "  function embed_document(root) {\n",
       "    var docs_json = {\"5f38554e-9d64-4481-b42d-2cdfc887d21a\":{\"defs\":[{\"extends\":null,\"module\":null,\"name\":\"ReactiveHTML1\",\"overrides\":[],\"properties\":[]},{\"extends\":null,\"module\":null,\"name\":\"FlexBox1\",\"overrides\":[],\"properties\":[{\"default\":\"flex-start\",\"kind\":null,\"name\":\"align_content\"},{\"default\":\"flex-start\",\"kind\":null,\"name\":\"align_items\"},{\"default\":\"row\",\"kind\":null,\"name\":\"flex_direction\"},{\"default\":\"wrap\",\"kind\":null,\"name\":\"flex_wrap\"},{\"default\":\"flex-start\",\"kind\":null,\"name\":\"justify_content\"}]},{\"extends\":null,\"module\":null,\"name\":\"GridStack1\",\"overrides\":[],\"properties\":[{\"default\":\"warn\",\"kind\":null,\"name\":\"mode\"},{\"default\":null,\"kind\":null,\"name\":\"ncols\"},{\"default\":null,\"kind\":null,\"name\":\"nrows\"},{\"default\":true,\"kind\":null,\"name\":\"allow_resize\"},{\"default\":true,\"kind\":null,\"name\":\"allow_drag\"},{\"default\":[],\"kind\":null,\"name\":\"state\"}]},{\"extends\":null,\"module\":null,\"name\":\"click1\",\"overrides\":[],\"properties\":[{\"default\":\"\",\"kind\":null,\"name\":\"terminal_output\"},{\"default\":\"\",\"kind\":null,\"name\":\"debug_name\"},{\"default\":0,\"kind\":null,\"name\":\"clears\"}]},{\"extends\":null,\"module\":null,\"name\":\"TemplateActions1\",\"overrides\":[],\"properties\":[{\"default\":0,\"kind\":null,\"name\":\"open_modal\"},{\"default\":0,\"kind\":null,\"name\":\"close_modal\"}]},{\"extends\":null,\"module\":null,\"name\":\"MaterialTemplateActions1\",\"overrides\":[],\"properties\":[{\"default\":0,\"kind\":null,\"name\":\"open_modal\"},{\"default\":0,\"kind\":null,\"name\":\"close_modal\"}]}],\"roots\":{\"references\":[{\"attributes\":{},\"id\":\"4002\",\"type\":\"CategoricalTicker\"},{\"attributes\":{\"line_color\":\"orange\",\"line_width\":2,\"x\":{\"field\":\"Years\"},\"y\":{\"field\":\"Revenue\"}},\"id\":\"4054\",\"type\":\"Line\"},{\"attributes\":{},\"id\":\"4008\",\"type\":\"SaveTool\"},{\"attributes\":{},\"id\":\"3997\",\"type\":\"CategoricalScale\"},{\"attributes\":{\"factors\":[\"Q1 - 2018\",\"Q2 - 2018\",\"Q3 - 2018\",\"Q4 - 2018\",\"Q1 - 2019\",\"Q2 - 2019\",\"Q3 - 2019\",\"Q4 - 2019\",\"Q1 - 2020\",\"Q2 - 2020\"],\"tags\":[[[\"Years\",\"Years\",null]]]},\"id\":\"3988\",\"type\":\"FactorRange\"},{\"attributes\":{\"line_alpha\":0.1,\"line_color\":\"orange\",\"line_width\":2,\"x\":{\"field\":\"Years\"},\"y\":{\"field\":\"Revenue\"}},\"id\":\"4055\",\"type\":\"Line\"},{\"attributes\":{},\"id\":\"4009\",\"type\":\"PanTool\"},{\"attributes\":{\"margin\":[5,5,5,5],\"name\":\"HSpacer06978\",\"sizing_mode\":\"stretch_width\"},\"id\":\"4172\",\"type\":\"Spacer\"},{\"attributes\":{\"callback\":null,\"renderers\":[{\"id\":\"4037\"},{\"id\":\"4058\"}],\"tags\":[\"hv_created\"],\"tooltips\":[[\"Years\",\"@{Years}\"],[\"Revenue\",\"@{Revenue}\"]]},\"id\":\"3990\",\"type\":\"HoverTool\"},{\"attributes\":{\"line_color\":\"yellow\",\"line_width\":2,\"x\":{\"field\":\"Years\"},\"y\":{\"field\":\"Revenue\"}},\"id\":\"4056\",\"type\":\"Line\"},{\"attributes\":{},\"id\":\"4010\",\"type\":\"WheelZoomTool\"},{\"attributes\":{\"tools\":[{\"id\":\"3990\"},{\"id\":\"4008\"},{\"id\":\"4009\"},{\"id\":\"4010\"},{\"id\":\"4011\"},{\"id\":\"4012\"}]},\"id\":\"4014\",\"type\":\"Toolbar\"},{\"attributes\":{\"line_alpha\":0.2,\"line_color\":\"orange\",\"line_width\":2,\"x\":{\"field\":\"Years\"},\"y\":{\"field\":\"Revenue\"}},\"id\":\"4057\",\"type\":\"Line\"},{\"attributes\":{\"overlay\":{\"id\":\"4013\"}},\"id\":\"4011\",\"type\":\"BoxZoomTool\"},{\"attributes\":{\"label\":{\"value\":\"United States and Canada Revenue - Q1 2018 through Q2 2020\"},\"renderers\":[{\"id\":\"4037\"}]},\"id\":\"4049\",\"type\":\"LegendItem\"},{\"attributes\":{},\"id\":\"4045\",\"type\":\"UnionRenderers\"},{\"attributes\":{\"background_fill_color\":\"lightgrey\",\"below\":[{\"id\":\"4001\"}],\"center\":[{\"id\":\"4003\"},{\"id\":\"4007\"},{\"id\":\"4048\"}],\"height\":500,\"left\":[{\"id\":\"4004\"}],\"margin\":[5,5,5,5],\"min_border_bottom\":10,\"min_border_left\":10,\"min_border_right\":10,\"min_border_top\":10,\"renderers\":[{\"id\":\"4037\"},{\"id\":\"4058\"}],\"sizing_mode\":\"fixed\",\"title\":{\"id\":\"3993\"},\"toolbar\":{\"id\":\"4014\"},\"width\":1000,\"x_range\":{\"id\":\"3988\"},\"x_scale\":{\"id\":\"3997\"},\"y_range\":{\"id\":\"3989\"},\"y_scale\":{\"id\":\"3999\"}},\"id\":\"3992\",\"subtype\":\"Figure\",\"type\":\"Plot\"},{\"attributes\":{\"line_alpha\":0.1,\"line_color\":\"blue\",\"line_width\":2,\"x\":{\"field\":\"Years\"},\"y\":{\"field\":\"Revenue\"}},\"id\":\"4034\",\"type\":\"Line\"},{\"attributes\":{},\"id\":\"4023\",\"type\":\"CategoricalTickFormatter\"},{\"attributes\":{\"children\":[{\"id\":\"3987\"},{\"id\":\"3992\"},{\"id\":\"4172\"}],\"margin\":[0,0,0,0],\"name\":\"Row06973\",\"tags\":[\"embedded\"]},\"id\":\"3986\",\"type\":\"Row\"},{\"attributes\":{\"data\":{\"Revenue\":[886649000,975497000,1004749000,1096812000,1233379000,1319087000,1428040000,1562561000,1723474000,1892537000],\"Years\":[\"Q1 - 2018\",\"Q2 - 2018\",\"Q3 - 2018\",\"Q4 - 2018\",\"Q1 - 2019\",\"Q2 - 2019\",\"Q3 - 2019\",\"Q4 - 2019\",\"Q1 - 2020\",\"Q2 - 2020\"]},\"selected\":{\"id\":\"4052\"},\"selection_policy\":{\"id\":\"4068\"}},\"id\":\"4051\",\"type\":\"ColumnDataSource\"},{\"attributes\":{\"coordinates\":null,\"group\":null,\"text\":\"Revenue - US and Canada versus Europe, Middle East and Africa\",\"text_color\":\"black\",\"text_font_size\":\"12pt\"},\"id\":\"3993\",\"type\":\"Title\"},{\"attributes\":{},\"id\":\"4012\",\"type\":\"ResetTool\"},{\"attributes\":{},\"id\":\"4068\",\"type\":\"UnionRenderers\"},{\"attributes\":{\"axis_label\":\"Revenue Periods\",\"coordinates\":null,\"formatter\":{\"id\":\"4023\"},\"group\":null,\"major_label_orientation\":0.7853981633974483,\"major_label_policy\":{\"id\":\"4024\"},\"ticker\":{\"id\":\"4002\"}},\"id\":\"4001\",\"type\":\"CategoricalAxis\"},{\"attributes\":{\"margin\":[5,5,5,5],\"name\":\"HSpacer06977\",\"sizing_mode\":\"stretch_width\"},\"id\":\"3987\",\"type\":\"Spacer\"},{\"attributes\":{},\"id\":\"4052\",\"type\":\"Selection\"},{\"attributes\":{},\"id\":\"3999\",\"type\":\"LinearScale\"},{\"attributes\":{\"bottom_units\":\"screen\",\"coordinates\":null,\"fill_alpha\":0.5,\"fill_color\":\"lightgrey\",\"group\":null,\"left_units\":\"screen\",\"level\":\"overlay\",\"line_alpha\":1.0,\"line_color\":\"black\",\"line_dash\":[4,4],\"line_width\":2,\"right_units\":\"screen\",\"syncable\":false,\"top_units\":\"screen\"},\"id\":\"4013\",\"type\":\"BoxAnnotation\"},{\"attributes\":{\"coordinates\":null,\"data_source\":{\"id\":\"4030\"},\"glyph\":{\"id\":\"4033\"},\"group\":null,\"hover_glyph\":{\"id\":\"4035\"},\"muted_glyph\":{\"id\":\"4036\"},\"nonselection_glyph\":{\"id\":\"4034\"},\"selection_glyph\":{\"id\":\"4050\"},\"view\":{\"id\":\"4038\"}},\"id\":\"4037\",\"type\":\"GlyphRenderer\"},{\"attributes\":{\"coordinates\":null,\"data_source\":{\"id\":\"4051\"},\"glyph\":{\"id\":\"4054\"},\"group\":null,\"hover_glyph\":{\"id\":\"4056\"},\"muted_glyph\":{\"id\":\"4057\"},\"nonselection_glyph\":{\"id\":\"4055\"},\"selection_glyph\":{\"id\":\"4072\"},\"view\":{\"id\":\"4059\"}},\"id\":\"4058\",\"type\":\"GlyphRenderer\"},{\"attributes\":{\"axis\":{\"id\":\"4004\"},\"coordinates\":null,\"dimension\":1,\"grid_line_color\":null,\"group\":null,\"ticker\":null},\"id\":\"4007\",\"type\":\"Grid\"},{\"attributes\":{\"axis\":{\"id\":\"4001\"},\"coordinates\":null,\"grid_line_color\":null,\"group\":null,\"ticker\":null},\"id\":\"4003\",\"type\":\"Grid\"},{\"attributes\":{\"line_color\":\"blue\",\"line_width\":2,\"x\":{\"field\":\"Years\"},\"y\":{\"field\":\"Revenue\"}},\"id\":\"4050\",\"type\":\"Line\"},{\"attributes\":{\"line_color\":\"yellow\",\"line_width\":2,\"x\":{\"field\":\"Years\"},\"y\":{\"field\":\"Revenue\"}},\"id\":\"4035\",\"type\":\"Line\"},{\"attributes\":{},\"id\":\"4005\",\"type\":\"BasicTicker\"},{\"attributes\":{\"axis_label\":\"Revenue\",\"coordinates\":null,\"formatter\":{\"id\":\"4021\"},\"group\":null,\"major_label_policy\":{\"id\":\"4027\"},\"ticker\":{\"id\":\"4005\"}},\"id\":\"4004\",\"type\":\"LinearAxis\"},{\"attributes\":{\"source\":{\"id\":\"4051\"}},\"id\":\"4059\",\"type\":\"CDSView\"},{\"attributes\":{},\"id\":\"4031\",\"type\":\"Selection\"},{\"attributes\":{\"line_color\":\"orange\",\"line_width\":2,\"x\":{\"field\":\"Years\"},\"y\":{\"field\":\"Revenue\"}},\"id\":\"4072\",\"type\":\"Line\"},{\"attributes\":{\"label\":{\"value\":\"Europe, Middle East and Africa - Q1 2018 through Q2 2020\"},\"renderers\":[{\"id\":\"4058\"}]},\"id\":\"4071\",\"type\":\"LegendItem\"},{\"attributes\":{\"line_alpha\":0.2,\"line_color\":\"blue\",\"line_width\":2,\"x\":{\"field\":\"Years\"},\"y\":{\"field\":\"Revenue\"}},\"id\":\"4036\",\"type\":\"Line\"},{\"attributes\":{\"click_policy\":\"mute\",\"coordinates\":null,\"group\":null,\"items\":[{\"id\":\"4049\"},{\"id\":\"4071\"}]},\"id\":\"4048\",\"type\":\"Legend\"},{\"attributes\":{},\"id\":\"4024\",\"type\":\"AllLabels\"},{\"attributes\":{\"source\":{\"id\":\"4030\"}},\"id\":\"4038\",\"type\":\"CDSView\"},{\"attributes\":{\"line_color\":\"blue\",\"line_width\":2,\"x\":{\"field\":\"Years\"},\"y\":{\"field\":\"Revenue\"}},\"id\":\"4033\",\"type\":\"Line\"},{\"attributes\":{\"format\":\"%.0f\"},\"id\":\"4021\",\"type\":\"PrintfTickFormatter\"},{\"attributes\":{},\"id\":\"4027\",\"type\":\"AllLabels\"},{\"attributes\":{\"end\":3034972100.0,\"reset_end\":3034972100.0,\"reset_start\":691346900.0,\"start\":691346900.0,\"tags\":[[[\"Revenue\",\"Revenue\",null]]]},\"id\":\"3989\",\"type\":\"Range1d\"},{\"attributes\":{\"data\":{\"Revenue\":[1976157000,2049546000,2094850000,2160979000,2256851000,2501199000,2621250000,2671908000,2702776000,2839670000],\"Years\":[\"Q1 - 2018\",\"Q2 - 2018\",\"Q3 - 2018\",\"Q4 - 2018\",\"Q1 - 2019\",\"Q2 - 2019\",\"Q3 - 2019\",\"Q4 - 2019\",\"Q1 - 2020\",\"Q2 - 2020\"]},\"selected\":{\"id\":\"4031\"},\"selection_policy\":{\"id\":\"4045\"}},\"id\":\"4030\",\"type\":\"ColumnDataSource\"}],\"root_ids\":[\"3986\"]},\"title\":\"Bokeh Application\",\"version\":\"2.4.2\"}};\n",
       "    var render_items = [{\"docid\":\"5f38554e-9d64-4481-b42d-2cdfc887d21a\",\"root_ids\":[\"3986\"],\"roots\":{\"3986\":\"3689f6f5-71c3-4c28-890d-3c74c0643125\"}}];\n",
       "    root.Bokeh.embed.embed_items_notebook(docs_json, render_items);\n",
       "  }\n",
       "  if (root.Bokeh !== undefined && root.Bokeh.Panel !== undefined) {\n",
       "    embed_document(root);\n",
       "  } else {\n",
       "    var attempts = 0;\n",
       "    var timer = setInterval(function(root) {\n",
       "      if (root.Bokeh !== undefined && root.Bokeh.Panel !== undefined) {\n",
       "        clearInterval(timer);\n",
       "        embed_document(root);\n",
       "      } else if (document.readyState == \"complete\") {\n",
       "        attempts++;\n",
       "        if (attempts > 200) {\n",
       "          clearInterval(timer);\n",
       "          console.log(\"Bokeh: ERROR: Unable to run BokehJS code because BokehJS library is missing\");\n",
       "        }\n",
       "      }\n",
       "    }, 25, root)\n",
       "  }\n",
       "})(window);</script>"
      ],
      "text/plain": [
       ":Overlay\n",
       "   .Curve.United_States_and_Canada_Revenue_hyphen_minus_Q1_2018_through_Q2_2020    :Curve   [Years]   (Revenue)\n",
       "   .Curve.Europe_comma_Middle_East_and_Africa_hyphen_minus_Q1_2018_through_Q2_2020 :Curve   [Years]   (Revenue)"
      ]
     },
     "execution_count": 29,
     "metadata": {
      "application/vnd.holoviews_exec.v0+json": {
       "id": "3986"
      }
     },
     "output_type": "execute_result"
    }
   ],
   "source": [
    "# Adjust the title, height, width and background color of the overlay plot\n",
    "(us_canada_plot * emea_plot).opts(\n",
    "    title=\"Revenue - US and Canada versus Europe, Middle East and Africa\",\n",
    "    bgcolor=\"lightgrey\", \n",
    "    height=500,\n",
    "    width=1000,\n",
    ")"
   ]
  },
  {
   "cell_type": "markdown",
   "metadata": {},
   "source": [
    "## Step 11: Bonus - Create line plots for the Latin America and Asia Pacific Regions"
   ]
  },
  {
   "cell_type": "code",
   "execution_count": 30,
   "metadata": {},
   "outputs": [],
   "source": [
    "# Create a DataFrame that slices the subscriber data for the Asia-Pacific region\n",
    "ap_revenue = regional_revenue_df.loc[regional_revenue_df['Area'] == 'Asia-Pacific']\n",
    "\n",
    "# Set the index of the DataFrame to Years\n",
    "ap_revenue = ap_revenue.set_index('Years')"
   ]
  },
  {
   "cell_type": "code",
   "execution_count": 31,
   "metadata": {},
   "outputs": [
    {
     "data": {},
     "metadata": {},
     "output_type": "display_data"
    },
    {
     "data": {
      "application/vnd.holoviews_exec.v0+json": "",
      "text/html": [
       "<div id='4229'>\n",
       "\n",
       "\n",
       "\n",
       "\n",
       "\n",
       "  <div class=\"bk-root\" id=\"3996d047-3552-4151-afc1-03b8efb53095\" data-root-id=\"4229\"></div>\n",
       "</div>\n",
       "<script type=\"application/javascript\">(function(root) {\n",
       "  function embed_document(root) {\n",
       "    var docs_json = {\"c9b2e0f8-6d8a-4d15-bc38-32f9dbe4723a\":{\"defs\":[{\"extends\":null,\"module\":null,\"name\":\"ReactiveHTML1\",\"overrides\":[],\"properties\":[]},{\"extends\":null,\"module\":null,\"name\":\"FlexBox1\",\"overrides\":[],\"properties\":[{\"default\":\"flex-start\",\"kind\":null,\"name\":\"align_content\"},{\"default\":\"flex-start\",\"kind\":null,\"name\":\"align_items\"},{\"default\":\"row\",\"kind\":null,\"name\":\"flex_direction\"},{\"default\":\"wrap\",\"kind\":null,\"name\":\"flex_wrap\"},{\"default\":\"flex-start\",\"kind\":null,\"name\":\"justify_content\"}]},{\"extends\":null,\"module\":null,\"name\":\"GridStack1\",\"overrides\":[],\"properties\":[{\"default\":\"warn\",\"kind\":null,\"name\":\"mode\"},{\"default\":null,\"kind\":null,\"name\":\"ncols\"},{\"default\":null,\"kind\":null,\"name\":\"nrows\"},{\"default\":true,\"kind\":null,\"name\":\"allow_resize\"},{\"default\":true,\"kind\":null,\"name\":\"allow_drag\"},{\"default\":[],\"kind\":null,\"name\":\"state\"}]},{\"extends\":null,\"module\":null,\"name\":\"click1\",\"overrides\":[],\"properties\":[{\"default\":\"\",\"kind\":null,\"name\":\"terminal_output\"},{\"default\":\"\",\"kind\":null,\"name\":\"debug_name\"},{\"default\":0,\"kind\":null,\"name\":\"clears\"}]},{\"extends\":null,\"module\":null,\"name\":\"TemplateActions1\",\"overrides\":[],\"properties\":[{\"default\":0,\"kind\":null,\"name\":\"open_modal\"},{\"default\":0,\"kind\":null,\"name\":\"close_modal\"}]},{\"extends\":null,\"module\":null,\"name\":\"MaterialTemplateActions1\",\"overrides\":[],\"properties\":[{\"default\":0,\"kind\":null,\"name\":\"open_modal\"},{\"default\":0,\"kind\":null,\"name\":\"close_modal\"}]}],\"roots\":{\"references\":[{\"attributes\":{},\"id\":\"4244\",\"type\":\"CategoricalTicker\"},{\"attributes\":{},\"id\":\"4276\",\"type\":\"AllLabels\"},{\"attributes\":{},\"id\":\"4251\",\"type\":\"PanTool\"},{\"attributes\":{\"margin\":[5,5,5,5],\"name\":\"HSpacer07462\",\"sizing_mode\":\"stretch_width\"},\"id\":\"4230\",\"type\":\"Spacer\"},{\"attributes\":{\"end\":606142300.0,\"reset_end\":606142300.0,\"reset_start\":162114700.0,\"start\":162114700.0,\"tags\":[[[\"Revenue\",\"Revenue\",null]]]},\"id\":\"4232\",\"type\":\"Range1d\"},{\"attributes\":{},\"id\":\"4252\",\"type\":\"WheelZoomTool\"},{\"attributes\":{\"coordinates\":null,\"group\":null,\"text\":\"Asia-Pacific - Q1 2018 through Q2 2020\",\"text_color\":\"black\",\"text_font_size\":\"12pt\"},\"id\":\"4235\",\"type\":\"Title\"},{\"attributes\":{\"tools\":[{\"id\":\"4233\"},{\"id\":\"4250\"},{\"id\":\"4251\"},{\"id\":\"4252\"},{\"id\":\"4253\"},{\"id\":\"4254\"}]},\"id\":\"4256\",\"type\":\"Toolbar\"},{\"attributes\":{\"children\":[{\"id\":\"4230\"},{\"id\":\"4234\"},{\"id\":\"4300\"}],\"margin\":[0,0,0,0],\"name\":\"Row07458\",\"tags\":[\"embedded\"]},\"id\":\"4229\",\"type\":\"Row\"},{\"attributes\":{\"overlay\":{\"id\":\"4255\"}},\"id\":\"4253\",\"type\":\"BoxZoomTool\"},{\"attributes\":{},\"id\":\"4264\",\"type\":\"Selection\"},{\"attributes\":{\"below\":[{\"id\":\"4243\"}],\"center\":[{\"id\":\"4245\"},{\"id\":\"4249\"}],\"height\":300,\"left\":[{\"id\":\"4246\"}],\"margin\":[5,5,5,5],\"min_border_bottom\":10,\"min_border_left\":10,\"min_border_right\":10,\"min_border_top\":10,\"renderers\":[{\"id\":\"4270\"}],\"sizing_mode\":\"fixed\",\"title\":{\"id\":\"4235\"},\"toolbar\":{\"id\":\"4256\"},\"width\":700,\"x_range\":{\"id\":\"4231\"},\"x_scale\":{\"id\":\"4239\"},\"y_range\":{\"id\":\"4232\"},\"y_scale\":{\"id\":\"4241\"}},\"id\":\"4234\",\"subtype\":\"Figure\",\"type\":\"Plot\"},{\"attributes\":{\"margin\":[5,5,5,5],\"name\":\"HSpacer07463\",\"sizing_mode\":\"stretch_width\"},\"id\":\"4300\",\"type\":\"Spacer\"},{\"attributes\":{\"line_color\":\"purple\",\"line_width\":2,\"x\":{\"field\":\"Years\"},\"y\":{\"field\":\"Revenue\"}},\"id\":\"4266\",\"type\":\"Line\"},{\"attributes\":{\"axis_label\":\"Revenue Periods\",\"coordinates\":null,\"formatter\":{\"id\":\"4275\"},\"group\":null,\"major_label_orientation\":0.7853981633974483,\"major_label_policy\":{\"id\":\"4276\"},\"ticker\":{\"id\":\"4244\"}},\"id\":\"4243\",\"type\":\"CategoricalAxis\"},{\"attributes\":{},\"id\":\"4254\",\"type\":\"ResetTool\"},{\"attributes\":{},\"id\":\"4275\",\"type\":\"CategoricalTickFormatter\"},{\"attributes\":{\"axis\":{\"id\":\"4246\"},\"coordinates\":null,\"dimension\":1,\"grid_line_color\":null,\"group\":null,\"ticker\":null},\"id\":\"4249\",\"type\":\"Grid\"},{\"attributes\":{\"bottom_units\":\"screen\",\"coordinates\":null,\"fill_alpha\":0.5,\"fill_color\":\"lightgrey\",\"group\":null,\"left_units\":\"screen\",\"level\":\"overlay\",\"line_alpha\":1.0,\"line_color\":\"black\",\"line_dash\":[4,4],\"line_width\":2,\"right_units\":\"screen\",\"syncable\":false,\"top_units\":\"screen\"},\"id\":\"4255\",\"type\":\"BoxAnnotation\"},{\"attributes\":{\"source\":{\"id\":\"4263\"}},\"id\":\"4271\",\"type\":\"CDSView\"},{\"attributes\":{\"line_alpha\":0.1,\"line_color\":\"purple\",\"line_width\":2,\"x\":{\"field\":\"Years\"},\"y\":{\"field\":\"Revenue\"}},\"id\":\"4267\",\"type\":\"Line\"},{\"attributes\":{\"line_color\":\"purple\",\"line_width\":2,\"x\":{\"field\":\"Years\"},\"y\":{\"field\":\"Revenue\"}},\"id\":\"4272\",\"type\":\"Line\"},{\"attributes\":{\"axis\":{\"id\":\"4243\"},\"coordinates\":null,\"grid_line_color\":null,\"group\":null,\"ticker\":null},\"id\":\"4245\",\"type\":\"Grid\"},{\"attributes\":{\"callback\":null,\"renderers\":[{\"id\":\"4270\"}],\"tags\":[\"hv_created\"],\"tooltips\":[[\"Years\",\"@{Years}\"],[\"Revenue\",\"@{Revenue}\"]]},\"id\":\"4233\",\"type\":\"HoverTool\"},{\"attributes\":{},\"id\":\"4247\",\"type\":\"BasicTicker\"},{\"attributes\":{\"axis_label\":\"Revenue\",\"coordinates\":null,\"formatter\":{\"id\":\"4273\"},\"group\":null,\"major_label_policy\":{\"id\":\"4279\"},\"ticker\":{\"id\":\"4247\"}},\"id\":\"4246\",\"type\":\"LinearAxis\"},{\"attributes\":{},\"id\":\"4250\",\"type\":\"SaveTool\"},{\"attributes\":{\"format\":\"%.0f\"},\"id\":\"4273\",\"type\":\"PrintfTickFormatter\"},{\"attributes\":{},\"id\":\"4241\",\"type\":\"LinearScale\"},{\"attributes\":{\"line_alpha\":0.2,\"line_color\":\"purple\",\"line_width\":2,\"x\":{\"field\":\"Years\"},\"y\":{\"field\":\"Revenue\"}},\"id\":\"4269\",\"type\":\"Line\"},{\"attributes\":{\"coordinates\":null,\"data_source\":{\"id\":\"4263\"},\"glyph\":{\"id\":\"4266\"},\"group\":null,\"hover_glyph\":{\"id\":\"4268\"},\"muted_glyph\":{\"id\":\"4269\"},\"nonselection_glyph\":{\"id\":\"4267\"},\"selection_glyph\":{\"id\":\"4272\"},\"view\":{\"id\":\"4271\"}},\"id\":\"4270\",\"type\":\"GlyphRenderer\"},{\"attributes\":{},\"id\":\"4288\",\"type\":\"UnionRenderers\"},{\"attributes\":{\"factors\":[\"Q1 - 2018\",\"Q2 - 2018\",\"Q3 - 2018\",\"Q4 - 2018\",\"Q1 - 2019\",\"Q2 - 2019\",\"Q3 - 2019\",\"Q4 - 2019\",\"Q1 - 2020\",\"Q2 - 2020\"],\"tags\":[[[\"Years\",\"Years\",null]]]},\"id\":\"4231\",\"type\":\"FactorRange\"},{\"attributes\":{},\"id\":\"4239\",\"type\":\"CategoricalScale\"},{\"attributes\":{\"line_color\":\"yellow\",\"line_width\":2,\"x\":{\"field\":\"Years\"},\"y\":{\"field\":\"Revenue\"}},\"id\":\"4268\",\"type\":\"Line\"},{\"attributes\":{},\"id\":\"4279\",\"type\":\"AllLabels\"},{\"attributes\":{\"data\":{\"Revenue\":[199117000,221252000,248691000,276756000,319602000,349494000,382304000,418121000,483660000,569140000],\"Years\":[\"Q1 - 2018\",\"Q2 - 2018\",\"Q3 - 2018\",\"Q4 - 2018\",\"Q1 - 2019\",\"Q2 - 2019\",\"Q3 - 2019\",\"Q4 - 2019\",\"Q1 - 2020\",\"Q2 - 2020\"]},\"selected\":{\"id\":\"4264\"},\"selection_policy\":{\"id\":\"4288\"}},\"id\":\"4263\",\"type\":\"ColumnDataSource\"}],\"root_ids\":[\"4229\"]},\"title\":\"Bokeh Application\",\"version\":\"2.4.2\"}};\n",
       "    var render_items = [{\"docid\":\"c9b2e0f8-6d8a-4d15-bc38-32f9dbe4723a\",\"root_ids\":[\"4229\"],\"roots\":{\"4229\":\"3996d047-3552-4151-afc1-03b8efb53095\"}}];\n",
       "    root.Bokeh.embed.embed_items_notebook(docs_json, render_items);\n",
       "  }\n",
       "  if (root.Bokeh !== undefined && root.Bokeh.Panel !== undefined) {\n",
       "    embed_document(root);\n",
       "  } else {\n",
       "    var attempts = 0;\n",
       "    var timer = setInterval(function(root) {\n",
       "      if (root.Bokeh !== undefined && root.Bokeh.Panel !== undefined) {\n",
       "        clearInterval(timer);\n",
       "        embed_document(root);\n",
       "      } else if (document.readyState == \"complete\") {\n",
       "        attempts++;\n",
       "        if (attempts > 200) {\n",
       "          clearInterval(timer);\n",
       "          console.log(\"Bokeh: ERROR: Unable to run BokehJS code because BokehJS library is missing\");\n",
       "        }\n",
       "      }\n",
       "    }, 25, root)\n",
       "  }\n",
       "})(window);</script>"
      ],
      "text/plain": [
       ":Curve   [Years]   (Revenue)"
      ]
     },
     "execution_count": 31,
     "metadata": {
      "application/vnd.holoviews_exec.v0+json": {
       "id": "4229"
      }
     },
     "output_type": "execute_result"
    }
   ],
   "source": [
    "# Create a styled line plot for the Asia-Pacific region. \n",
    "# Make the line_color orange and be sure to set the plot equal to a variable. \n",
    "ap_plot = ap_revenue['Revenue'].hvplot(\n",
    "    xlabel='Revenue Periods',\n",
    "    ylabel='Revenue', \n",
    "    rot=45,\n",
    "    label='Asia-Pacific - Q1 2018 through Q2 2020',\n",
    ").opts(\n",
    "    yformatter='%.0f', \n",
    "    line_color=\"purple\", \n",
    "    hover_line_color=\"yellow\"\n",
    ")  \n",
    "\n",
    "# Show the plot\n",
    "ap_plot"
   ]
  },
  {
   "cell_type": "code",
   "execution_count": 32,
   "metadata": {},
   "outputs": [],
   "source": [
    "# Create a DataFrame that slices the subscriber data for the Latin America region\n",
    "lam_revenue = regional_revenue_df.loc[regional_revenue_df['Area'] == 'Latin America']\n",
    "\n",
    "# Set the index of the DataFrame to Years\n",
    "lam_revenue = lam_revenue.set_index('Years')"
   ]
  },
  {
   "cell_type": "code",
   "execution_count": 33,
   "metadata": {},
   "outputs": [
    {
     "data": {},
     "metadata": {},
     "output_type": "display_data"
    },
    {
     "data": {
      "application/vnd.holoviews_exec.v0+json": "",
      "text/html": [
       "<div id='4347'>\n",
       "\n",
       "\n",
       "\n",
       "\n",
       "\n",
       "  <div class=\"bk-root\" id=\"45721b30-b5ca-42d5-99d2-56b2b258598e\" data-root-id=\"4347\"></div>\n",
       "</div>\n",
       "<script type=\"application/javascript\">(function(root) {\n",
       "  function embed_document(root) {\n",
       "    var docs_json = {\"f16bb5c2-f44e-455e-8efb-813f73d36e24\":{\"defs\":[{\"extends\":null,\"module\":null,\"name\":\"ReactiveHTML1\",\"overrides\":[],\"properties\":[]},{\"extends\":null,\"module\":null,\"name\":\"FlexBox1\",\"overrides\":[],\"properties\":[{\"default\":\"flex-start\",\"kind\":null,\"name\":\"align_content\"},{\"default\":\"flex-start\",\"kind\":null,\"name\":\"align_items\"},{\"default\":\"row\",\"kind\":null,\"name\":\"flex_direction\"},{\"default\":\"wrap\",\"kind\":null,\"name\":\"flex_wrap\"},{\"default\":\"flex-start\",\"kind\":null,\"name\":\"justify_content\"}]},{\"extends\":null,\"module\":null,\"name\":\"GridStack1\",\"overrides\":[],\"properties\":[{\"default\":\"warn\",\"kind\":null,\"name\":\"mode\"},{\"default\":null,\"kind\":null,\"name\":\"ncols\"},{\"default\":null,\"kind\":null,\"name\":\"nrows\"},{\"default\":true,\"kind\":null,\"name\":\"allow_resize\"},{\"default\":true,\"kind\":null,\"name\":\"allow_drag\"},{\"default\":[],\"kind\":null,\"name\":\"state\"}]},{\"extends\":null,\"module\":null,\"name\":\"click1\",\"overrides\":[],\"properties\":[{\"default\":\"\",\"kind\":null,\"name\":\"terminal_output\"},{\"default\":\"\",\"kind\":null,\"name\":\"debug_name\"},{\"default\":0,\"kind\":null,\"name\":\"clears\"}]},{\"extends\":null,\"module\":null,\"name\":\"TemplateActions1\",\"overrides\":[],\"properties\":[{\"default\":0,\"kind\":null,\"name\":\"open_modal\"},{\"default\":0,\"kind\":null,\"name\":\"close_modal\"}]},{\"extends\":null,\"module\":null,\"name\":\"MaterialTemplateActions1\",\"overrides\":[],\"properties\":[{\"default\":0,\"kind\":null,\"name\":\"open_modal\"},{\"default\":0,\"kind\":null,\"name\":\"close_modal\"}]}],\"roots\":{\"references\":[{\"attributes\":{\"axis_label\":\"Revenue Periods\",\"coordinates\":null,\"formatter\":{\"id\":\"4393\"},\"group\":null,\"major_label_orientation\":0.7853981633974483,\"major_label_policy\":{\"id\":\"4394\"},\"ticker\":{\"id\":\"4362\"}},\"id\":\"4361\",\"type\":\"CategoricalAxis\"},{\"attributes\":{},\"id\":\"4393\",\"type\":\"CategoricalTickFormatter\"},{\"attributes\":{\"line_color\":\"fuchsia\",\"line_width\":2,\"x\":{\"field\":\"Years\"},\"y\":{\"field\":\"Revenue\"}},\"id\":\"4390\",\"type\":\"Line\"},{\"attributes\":{\"callback\":null,\"renderers\":[{\"id\":\"4388\"}],\"tags\":[\"hv_created\"],\"tooltips\":[[\"Years\",\"@{Years}\"],[\"Revenue\",\"@{Revenue}\"]]},\"id\":\"4351\",\"type\":\"HoverTool\"},{\"attributes\":{},\"id\":\"4365\",\"type\":\"BasicTicker\"},{\"attributes\":{\"format\":\"%.0f\"},\"id\":\"4391\",\"type\":\"PrintfTickFormatter\"},{\"attributes\":{\"axis_label\":\"Revenue\",\"coordinates\":null,\"formatter\":{\"id\":\"4391\"},\"group\":null,\"major_label_policy\":{\"id\":\"4397\"},\"ticker\":{\"id\":\"4365\"}},\"id\":\"4364\",\"type\":\"LinearAxis\"},{\"attributes\":{},\"id\":\"4394\",\"type\":\"AllLabels\"},{\"attributes\":{\"margin\":[5,5,5,5],\"name\":\"HSpacer07686\",\"sizing_mode\":\"stretch_width\"},\"id\":\"4418\",\"type\":\"Spacer\"},{\"attributes\":{\"line_color\":\"fuchsia\",\"line_width\":2,\"x\":{\"field\":\"Years\"},\"y\":{\"field\":\"Revenue\"}},\"id\":\"4384\",\"type\":\"Line\"},{\"attributes\":{},\"id\":\"4397\",\"type\":\"AllLabels\"},{\"attributes\":{\"factors\":[\"Q1 - 2018\",\"Q2 - 2018\",\"Q3 - 2018\",\"Q4 - 2018\",\"Q1 - 2019\",\"Q2 - 2019\",\"Q3 - 2019\",\"Q4 - 2019\",\"Q1 - 2020\",\"Q2 - 2020\"],\"tags\":[[[\"Years\",\"Years\",null]]]},\"id\":\"4349\",\"type\":\"FactorRange\"},{\"attributes\":{\"coordinates\":null,\"data_source\":{\"id\":\"4381\"},\"glyph\":{\"id\":\"4384\"},\"group\":null,\"hover_glyph\":{\"id\":\"4386\"},\"muted_glyph\":{\"id\":\"4387\"},\"nonselection_glyph\":{\"id\":\"4385\"},\"selection_glyph\":{\"id\":\"4390\"},\"view\":{\"id\":\"4389\"}},\"id\":\"4388\",\"type\":\"GlyphRenderer\"},{\"attributes\":{\"axis\":{\"id\":\"4364\"},\"coordinates\":null,\"dimension\":1,\"grid_line_color\":null,\"group\":null,\"ticker\":null},\"id\":\"4367\",\"type\":\"Grid\"},{\"attributes\":{\"source\":{\"id\":\"4381\"}},\"id\":\"4389\",\"type\":\"CDSView\"},{\"attributes\":{},\"id\":\"4406\",\"type\":\"UnionRenderers\"},{\"attributes\":{},\"id\":\"4368\",\"type\":\"SaveTool\"},{\"attributes\":{},\"id\":\"4359\",\"type\":\"LinearScale\"},{\"attributes\":{},\"id\":\"4369\",\"type\":\"PanTool\"},{\"attributes\":{\"axis\":{\"id\":\"4361\"},\"coordinates\":null,\"grid_line_color\":null,\"group\":null,\"ticker\":null},\"id\":\"4363\",\"type\":\"Grid\"},{\"attributes\":{\"data\":{\"Revenue\":[540182000,568071000,562307000,567137000,630472000,677136000,741434000,746392000,793453000,785368000],\"Years\":[\"Q1 - 2018\",\"Q2 - 2018\",\"Q3 - 2018\",\"Q4 - 2018\",\"Q1 - 2019\",\"Q2 - 2019\",\"Q3 - 2019\",\"Q4 - 2019\",\"Q1 - 2020\",\"Q2 - 2020\"]},\"selected\":{\"id\":\"4382\"},\"selection_policy\":{\"id\":\"4406\"}},\"id\":\"4381\",\"type\":\"ColumnDataSource\"},{\"attributes\":{\"line_alpha\":0.1,\"line_color\":\"fuchsia\",\"line_width\":2,\"x\":{\"field\":\"Years\"},\"y\":{\"field\":\"Revenue\"}},\"id\":\"4385\",\"type\":\"Line\"},{\"attributes\":{},\"id\":\"4370\",\"type\":\"WheelZoomTool\"},{\"attributes\":{\"tools\":[{\"id\":\"4351\"},{\"id\":\"4368\"},{\"id\":\"4369\"},{\"id\":\"4370\"},{\"id\":\"4371\"},{\"id\":\"4372\"}]},\"id\":\"4374\",\"type\":\"Toolbar\"},{\"attributes\":{\"overlay\":{\"id\":\"4373\"}},\"id\":\"4371\",\"type\":\"BoxZoomTool\"},{\"attributes\":{\"margin\":[5,5,5,5],\"name\":\"HSpacer07685\",\"sizing_mode\":\"stretch_width\"},\"id\":\"4348\",\"type\":\"Spacer\"},{\"attributes\":{\"end\":818780100.0,\"reset_end\":818780100.0,\"reset_start\":514854900.0,\"start\":514854900.0,\"tags\":[[[\"Revenue\",\"Revenue\",null]]]},\"id\":\"4350\",\"type\":\"Range1d\"},{\"attributes\":{\"children\":[{\"id\":\"4348\"},{\"id\":\"4352\"},{\"id\":\"4418\"}],\"margin\":[0,0,0,0],\"name\":\"Row07681\",\"tags\":[\"embedded\"]},\"id\":\"4347\",\"type\":\"Row\"},{\"attributes\":{\"coordinates\":null,\"group\":null,\"text\":\"Latin America - Q1 2018 through Q2 2020\",\"text_color\":\"black\",\"text_font_size\":\"12pt\"},\"id\":\"4353\",\"type\":\"Title\"},{\"attributes\":{\"line_alpha\":0.2,\"line_color\":\"fuchsia\",\"line_width\":2,\"x\":{\"field\":\"Years\"},\"y\":{\"field\":\"Revenue\"}},\"id\":\"4387\",\"type\":\"Line\"},{\"attributes\":{},\"id\":\"4382\",\"type\":\"Selection\"},{\"attributes\":{},\"id\":\"4357\",\"type\":\"CategoricalScale\"},{\"attributes\":{\"below\":[{\"id\":\"4361\"}],\"center\":[{\"id\":\"4363\"},{\"id\":\"4367\"}],\"height\":300,\"left\":[{\"id\":\"4364\"}],\"margin\":[5,5,5,5],\"min_border_bottom\":10,\"min_border_left\":10,\"min_border_right\":10,\"min_border_top\":10,\"renderers\":[{\"id\":\"4388\"}],\"sizing_mode\":\"fixed\",\"title\":{\"id\":\"4353\"},\"toolbar\":{\"id\":\"4374\"},\"width\":700,\"x_range\":{\"id\":\"4349\"},\"x_scale\":{\"id\":\"4357\"},\"y_range\":{\"id\":\"4350\"},\"y_scale\":{\"id\":\"4359\"}},\"id\":\"4352\",\"subtype\":\"Figure\",\"type\":\"Plot\"},{\"attributes\":{},\"id\":\"4372\",\"type\":\"ResetTool\"},{\"attributes\":{\"bottom_units\":\"screen\",\"coordinates\":null,\"fill_alpha\":0.5,\"fill_color\":\"lightgrey\",\"group\":null,\"left_units\":\"screen\",\"level\":\"overlay\",\"line_alpha\":1.0,\"line_color\":\"black\",\"line_dash\":[4,4],\"line_width\":2,\"right_units\":\"screen\",\"syncable\":false,\"top_units\":\"screen\"},\"id\":\"4373\",\"type\":\"BoxAnnotation\"},{\"attributes\":{\"line_color\":\"yellow\",\"line_width\":2,\"x\":{\"field\":\"Years\"},\"y\":{\"field\":\"Revenue\"}},\"id\":\"4386\",\"type\":\"Line\"},{\"attributes\":{},\"id\":\"4362\",\"type\":\"CategoricalTicker\"}],\"root_ids\":[\"4347\"]},\"title\":\"Bokeh Application\",\"version\":\"2.4.2\"}};\n",
       "    var render_items = [{\"docid\":\"f16bb5c2-f44e-455e-8efb-813f73d36e24\",\"root_ids\":[\"4347\"],\"roots\":{\"4347\":\"45721b30-b5ca-42d5-99d2-56b2b258598e\"}}];\n",
       "    root.Bokeh.embed.embed_items_notebook(docs_json, render_items);\n",
       "  }\n",
       "  if (root.Bokeh !== undefined && root.Bokeh.Panel !== undefined) {\n",
       "    embed_document(root);\n",
       "  } else {\n",
       "    var attempts = 0;\n",
       "    var timer = setInterval(function(root) {\n",
       "      if (root.Bokeh !== undefined && root.Bokeh.Panel !== undefined) {\n",
       "        clearInterval(timer);\n",
       "        embed_document(root);\n",
       "      } else if (document.readyState == \"complete\") {\n",
       "        attempts++;\n",
       "        if (attempts > 200) {\n",
       "          clearInterval(timer);\n",
       "          console.log(\"Bokeh: ERROR: Unable to run BokehJS code because BokehJS library is missing\");\n",
       "        }\n",
       "      }\n",
       "    }, 25, root)\n",
       "  }\n",
       "})(window);</script>"
      ],
      "text/plain": [
       ":Curve   [Years]   (Revenue)"
      ]
     },
     "execution_count": 33,
     "metadata": {
      "application/vnd.holoviews_exec.v0+json": {
       "id": "4347"
      }
     },
     "output_type": "execute_result"
    }
   ],
   "source": [
    "# Create a styled line plot for the Latin America region. \n",
    "# Make the line_color orange and be sure to set the plot equal to a variable. \n",
    "lam_plot = lam_revenue['Revenue'].hvplot(\n",
    "    xlabel='Revenue Periods',\n",
    "    ylabel='Revenue', \n",
    "    rot=45,\n",
    "    label='Latin America - Q1 2018 through Q2 2020',\n",
    ").opts(\n",
    "    yformatter='%.0f', \n",
    "    line_color=\"fuchsia\", \n",
    "    hover_line_color=\"yellow\"\n",
    ")  \n",
    "\n",
    "# Show the plot\n",
    "lam_plot"
   ]
  },
  {
   "cell_type": "code",
   "execution_count": 34,
   "metadata": {},
   "outputs": [
    {
     "data": {},
     "metadata": {},
     "output_type": "display_data"
    },
    {
     "data": {
      "application/vnd.holoviews_exec.v0+json": "",
      "text/html": [
       "<div id='4465'>\n",
       "\n",
       "\n",
       "\n",
       "\n",
       "\n",
       "  <div class=\"bk-root\" id=\"640dcee3-267f-4355-8d0d-bb684f6681ed\" data-root-id=\"4465\"></div>\n",
       "</div>\n",
       "<script type=\"application/javascript\">(function(root) {\n",
       "  function embed_document(root) {\n",
       "    var docs_json = {\"a5b56d88-c374-4c85-a660-0746f83e3bf3\":{\"defs\":[{\"extends\":null,\"module\":null,\"name\":\"ReactiveHTML1\",\"overrides\":[],\"properties\":[]},{\"extends\":null,\"module\":null,\"name\":\"FlexBox1\",\"overrides\":[],\"properties\":[{\"default\":\"flex-start\",\"kind\":null,\"name\":\"align_content\"},{\"default\":\"flex-start\",\"kind\":null,\"name\":\"align_items\"},{\"default\":\"row\",\"kind\":null,\"name\":\"flex_direction\"},{\"default\":\"wrap\",\"kind\":null,\"name\":\"flex_wrap\"},{\"default\":\"flex-start\",\"kind\":null,\"name\":\"justify_content\"}]},{\"extends\":null,\"module\":null,\"name\":\"GridStack1\",\"overrides\":[],\"properties\":[{\"default\":\"warn\",\"kind\":null,\"name\":\"mode\"},{\"default\":null,\"kind\":null,\"name\":\"ncols\"},{\"default\":null,\"kind\":null,\"name\":\"nrows\"},{\"default\":true,\"kind\":null,\"name\":\"allow_resize\"},{\"default\":true,\"kind\":null,\"name\":\"allow_drag\"},{\"default\":[],\"kind\":null,\"name\":\"state\"}]},{\"extends\":null,\"module\":null,\"name\":\"click1\",\"overrides\":[],\"properties\":[{\"default\":\"\",\"kind\":null,\"name\":\"terminal_output\"},{\"default\":\"\",\"kind\":null,\"name\":\"debug_name\"},{\"default\":0,\"kind\":null,\"name\":\"clears\"}]},{\"extends\":null,\"module\":null,\"name\":\"TemplateActions1\",\"overrides\":[],\"properties\":[{\"default\":0,\"kind\":null,\"name\":\"open_modal\"},{\"default\":0,\"kind\":null,\"name\":\"close_modal\"}]},{\"extends\":null,\"module\":null,\"name\":\"MaterialTemplateActions1\",\"overrides\":[],\"properties\":[{\"default\":0,\"kind\":null,\"name\":\"open_modal\"},{\"default\":0,\"kind\":null,\"name\":\"close_modal\"}]}],\"roots\":{\"references\":[{\"attributes\":{},\"id\":\"4504\",\"type\":\"CategoricalTickFormatter\"},{\"attributes\":{},\"id\":\"4549\",\"type\":\"UnionRenderers\"},{\"attributes\":{\"data\":{\"Revenue\":[199117000,221252000,248691000,276756000,319602000,349494000,382304000,418121000,483660000,569140000],\"Years\":[\"Q1 - 2018\",\"Q2 - 2018\",\"Q3 - 2018\",\"Q4 - 2018\",\"Q1 - 2019\",\"Q2 - 2019\",\"Q3 - 2019\",\"Q4 - 2019\",\"Q1 - 2020\",\"Q2 - 2020\"]},\"selected\":{\"id\":\"4555\"},\"selection_policy\":{\"id\":\"4573\"}},\"id\":\"4554\",\"type\":\"ColumnDataSource\"},{\"attributes\":{},\"id\":\"4478\",\"type\":\"CategoricalScale\"},{\"attributes\":{\"line_color\":\"orange\",\"line_width\":2,\"x\":{\"field\":\"Years\"},\"y\":{\"field\":\"Revenue\"}},\"id\":\"4553\",\"type\":\"Line\"},{\"attributes\":{},\"id\":\"4480\",\"type\":\"LinearScale\"},{\"attributes\":{},\"id\":\"4486\",\"type\":\"BasicTicker\"},{\"attributes\":{\"label\":{\"value\":\"Europe, Middle East and Africa - Q1 2018 through Q2 2020\"},\"renderers\":[{\"id\":\"4539\"}]},\"id\":\"4552\",\"type\":\"LegendItem\"},{\"attributes\":{\"axis\":{\"id\":\"4485\"},\"coordinates\":null,\"dimension\":1,\"grid_line_color\":null,\"group\":null,\"ticker\":null},\"id\":\"4488\",\"type\":\"Grid\"},{\"attributes\":{\"line_color\":\"yellow\",\"line_width\":2,\"x\":{\"field\":\"Years\"},\"y\":{\"field\":\"Revenue\"}},\"id\":\"4559\",\"type\":\"Line\"},{\"attributes\":{\"factors\":[\"Q1 - 2018\",\"Q2 - 2018\",\"Q3 - 2018\",\"Q4 - 2018\",\"Q1 - 2019\",\"Q2 - 2019\",\"Q3 - 2019\",\"Q4 - 2019\",\"Q1 - 2020\",\"Q2 - 2020\"],\"tags\":[[[\"Years\",\"Years\",null]]]},\"id\":\"4467\",\"type\":\"FactorRange\"},{\"attributes\":{\"tools\":[{\"id\":\"4469\"},{\"id\":\"4489\"},{\"id\":\"4490\"},{\"id\":\"4491\"},{\"id\":\"4492\"},{\"id\":\"4493\"}]},\"id\":\"4495\",\"type\":\"Toolbar\"},{\"attributes\":{},\"id\":\"4508\",\"type\":\"AllLabels\"},{\"attributes\":{\"axis_label\":\"Revenue\",\"coordinates\":null,\"formatter\":{\"id\":\"4502\"},\"group\":null,\"major_label_policy\":{\"id\":\"4508\"},\"ticker\":{\"id\":\"4486\"}},\"id\":\"4485\",\"type\":\"LinearAxis\"},{\"attributes\":{\"callback\":null,\"renderers\":[{\"id\":\"4518\"},{\"id\":\"4539\"},{\"id\":\"4561\"},{\"id\":\"4585\"}],\"tags\":[\"hv_created\"],\"tooltips\":[[\"Years\",\"@{Years}\"],[\"Revenue\",\"@{Revenue}\"]]},\"id\":\"4469\",\"type\":\"HoverTool\"},{\"attributes\":{},\"id\":\"4489\",\"type\":\"SaveTool\"},{\"attributes\":{\"data\":{\"Revenue\":[886649000,975497000,1004749000,1096812000,1233379000,1319087000,1428040000,1562561000,1723474000,1892537000],\"Years\":[\"Q1 - 2018\",\"Q2 - 2018\",\"Q3 - 2018\",\"Q4 - 2018\",\"Q1 - 2019\",\"Q2 - 2019\",\"Q3 - 2019\",\"Q4 - 2019\",\"Q1 - 2020\",\"Q2 - 2020\"]},\"selected\":{\"id\":\"4533\"},\"selection_policy\":{\"id\":\"4549\"}},\"id\":\"4532\",\"type\":\"ColumnDataSource\"},{\"attributes\":{\"line_alpha\":0.2,\"line_color\":\"purple\",\"line_width\":2,\"x\":{\"field\":\"Years\"},\"y\":{\"field\":\"Revenue\"}},\"id\":\"4560\",\"type\":\"Line\"},{\"attributes\":{},\"id\":\"4483\",\"type\":\"CategoricalTicker\"},{\"attributes\":{},\"id\":\"4490\",\"type\":\"PanTool\"},{\"attributes\":{\"axis_label\":\"Revenue Periods\",\"coordinates\":null,\"formatter\":{\"id\":\"4504\"},\"group\":null,\"major_label_orientation\":0.7853981633974483,\"major_label_policy\":{\"id\":\"4505\"},\"ticker\":{\"id\":\"4483\"}},\"id\":\"4482\",\"type\":\"CategoricalAxis\"},{\"attributes\":{},\"id\":\"4491\",\"type\":\"WheelZoomTool\"},{\"attributes\":{},\"id\":\"4555\",\"type\":\"Selection\"},{\"attributes\":{\"line_color\":\"purple\",\"line_width\":2,\"x\":{\"field\":\"Years\"},\"y\":{\"field\":\"Revenue\"}},\"id\":\"4557\",\"type\":\"Line\"},{\"attributes\":{\"line_color\":\"orange\",\"line_width\":2,\"x\":{\"field\":\"Years\"},\"y\":{\"field\":\"Revenue\"}},\"id\":\"4535\",\"type\":\"Line\"},{\"attributes\":{\"line_alpha\":0.1,\"line_color\":\"purple\",\"line_width\":2,\"x\":{\"field\":\"Years\"},\"y\":{\"field\":\"Revenue\"}},\"id\":\"4558\",\"type\":\"Line\"},{\"attributes\":{\"overlay\":{\"id\":\"4494\"}},\"id\":\"4492\",\"type\":\"BoxZoomTool\"},{\"attributes\":{},\"id\":\"4599\",\"type\":\"UnionRenderers\"},{\"attributes\":{\"line_color\":\"blue\",\"line_width\":2,\"x\":{\"field\":\"Years\"},\"y\":{\"field\":\"Revenue\"}},\"id\":\"4514\",\"type\":\"Line\"},{\"attributes\":{\"coordinates\":null,\"data_source\":{\"id\":\"4554\"},\"glyph\":{\"id\":\"4557\"},\"group\":null,\"hover_glyph\":{\"id\":\"4559\"},\"muted_glyph\":{\"id\":\"4560\"},\"nonselection_glyph\":{\"id\":\"4558\"},\"selection_glyph\":{\"id\":\"4577\"},\"view\":{\"id\":\"4562\"}},\"id\":\"4561\",\"type\":\"GlyphRenderer\"},{\"attributes\":{},\"id\":\"4493\",\"type\":\"ResetTool\"},{\"attributes\":{\"bottom_units\":\"screen\",\"coordinates\":null,\"fill_alpha\":0.5,\"fill_color\":\"lightgrey\",\"group\":null,\"left_units\":\"screen\",\"level\":\"overlay\",\"line_alpha\":1.0,\"line_color\":\"black\",\"line_dash\":[4,4],\"line_width\":2,\"right_units\":\"screen\",\"syncable\":false,\"top_units\":\"screen\"},\"id\":\"4494\",\"type\":\"BoxAnnotation\"},{\"attributes\":{\"source\":{\"id\":\"4554\"}},\"id\":\"4562\",\"type\":\"CDSView\"},{\"attributes\":{},\"id\":\"4505\",\"type\":\"AllLabels\"},{\"attributes\":{\"label\":{\"value\":\"Asia-Pacific - Q1 2018 through Q2 2020\"},\"renderers\":[{\"id\":\"4561\"}]},\"id\":\"4576\",\"type\":\"LegendItem\"},{\"attributes\":{\"line_alpha\":0.1,\"line_color\":\"orange\",\"line_width\":2,\"x\":{\"field\":\"Years\"},\"y\":{\"field\":\"Revenue\"}},\"id\":\"4536\",\"type\":\"Line\"},{\"attributes\":{},\"id\":\"4573\",\"type\":\"UnionRenderers\"},{\"attributes\":{\"line_color\":\"purple\",\"line_width\":2,\"x\":{\"field\":\"Years\"},\"y\":{\"field\":\"Revenue\"}},\"id\":\"4577\",\"type\":\"Line\"},{\"attributes\":{\"data\":{\"Revenue\":[540182000,568071000,562307000,567137000,630472000,677136000,741434000,746392000,793453000,785368000],\"Years\":[\"Q1 - 2018\",\"Q2 - 2018\",\"Q3 - 2018\",\"Q4 - 2018\",\"Q1 - 2019\",\"Q2 - 2019\",\"Q3 - 2019\",\"Q4 - 2019\",\"Q1 - 2020\",\"Q2 - 2020\"]},\"selected\":{\"id\":\"4579\"},\"selection_policy\":{\"id\":\"4599\"}},\"id\":\"4578\",\"type\":\"ColumnDataSource\"},{\"attributes\":{\"line_color\":\"yellow\",\"line_width\":2,\"x\":{\"field\":\"Years\"},\"y\":{\"field\":\"Revenue\"}},\"id\":\"4583\",\"type\":\"Line\"},{\"attributes\":{\"line_color\":\"yellow\",\"line_width\":2,\"x\":{\"field\":\"Years\"},\"y\":{\"field\":\"Revenue\"}},\"id\":\"4516\",\"type\":\"Line\"},{\"attributes\":{\"source\":{\"id\":\"4532\"}},\"id\":\"4540\",\"type\":\"CDSView\"},{\"attributes\":{\"axis\":{\"id\":\"4482\"},\"coordinates\":null,\"grid_line_color\":null,\"group\":null,\"ticker\":null},\"id\":\"4484\",\"type\":\"Grid\"},{\"attributes\":{},\"id\":\"4512\",\"type\":\"Selection\"},{\"attributes\":{},\"id\":\"4533\",\"type\":\"Selection\"},{\"attributes\":{},\"id\":\"4579\",\"type\":\"Selection\"},{\"attributes\":{\"line_alpha\":0.2,\"line_color\":\"blue\",\"line_width\":2,\"x\":{\"field\":\"Years\"},\"y\":{\"field\":\"Revenue\"}},\"id\":\"4517\",\"type\":\"Line\"},{\"attributes\":{\"line_alpha\":0.1,\"line_color\":\"blue\",\"line_width\":2,\"x\":{\"field\":\"Years\"},\"y\":{\"field\":\"Revenue\"}},\"id\":\"4515\",\"type\":\"Line\"},{\"attributes\":{\"margin\":[5,5,5,5],\"name\":\"HSpacer07994\",\"sizing_mode\":\"stretch_width\"},\"id\":\"4739\",\"type\":\"Spacer\"},{\"attributes\":{\"line_color\":\"blue\",\"line_width\":2,\"x\":{\"field\":\"Years\"},\"y\":{\"field\":\"Revenue\"}},\"id\":\"4531\",\"type\":\"Line\"},{\"attributes\":{\"end\":3103725300.0,\"reset_end\":3103725300.0,\"reset_start\":-64938300.0,\"start\":-64938300.0,\"tags\":[[[\"Revenue\",\"Revenue\",null]]]},\"id\":\"4468\",\"type\":\"Range1d\"},{\"attributes\":{\"coordinates\":null,\"data_source\":{\"id\":\"4578\"},\"glyph\":{\"id\":\"4581\"},\"group\":null,\"hover_glyph\":{\"id\":\"4583\"},\"muted_glyph\":{\"id\":\"4584\"},\"nonselection_glyph\":{\"id\":\"4582\"},\"selection_glyph\":{\"id\":\"4603\"},\"view\":{\"id\":\"4586\"}},\"id\":\"4585\",\"type\":\"GlyphRenderer\"},{\"attributes\":{\"coordinates\":null,\"group\":null,\"text\":\"Regional Revenue Growth - Q1 2018 through Q2 2020\",\"text_color\":\"black\",\"text_font_size\":\"12pt\"},\"id\":\"4474\",\"type\":\"Title\"},{\"attributes\":{\"coordinates\":null,\"data_source\":{\"id\":\"4511\"},\"glyph\":{\"id\":\"4514\"},\"group\":null,\"hover_glyph\":{\"id\":\"4516\"},\"muted_glyph\":{\"id\":\"4517\"},\"nonselection_glyph\":{\"id\":\"4515\"},\"selection_glyph\":{\"id\":\"4531\"},\"view\":{\"id\":\"4519\"}},\"id\":\"4518\",\"type\":\"GlyphRenderer\"},{\"attributes\":{\"label\":{\"value\":\"Latin America - Q1 2018 through Q2 2020\"},\"renderers\":[{\"id\":\"4585\"}]},\"id\":\"4602\",\"type\":\"LegendItem\"},{\"attributes\":{\"line_color\":\"fuchsia\",\"line_width\":2,\"x\":{\"field\":\"Years\"},\"y\":{\"field\":\"Revenue\"}},\"id\":\"4581\",\"type\":\"Line\"},{\"attributes\":{\"coordinates\":null,\"data_source\":{\"id\":\"4532\"},\"glyph\":{\"id\":\"4535\"},\"group\":null,\"hover_glyph\":{\"id\":\"4537\"},\"muted_glyph\":{\"id\":\"4538\"},\"nonselection_glyph\":{\"id\":\"4536\"},\"selection_glyph\":{\"id\":\"4553\"},\"view\":{\"id\":\"4540\"}},\"id\":\"4539\",\"type\":\"GlyphRenderer\"},{\"attributes\":{\"data\":{\"Revenue\":[1976157000,2049546000,2094850000,2160979000,2256851000,2501199000,2621250000,2671908000,2702776000,2839670000],\"Years\":[\"Q1 - 2018\",\"Q2 - 2018\",\"Q3 - 2018\",\"Q4 - 2018\",\"Q1 - 2019\",\"Q2 - 2019\",\"Q3 - 2019\",\"Q4 - 2019\",\"Q1 - 2020\",\"Q2 - 2020\"]},\"selected\":{\"id\":\"4512\"},\"selection_policy\":{\"id\":\"4526\"}},\"id\":\"4511\",\"type\":\"ColumnDataSource\"},{\"attributes\":{\"source\":{\"id\":\"4578\"}},\"id\":\"4586\",\"type\":\"CDSView\"},{\"attributes\":{\"line_alpha\":0.2,\"line_color\":\"fuchsia\",\"line_width\":2,\"x\":{\"field\":\"Years\"},\"y\":{\"field\":\"Revenue\"}},\"id\":\"4584\",\"type\":\"Line\"},{\"attributes\":{\"source\":{\"id\":\"4511\"}},\"id\":\"4519\",\"type\":\"CDSView\"},{\"attributes\":{\"line_alpha\":0.1,\"line_color\":\"fuchsia\",\"line_width\":2,\"x\":{\"field\":\"Years\"},\"y\":{\"field\":\"Revenue\"}},\"id\":\"4582\",\"type\":\"Line\"},{\"attributes\":{\"label\":{\"value\":\"United States and Canada Revenue - Q1 2018 through Q2 2020\"},\"renderers\":[{\"id\":\"4518\"}]},\"id\":\"4530\",\"type\":\"LegendItem\"},{\"attributes\":{\"click_policy\":\"mute\",\"coordinates\":null,\"group\":null,\"items\":[{\"id\":\"4530\"},{\"id\":\"4552\"},{\"id\":\"4576\"},{\"id\":\"4602\"}]},\"id\":\"4529\",\"type\":\"Legend\"},{\"attributes\":{\"line_color\":\"fuchsia\",\"line_width\":2,\"x\":{\"field\":\"Years\"},\"y\":{\"field\":\"Revenue\"}},\"id\":\"4603\",\"type\":\"Line\"},{\"attributes\":{},\"id\":\"4526\",\"type\":\"UnionRenderers\"},{\"attributes\":{\"children\":[{\"id\":\"4466\"},{\"id\":\"4473\"},{\"id\":\"4739\"}],\"margin\":[0,0,0,0],\"name\":\"Row07989\",\"tags\":[\"embedded\"]},\"id\":\"4465\",\"type\":\"Row\"},{\"attributes\":{\"margin\":[5,5,5,5],\"name\":\"HSpacer07993\",\"sizing_mode\":\"stretch_width\"},\"id\":\"4466\",\"type\":\"Spacer\"},{\"attributes\":{\"format\":\"%.0f\"},\"id\":\"4502\",\"type\":\"PrintfTickFormatter\"},{\"attributes\":{\"line_alpha\":0.2,\"line_color\":\"orange\",\"line_width\":2,\"x\":{\"field\":\"Years\"},\"y\":{\"field\":\"Revenue\"}},\"id\":\"4538\",\"type\":\"Line\"},{\"attributes\":{\"background_fill_color\":\"lightgrey\",\"below\":[{\"id\":\"4482\"}],\"center\":[{\"id\":\"4484\"},{\"id\":\"4488\"},{\"id\":\"4529\"}],\"height\":500,\"left\":[{\"id\":\"4485\"}],\"margin\":[5,5,5,5],\"min_border_bottom\":10,\"min_border_left\":10,\"min_border_right\":10,\"min_border_top\":10,\"renderers\":[{\"id\":\"4518\"},{\"id\":\"4539\"},{\"id\":\"4561\"},{\"id\":\"4585\"}],\"sizing_mode\":\"fixed\",\"title\":{\"id\":\"4474\"},\"toolbar\":{\"id\":\"4495\"},\"width\":1000,\"x_range\":{\"id\":\"4467\"},\"x_scale\":{\"id\":\"4478\"},\"y_range\":{\"id\":\"4468\"},\"y_scale\":{\"id\":\"4480\"}},\"id\":\"4473\",\"subtype\":\"Figure\",\"type\":\"Plot\"},{\"attributes\":{\"line_color\":\"yellow\",\"line_width\":2,\"x\":{\"field\":\"Years\"},\"y\":{\"field\":\"Revenue\"}},\"id\":\"4537\",\"type\":\"Line\"}],\"root_ids\":[\"4465\"]},\"title\":\"Bokeh Application\",\"version\":\"2.4.2\"}};\n",
       "    var render_items = [{\"docid\":\"a5b56d88-c374-4c85-a660-0746f83e3bf3\",\"root_ids\":[\"4465\"],\"roots\":{\"4465\":\"640dcee3-267f-4355-8d0d-bb684f6681ed\"}}];\n",
       "    root.Bokeh.embed.embed_items_notebook(docs_json, render_items);\n",
       "  }\n",
       "  if (root.Bokeh !== undefined && root.Bokeh.Panel !== undefined) {\n",
       "    embed_document(root);\n",
       "  } else {\n",
       "    var attempts = 0;\n",
       "    var timer = setInterval(function(root) {\n",
       "      if (root.Bokeh !== undefined && root.Bokeh.Panel !== undefined) {\n",
       "        clearInterval(timer);\n",
       "        embed_document(root);\n",
       "      } else if (document.readyState == \"complete\") {\n",
       "        attempts++;\n",
       "        if (attempts > 200) {\n",
       "          clearInterval(timer);\n",
       "          console.log(\"Bokeh: ERROR: Unable to run BokehJS code because BokehJS library is missing\");\n",
       "        }\n",
       "      }\n",
       "    }, 25, root)\n",
       "  }\n",
       "})(window);</script>"
      ],
      "text/plain": [
       ":Overlay\n",
       "   .Curve.United_States_and_Canada_Revenue_hyphen_minus_Q1_2018_through_Q2_2020    :Curve   [Years]   (Revenue)\n",
       "   .Curve.Europe_comma_Middle_East_and_Africa_hyphen_minus_Q1_2018_through_Q2_2020 :Curve   [Years]   (Revenue)\n",
       "   .Curve.Asia_hyphen_minus_Pacific_hyphen_minus_Q1_2018_through_Q2_2020           :Curve   [Years]   (Revenue)\n",
       "   .Curve.Latin_America_hyphen_minus_Q1_2018_through_Q2_2020                       :Curve   [Years]   (Revenue)"
      ]
     },
     "execution_count": 34,
     "metadata": {
      "application/vnd.holoviews_exec.v0+json": {
       "id": "4465"
      }
     },
     "output_type": "execute_result"
    }
   ],
   "source": [
    "# Create a compose plot for all four regions\n",
    "(us_canada_plot * emea_plot * ap_plot * lam_plot).opts(\n",
    "    title=\"Regional Revenue Growth - Q1 2018 through Q2 2020\",\n",
    "    bgcolor=\"lightgrey\", \n",
    "    height=500,\n",
    "    width=1000,\n",
    ")"
   ]
  },
  {
   "cell_type": "code",
   "execution_count": null,
   "metadata": {},
   "outputs": [],
   "source": []
  }
 ],
 "metadata": {
  "kernelspec": {
   "display_name": "Python 3 (ipykernel)",
   "language": "python",
   "name": "python3"
  },
  "language_info": {
   "codemirror_mode": {
    "name": "ipython",
    "version": 3
   },
   "file_extension": ".py",
   "mimetype": "text/x-python",
   "name": "python",
   "nbconvert_exporter": "python",
   "pygments_lexer": "ipython3",
   "version": "3.7.13"
  }
 },
 "nbformat": 4,
 "nbformat_minor": 4
}
