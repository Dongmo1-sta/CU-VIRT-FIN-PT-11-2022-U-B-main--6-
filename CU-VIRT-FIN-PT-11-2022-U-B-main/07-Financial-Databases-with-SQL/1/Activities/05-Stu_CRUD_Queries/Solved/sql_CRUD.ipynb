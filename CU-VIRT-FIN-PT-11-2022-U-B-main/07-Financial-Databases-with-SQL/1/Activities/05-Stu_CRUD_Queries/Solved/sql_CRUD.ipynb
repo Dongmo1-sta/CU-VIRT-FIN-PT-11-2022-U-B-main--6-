{
 "cells": [
  {
   "cell_type": "markdown",
   "metadata": {},
   "source": [
    "# SQL CRUD \n",
    "\n",
    "In this activity, you will apply `SQL` CRUD operations to a database of account payments. You will need to SELECT and filter data using SQL then INSERT, UPDATE, and DELETE records from the tables.\n",
    "\n",
    "## Instructions\n",
    "\n",
    "Complete the following steps:\n",
    "\n",
    "1. Import the SQLAlchemy module.\n",
    "\n",
    "2. Create a database connection string that imports the `bank_payments.db` from the Resources folder.\n",
    "\n",
    "3. Create a [database engine object](https://docs.sqlalchemy.org/en/14/core/engines.html) that utilizes the database connection string.\n",
    "\n",
    "4. Get a list of the tables included in the in the database.\n",
    "\n",
    "5. Run a query that `SELECT`s all of the data from the `banks` table.\n",
    "\n",
    "6. Using a SQL `SELECT` statement, find the bank routing number of the bank where the bank name equals 'TD Bank'. List the bank routing number to confirm.\n",
    "\n",
    "7. Insert a new bank into the `banks` table. Once the query has been executed, confirm that the bank has been added to the list.\n",
    "   * Use a '10' for the `bank_id`.\n",
    "   * The bank name will be 'Royal Bank of Canada'.\n",
    "   * The bank routing number will be '000300002'.<br>\n",
    "\n",
    "\n",
    "8. `WHERE` the bank id equals 10, `UPDATE` the bank name to 'RBC'. Confirm that the bank name has been updated.\n",
    "\n",
    "9. `DELETE` the bank where the bank id equals to 3 from `banks` table. Confirm that the bank has been deleted.\n"
   ]
  },
  {
   "cell_type": "markdown",
   "metadata": {},
   "source": [
    "## 1. Import the SQLAlchemy module."
   ]
  },
  {
   "cell_type": "code",
   "execution_count": 1,
   "metadata": {},
   "outputs": [],
   "source": [
    "# Import modules\n",
    "import sqlalchemy as sql"
   ]
  },
  {
   "cell_type": "markdown",
   "metadata": {},
   "source": [
    "## 2. Create a database connection string that imports the bank_payments.db from the Resources folder."
   ]
  },
  {
   "cell_type": "code",
   "execution_count": 2,
   "metadata": {},
   "outputs": [],
   "source": [
    "# Database connection string\n",
    "database_connection_string = 'sqlite:///../Resources/bank_payments.db'"
   ]
  },
  {
   "cell_type": "markdown",
   "metadata": {},
   "source": [
    "## 3. Create a [database engine object](https://docs.sqlalchemy.org/en/14/core/engines.html) that utilizes the database connection string."
   ]
  },
  {
   "cell_type": "code",
   "execution_count": 3,
   "metadata": {},
   "outputs": [],
   "source": [
    "# Database engine\n",
    "engine = sql.create_engine(database_connection_string, echo=True)"
   ]
  },
  {
   "cell_type": "markdown",
   "metadata": {},
   "source": [
    "## 4. Get a list of the tables included in the in the database."
   ]
  },
  {
   "cell_type": "code",
   "execution_count": 4,
   "metadata": {},
   "outputs": [
    {
     "name": "stdout",
     "output_type": "stream",
     "text": [
      "2023-01-17 20:18:34,332 INFO sqlalchemy.engine.base.Engine SELECT CAST('test plain returns' AS VARCHAR(60)) AS anon_1\n",
      "2023-01-17 20:18:34,333 INFO sqlalchemy.engine.base.Engine ()\n",
      "2023-01-17 20:18:34,334 INFO sqlalchemy.engine.base.Engine SELECT CAST('test unicode returns' AS VARCHAR(60)) AS anon_1\n",
      "2023-01-17 20:18:34,335 INFO sqlalchemy.engine.base.Engine ()\n",
      "2023-01-17 20:18:34,337 INFO sqlalchemy.engine.base.Engine SELECT name FROM sqlite_master WHERE type='table' ORDER BY name\n",
      "2023-01-17 20:18:34,338 INFO sqlalchemy.engine.base.Engine ()\n"
     ]
    },
    {
     "data": {
      "text/plain": [
       "['banks', 'customer', 'payments']"
      ]
     },
     "execution_count": 4,
     "metadata": {},
     "output_type": "execute_result"
    }
   ],
   "source": [
    "# Get table names from the database\n",
    "engine.table_names()"
   ]
  },
  {
   "cell_type": "markdown",
   "metadata": {},
   "source": [
    "## 5. Run a query that `SELECT`s all of the data from the `banks` table."
   ]
  },
  {
   "cell_type": "code",
   "execution_count": 5,
   "metadata": {},
   "outputs": [
    {
     "name": "stdout",
     "output_type": "stream",
     "text": [
      "2023-01-17 20:18:52,856 INFO sqlalchemy.engine.base.Engine SELECT * FROM banks\n",
      "2023-01-17 20:18:52,857 INFO sqlalchemy.engine.base.Engine ()\n"
     ]
    },
    {
     "data": {
      "text/plain": [
       "[('bank_id', 'bank_name', 'bank_routing_number'),\n",
       " (1, 'Bank of America', 198491827),\n",
       " (2, 'Wells Fargo', 629873495),\n",
       " (3, 'JPMorgan Chase', 2340903984),\n",
       " (4, 'Citigroup', 890123900),\n",
       " (5, 'TD Bank', 905192010),\n",
       " (6, 'Capital One', 184619239),\n",
       " (7, 'Ally Bank', 316289502),\n",
       " (8, 'Discover Bank', 639893944),\n",
       " (9, 'Bank of New York Mellon', 8734569384)]"
      ]
     },
     "execution_count": 5,
     "metadata": {},
     "output_type": "execute_result"
    }
   ],
   "source": [
    "# Select all of the data from the banks table\n",
    "sql_select = \"SELECT * FROM banks\"\n",
    "\n",
    "# Execute the sql query\n",
    "results = engine.execute(sql_select)\n",
    "\n",
    "# List the query results\n",
    "list(results)"
   ]
  },
  {
   "cell_type": "markdown",
   "metadata": {},
   "source": [
    "## 6. Using a SQL `SELECT` statement, find the bank routing number where the bank name equals 'TD Bank'."
   ]
  },
  {
   "cell_type": "code",
   "execution_count": 6,
   "metadata": {},
   "outputs": [],
   "source": [
    "# Select TD Bank's routing number\n",
    "sql_select = \"\"\"\n",
    "SELECT bank_routing_number\n",
    "FROM banks\n",
    "WHERE bank_name = 'TD Bank'\n",
    "\"\"\""
   ]
  },
  {
   "cell_type": "code",
   "execution_count": 7,
   "metadata": {},
   "outputs": [
    {
     "name": "stdout",
     "output_type": "stream",
     "text": [
      "2023-01-17 20:19:32,492 INFO sqlalchemy.engine.base.Engine \n",
      "SELECT bank_routing_number\n",
      "FROM banks\n",
      "WHERE bank_name = 'TD Bank'\n",
      "\n",
      "2023-01-17 20:19:32,493 INFO sqlalchemy.engine.base.Engine ()\n"
     ]
    }
   ],
   "source": [
    "# Execute the sql statement\n",
    "td_routing = engine.execute(sql_select)"
   ]
  },
  {
   "cell_type": "code",
   "execution_count": 8,
   "metadata": {},
   "outputs": [
    {
     "data": {
      "text/plain": [
       "[(905192010,)]"
      ]
     },
     "execution_count": 8,
     "metadata": {},
     "output_type": "execute_result"
    }
   ],
   "source": [
    "# List the TD routing number\n",
    "list(td_routing)"
   ]
  },
  {
   "cell_type": "markdown",
   "metadata": {},
   "source": [
    "## 7. Insert a new bank into the `banks` table. Once the query has been executed, confirm that the bank has been added to the list.\n",
    "\n",
    "   * Use a '10' for the `bank_id`.\n",
    "   * The bank name will be 'Royal Bank of Canada'.\n",
    "   * The bank routing number will be '345826917'."
   ]
  },
  {
   "cell_type": "code",
   "execution_count": 9,
   "metadata": {},
   "outputs": [],
   "source": [
    "# Insert a new bank, Royal Bank of Canada with a bank id of 10 and a routing number of 345826917\n",
    "sql_insert = \"\"\"\n",
    "INSERT INTO banks\n",
    "(bank_id, bank_name, bank_routing_number)\n",
    "VALUES\n",
    "('10', 'Royal Bank of Canada', '345826917')\n",
    "\"\"\""
   ]
  },
  {
   "cell_type": "code",
   "execution_count": 10,
   "metadata": {},
   "outputs": [
    {
     "name": "stdout",
     "output_type": "stream",
     "text": [
      "2023-01-17 20:20:10,307 INFO sqlalchemy.engine.base.Engine \n",
      "INSERT INTO banks\n",
      "(bank_id, bank_name, bank_routing_number)\n",
      "VALUES\n",
      "('10', 'Royal Bank of Canada', '345826917')\n",
      "\n",
      "2023-01-17 20:20:10,308 INFO sqlalchemy.engine.base.Engine ()\n",
      "2023-01-17 20:20:10,311 INFO sqlalchemy.engine.base.Engine COMMIT\n"
     ]
    },
    {
     "data": {
      "text/plain": [
       "<sqlalchemy.engine.result.ResultProxy at 0x7f983bb210d0>"
      ]
     },
     "execution_count": 10,
     "metadata": {},
     "output_type": "execute_result"
    }
   ],
   "source": [
    "# Execute the sql statement\n",
    "engine.execute(sql_insert)"
   ]
  },
  {
   "cell_type": "code",
   "execution_count": 11,
   "metadata": {},
   "outputs": [
    {
     "name": "stdout",
     "output_type": "stream",
     "text": [
      "2023-01-17 20:20:33,486 INFO sqlalchemy.engine.base.Engine SELECT * FROM banks\n",
      "2023-01-17 20:20:33,486 INFO sqlalchemy.engine.base.Engine ()\n"
     ]
    },
    {
     "data": {
      "text/plain": [
       "[('bank_id', 'bank_name', 'bank_routing_number'),\n",
       " (1, 'Bank of America', 198491827),\n",
       " (2, 'Wells Fargo', 629873495),\n",
       " (3, 'JPMorgan Chase', 2340903984),\n",
       " (4, 'Citigroup', 890123900),\n",
       " (5, 'TD Bank', 905192010),\n",
       " (6, 'Capital One', 184619239),\n",
       " (7, 'Ally Bank', 316289502),\n",
       " (8, 'Discover Bank', 639893944),\n",
       " (9, 'Bank of New York Mellon', 8734569384),\n",
       " (10, 'Royal Bank of Canada', 345826917)]"
      ]
     },
     "execution_count": 11,
     "metadata": {},
     "output_type": "execute_result"
    }
   ],
   "source": [
    "# List the banks to confirm the new bank was added\n",
    "list(engine.execute(\"SELECT * FROM banks\"))"
   ]
  },
  {
   "cell_type": "markdown",
   "metadata": {},
   "source": [
    "## 8. `WHERE` the bank id equals 10, `UPDATE` the bank name to 'RBC'. Confirm that the bank name has been updated."
   ]
  },
  {
   "cell_type": "code",
   "execution_count": 12,
   "metadata": {},
   "outputs": [],
   "source": [
    "# For the bank with and id of 10, update the bank name to 'RBC'\n",
    "sql_update = \"\"\"\n",
    "UPDATE banks\n",
    "SET bank_name = 'RBC'\n",
    "WHERE bank_id = 10\n",
    "\"\"\""
   ]
  },
  {
   "cell_type": "code",
   "execution_count": 13,
   "metadata": {},
   "outputs": [
    {
     "name": "stdout",
     "output_type": "stream",
     "text": [
      "2021-04-22 13:40:29,708 INFO sqlalchemy.engine.base.Engine \n",
      "UPDATE banks\n",
      "SET bank_name = 'RBC'\n",
      "WHERE bank_id = 10\n",
      "\n",
      "2021-04-22 13:40:29,709 INFO sqlalchemy.engine.base.Engine ()\n",
      "2021-04-22 13:40:29,711 INFO sqlalchemy.engine.base.Engine COMMIT\n"
     ]
    },
    {
     "data": {
      "text/plain": [
       "<sqlalchemy.engine.result.ResultProxy at 0x1af4e39e518>"
      ]
     },
     "execution_count": 13,
     "metadata": {},
     "output_type": "execute_result"
    }
   ],
   "source": [
    "# Execute the sql statement\n",
    "engine.execute(sql_update)"
   ]
  },
  {
   "cell_type": "code",
   "execution_count": 14,
   "metadata": {},
   "outputs": [
    {
     "name": "stdout",
     "output_type": "stream",
     "text": [
      "2021-04-22 13:40:29,746 INFO sqlalchemy.engine.base.Engine SELECT * FROM banks\n",
      "2021-04-22 13:40:29,747 INFO sqlalchemy.engine.base.Engine ()\n"
     ]
    },
    {
     "data": {
      "text/plain": [
       "[('bank_id', 'bank_name', 'bank_routing_number'),\n",
       " (1, 'Bank of America', 198491827),\n",
       " (2, 'Wells Fargo', 629873495),\n",
       " (3, 'JPMorgan Chase', 2340903984),\n",
       " (4, 'Citigroup', 890123900),\n",
       " (5, 'TD Bank', 905192010),\n",
       " (6, 'Capital One', 184619239),\n",
       " (7, 'Ally Bank', 316289502),\n",
       " (8, 'Discover Bank', 639893944),\n",
       " (9, 'Bank of New York Mellon', 8734569384),\n",
       " (10, 'RBC', 345826917)]"
      ]
     },
     "execution_count": 14,
     "metadata": {},
     "output_type": "execute_result"
    }
   ],
   "source": [
    "# List the banks to confirm the bank was updated\n",
    "list(engine.execute(\"SELECT * FROM banks\"))"
   ]
  },
  {
   "cell_type": "markdown",
   "metadata": {},
   "source": [
    "## 9. `DELETE` the bank where the bank id equals to 3 from `banks` table. Confirm that the bank has been deleted."
   ]
  },
  {
   "cell_type": "code",
   "execution_count": 15,
   "metadata": {},
   "outputs": [],
   "source": [
    "# Delete bank_id = 3 from the banks table\n",
    "sql_delete = \"\"\"\n",
    "DELETE FROM banks\n",
    "WHERE bank_id = 3\n",
    "\"\"\""
   ]
  },
  {
   "cell_type": "code",
   "execution_count": 16,
   "metadata": {},
   "outputs": [
    {
     "name": "stdout",
     "output_type": "stream",
     "text": [
      "2021-04-22 13:40:29,773 INFO sqlalchemy.engine.base.Engine \n",
      "DELETE FROM banks\n",
      "WHERE bank_id = 3\n",
      "\n",
      "2021-04-22 13:40:29,774 INFO sqlalchemy.engine.base.Engine ()\n",
      "2021-04-22 13:40:29,777 INFO sqlalchemy.engine.base.Engine COMMIT\n"
     ]
    },
    {
     "data": {
      "text/plain": [
       "<sqlalchemy.engine.result.ResultProxy at 0x1af4e3daf98>"
      ]
     },
     "execution_count": 16,
     "metadata": {},
     "output_type": "execute_result"
    }
   ],
   "source": [
    "# Execute the sql statement\n",
    "engine.execute(sql_delete)"
   ]
  },
  {
   "cell_type": "code",
   "execution_count": 17,
   "metadata": {},
   "outputs": [
    {
     "name": "stdout",
     "output_type": "stream",
     "text": [
      "2021-04-22 13:40:29,796 INFO sqlalchemy.engine.base.Engine SELECT * FROM banks\n",
      "2021-04-22 13:40:29,797 INFO sqlalchemy.engine.base.Engine ()\n"
     ]
    },
    {
     "data": {
      "text/plain": [
       "[('bank_id', 'bank_name', 'bank_routing_number'),\n",
       " (1, 'Bank of America', 198491827),\n",
       " (2, 'Wells Fargo', 629873495),\n",
       " (4, 'Citigroup', 890123900),\n",
       " (5, 'TD Bank', 905192010),\n",
       " (6, 'Capital One', 184619239),\n",
       " (7, 'Ally Bank', 316289502),\n",
       " (8, 'Discover Bank', 639893944),\n",
       " (9, 'Bank of New York Mellon', 8734569384),\n",
       " (10, 'RBC', 345826917)]"
      ]
     },
     "execution_count": 17,
     "metadata": {},
     "output_type": "execute_result"
    }
   ],
   "source": [
    "# List the banks to confirm the bank was deleted\n",
    "list(engine.execute(\"SELECT * FROM banks\"))"
   ]
  }
 ],
 "metadata": {
  "kernelspec": {
   "display_name": "Python 3.7.7 ('dev')",
   "language": "python",
   "name": "python3"
  },
  "language_info": {
   "codemirror_mode": {
    "name": "ipython",
    "version": 3
   },
   "file_extension": ".py",
   "mimetype": "text/x-python",
   "name": "python",
   "nbconvert_exporter": "python",
   "pygments_lexer": "ipython3",
   "version": "3.7.7"
  },
  "vscode": {
   "interpreter": {
    "hash": "9884bed4979a2914c15dfab891d1531785867eb88e0d188c4935f0c2efd71661"
   }
  }
 },
 "nbformat": 4,
 "nbformat_minor": 4
}
