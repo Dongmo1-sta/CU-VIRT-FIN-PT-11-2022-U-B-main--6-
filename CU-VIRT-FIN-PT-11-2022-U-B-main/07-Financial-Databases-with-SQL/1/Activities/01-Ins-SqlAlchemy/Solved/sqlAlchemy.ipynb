{
 "cells": [
  {
   "cell_type": "code",
   "execution_count": 1,
   "metadata": {},
   "outputs": [],
   "source": [
    "# Import modules\n",
    "import pandas as pd\n",
    "import sqlalchemy as sql"
   ]
  },
  {
   "cell_type": "markdown",
   "metadata": {},
   "source": [
    "## Create the SQLite database and engine"
   ]
  },
  {
   "cell_type": "code",
   "execution_count": 5,
   "metadata": {},
   "outputs": [],
   "source": [
    "# Create a temporary sqlite database\n",
    "database_connection_string = 'sqlite:///'"
   ]
  },
  {
   "cell_type": "code",
   "execution_count": 6,
   "metadata": {},
   "outputs": [
    {
     "data": {
      "text/plain": [
       "Engine(sqlite:///)"
      ]
     },
     "execution_count": 6,
     "metadata": {},
     "output_type": "execute_result"
    }
   ],
   "source": [
    "# Database connection object\n",
    "engine = sql.create_engine(database_connection_string)\n",
    "engine"
   ]
  },
  {
   "cell_type": "code",
   "execution_count": 7,
   "metadata": {},
   "outputs": [
    {
     "data": {
      "text/plain": [
       "[]"
      ]
     },
     "execution_count": 7,
     "metadata": {},
     "output_type": "execute_result"
    }
   ],
   "source": [
    "# Get table names from the database\n",
    "engine.table_names()"
   ]
  },
  {
   "cell_type": "markdown",
   "metadata": {},
   "source": [
    "## Create a Table From a Pandas DataFrame"
   ]
  },
  {
   "cell_type": "code",
   "execution_count": 21,
   "metadata": {},
   "outputs": [
    {
     "data": {
      "text/plain": [
       "['customers', 'mortgage', 'mortgages', 'payments']"
      ]
     },
     "execution_count": 21,
     "metadata": {},
     "output_type": "execute_result"
    }
   ],
   "source": [
    "# Create the DataFrame\n",
    "mortgage_dataframe = pd.DataFrame({'Amount': [100, 200], 'Rate': [0.375, 0.50]})\n",
    "# display(mortgage_dataframe)\n",
    "\n",
    "# Convert the DataFrame to a SQL table\n",
    "mortgage_dataframe.to_sql('mortgage', con=engine, index=False, if_exists='replace')\n",
    "\n",
    "# Confirm table creation\n",
    "engine.table_names()"
   ]
  },
  {
   "cell_type": "markdown",
   "metadata": {},
   "source": [
    "## Read in a Database File"
   ]
  },
  {
   "cell_type": "code",
   "execution_count": 14,
   "metadata": {},
   "outputs": [],
   "source": [
    "# Database filepath\n",
    "database_connection_string = 'sqlite:///../Resources/mortgage.db'"
   ]
  },
  {
   "cell_type": "code",
   "execution_count": 15,
   "metadata": {},
   "outputs": [
    {
     "data": {
      "text/plain": [
       "Engine(sqlite:///../Resources/mortgage.db)"
      ]
     },
     "execution_count": 15,
     "metadata": {},
     "output_type": "execute_result"
    }
   ],
   "source": [
    "# Database connection object\n",
    "engine = sql.create_engine(database_connection_string)\n",
    "engine"
   ]
  },
  {
   "cell_type": "code",
   "execution_count": 16,
   "metadata": {},
   "outputs": [
    {
     "data": {
      "text/plain": [
       "['customers', 'mortgages', 'payments']"
      ]
     },
     "execution_count": 16,
     "metadata": {},
     "output_type": "execute_result"
    }
   ],
   "source": [
    "# Get table names from the database\n",
    "engine.table_names()"
   ]
  },
  {
   "cell_type": "markdown",
   "metadata": {},
   "source": [
    "# Review a table as a Pandas DataFrame"
   ]
  },
  {
   "cell_type": "code",
   "execution_count": 18,
   "metadata": {},
   "outputs": [
    {
     "data": {
      "text/html": [
       "<div>\n",
       "<style scoped>\n",
       "    .dataframe tbody tr th:only-of-type {\n",
       "        vertical-align: middle;\n",
       "    }\n",
       "\n",
       "    .dataframe tbody tr th {\n",
       "        vertical-align: top;\n",
       "    }\n",
       "\n",
       "    .dataframe thead th {\n",
       "        text-align: right;\n",
       "    }\n",
       "</style>\n",
       "<table border=\"1\" class=\"dataframe\">\n",
       "  <thead>\n",
       "    <tr style=\"text-align: right;\">\n",
       "      <th></th>\n",
       "      <th>mortgage_id</th>\n",
       "      <th>principal_balance</th>\n",
       "      <th>mortgage_rate</th>\n",
       "      <th>account_creation_date</th>\n",
       "      <th>originator_id</th>\n",
       "    </tr>\n",
       "  </thead>\n",
       "  <tbody>\n",
       "    <tr>\n",
       "      <th>0</th>\n",
       "      <td>530180</td>\n",
       "      <td>611789</td>\n",
       "      <td>0.085190</td>\n",
       "      <td>2002-05-08</td>\n",
       "      <td>1004</td>\n",
       "    </tr>\n",
       "    <tr>\n",
       "      <th>1</th>\n",
       "      <td>625617</td>\n",
       "      <td>210981</td>\n",
       "      <td>0.084514</td>\n",
       "      <td>2006-04-15</td>\n",
       "      <td>1000</td>\n",
       "    </tr>\n",
       "    <tr>\n",
       "      <th>2</th>\n",
       "      <td>588605</td>\n",
       "      <td>172969</td>\n",
       "      <td>0.047487</td>\n",
       "      <td>2008-05-01</td>\n",
       "      <td>1009</td>\n",
       "    </tr>\n",
       "    <tr>\n",
       "      <th>3</th>\n",
       "      <td>761909</td>\n",
       "      <td>514980</td>\n",
       "      <td>0.053687</td>\n",
       "      <td>2004-06-12</td>\n",
       "      <td>1001</td>\n",
       "    </tr>\n",
       "    <tr>\n",
       "      <th>4</th>\n",
       "      <td>613158</td>\n",
       "      <td>343757</td>\n",
       "      <td>0.040572</td>\n",
       "      <td>2005-10-14</td>\n",
       "      <td>1001</td>\n",
       "    </tr>\n",
       "  </tbody>\n",
       "</table>\n",
       "</div>"
      ],
      "text/plain": [
       "  mortgage_id  principal_balance  mortgage_rate account_creation_date  \\\n",
       "0      530180             611789       0.085190            2002-05-08   \n",
       "1      625617             210981       0.084514            2006-04-15   \n",
       "2      588605             172969       0.047487            2008-05-01   \n",
       "3      761909             514980       0.053687            2004-06-12   \n",
       "4      613158             343757       0.040572            2005-10-14   \n",
       "\n",
       "   originator_id  \n",
       "0           1004  \n",
       "1           1000  \n",
       "2           1009  \n",
       "3           1001  \n",
       "4           1001  "
      ]
     },
     "execution_count": 18,
     "metadata": {},
     "output_type": "execute_result"
    }
   ],
   "source": [
    "# Create the Pandas DataFrame from a database table\n",
    "mortgage_customers_df = pd.read_sql_table('mortgages', con=engine)\n",
    "\n",
    "# Review the DataFrame\n",
    "mortgage_customers_df.head()"
   ]
  },
  {
   "cell_type": "code",
   "execution_count": null,
   "metadata": {},
   "outputs": [],
   "source": []
  }
 ],
 "metadata": {
  "kernelspec": {
   "display_name": "Python 3.7.7 ('dev')",
   "language": "python",
   "name": "python3"
  },
  "language_info": {
   "codemirror_mode": {
    "name": "ipython",
    "version": 3
   },
   "file_extension": ".py",
   "mimetype": "text/x-python",
   "name": "python",
   "nbconvert_exporter": "python",
   "pygments_lexer": "ipython3",
   "version": "3.7.7"
  },
  "vscode": {
   "interpreter": {
    "hash": "9884bed4979a2914c15dfab891d1531785867eb88e0d188c4935f0c2efd71661"
   }
  }
 },
 "nbformat": 4,
 "nbformat_minor": 4
}
